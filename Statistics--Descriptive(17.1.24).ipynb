{
 "cells": [
  {
   "cell_type": "code",
   "execution_count": 2,
   "id": "09d81942",
   "metadata": {},
   "outputs": [],
   "source": [
    "Exp=[1,2,3,4,5]\n",
    "Salary=[1000,2400,3600,7800,10500]"
   ]
  },
  {
   "cell_type": "code",
   "execution_count": 3,
   "id": "f8e380b7",
   "metadata": {},
   "outputs": [],
   "source": [
    "import numpy as np"
   ]
  },
  {
   "cell_type": "code",
   "execution_count": 5,
   "id": "34a874b8",
   "metadata": {},
   "outputs": [
    {
     "data": {
      "text/plain": [
       "3.0"
      ]
     },
     "execution_count": 5,
     "metadata": {},
     "output_type": "execute_result"
    }
   ],
   "source": [
    "Exp_mean= np.mean(Exp)\n",
    "Exp_mean"
   ]
  },
  {
   "cell_type": "code",
   "execution_count": 6,
   "id": "e114e8e5",
   "metadata": {},
   "outputs": [
    {
     "data": {
      "text/plain": [
       "1.4142135623730951"
      ]
     },
     "execution_count": 6,
     "metadata": {},
     "output_type": "execute_result"
    }
   ],
   "source": [
    "Exp_st_dev= np.std(Exp)\n",
    "Exp_st_dev"
   ]
  },
  {
   "cell_type": "code",
   "execution_count": 7,
   "id": "b9cb50b4",
   "metadata": {},
   "outputs": [],
   "source": [
    "Exp_St_data= (Exp-Exp_mean)/Exp_st_dev"
   ]
  },
  {
   "cell_type": "code",
   "execution_count": 8,
   "id": "7935cd81",
   "metadata": {},
   "outputs": [
    {
     "data": {
      "text/plain": [
       "array([-1.41421356, -0.70710678,  0.        ,  0.70710678,  1.41421356])"
      ]
     },
     "execution_count": 8,
     "metadata": {},
     "output_type": "execute_result"
    }
   ],
   "source": [
    "Exp_St_data"
   ]
  },
  {
   "cell_type": "code",
   "execution_count": 10,
   "id": "f78fe33d",
   "metadata": {},
   "outputs": [
    {
     "data": {
      "text/plain": [
       "5060.0"
      ]
     },
     "execution_count": 10,
     "metadata": {},
     "output_type": "execute_result"
    }
   ],
   "source": [
    "Salary_mean= np.mean(Salary)\n",
    "Salary_mean"
   ]
  },
  {
   "cell_type": "code",
   "execution_count": 11,
   "id": "74407a75",
   "metadata": {},
   "outputs": [
    {
     "data": {
      "text/plain": [
       "3543.783289085268"
      ]
     },
     "execution_count": 11,
     "metadata": {},
     "output_type": "execute_result"
    }
   ],
   "source": [
    "Salary_std_dev= np.std(Salary)\n",
    "Salary_std_dev"
   ]
  },
  {
   "cell_type": "code",
   "execution_count": 12,
   "id": "f3969176",
   "metadata": {},
   "outputs": [
    {
     "data": {
      "text/plain": [
       "array([-1.14566825, -0.75061023, -0.41198908,  0.77318498,  1.53508258])"
      ]
     },
     "execution_count": 12,
     "metadata": {},
     "output_type": "execute_result"
    }
   ],
   "source": [
    "Salary_Std_Data= (Salary-Salary_mean)/Salary_std_dev\n",
    "Salary_Std_Data"
   ]
  },
  {
   "cell_type": "code",
   "execution_count": 13,
   "id": "5b16df9b",
   "metadata": {},
   "outputs": [
    {
     "data": {
      "text/plain": [
       "array([-1.41421356, -0.70710678,  0.        ,  0.70710678,  1.41421356])"
      ]
     },
     "execution_count": 13,
     "metadata": {},
     "output_type": "execute_result"
    }
   ],
   "source": [
    "Exp_St_data"
   ]
  },
  {
   "cell_type": "code",
   "execution_count": 14,
   "id": "2ec2eeb4",
   "metadata": {},
   "outputs": [
    {
     "data": {
      "text/plain": [
       "0.0"
      ]
     },
     "execution_count": 14,
     "metadata": {},
     "output_type": "execute_result"
    }
   ],
   "source": [
    "np.mean(Salary_Std_Data)"
   ]
  },
  {
   "cell_type": "code",
   "execution_count": 15,
   "id": "78876d16",
   "metadata": {},
   "outputs": [
    {
     "data": {
      "text/plain": [
       "1.0"
      ]
     },
     "execution_count": 15,
     "metadata": {},
     "output_type": "execute_result"
    }
   ],
   "source": [
    "np.std(Salary_Std_Data)"
   ]
  },
  {
   "cell_type": "code",
   "execution_count": 16,
   "id": "ccd6cd4b",
   "metadata": {},
   "outputs": [
    {
     "data": {
      "text/plain": [
       "0.0"
      ]
     },
     "execution_count": 16,
     "metadata": {},
     "output_type": "execute_result"
    }
   ],
   "source": [
    "np.mean(Exp_St_data)"
   ]
  },
  {
   "cell_type": "code",
   "execution_count": 17,
   "id": "9de3d906",
   "metadata": {},
   "outputs": [
    {
     "data": {
      "text/plain": [
       "0.9999999999999999"
      ]
     },
     "execution_count": 17,
     "metadata": {},
     "output_type": "execute_result"
    }
   ],
   "source": [
    "np.std(Exp_St_data)"
   ]
  },
  {
   "cell_type": "code",
   "execution_count": 18,
   "id": "fd78393b",
   "metadata": {},
   "outputs": [
    {
     "data": {
      "text/plain": [
       "[1000, 2400, 3600, 7800, 10500]"
      ]
     },
     "execution_count": 18,
     "metadata": {},
     "output_type": "execute_result"
    }
   ],
   "source": [
    "Salary"
   ]
  },
  {
   "cell_type": "code",
   "execution_count": 19,
   "id": "170a19f5",
   "metadata": {},
   "outputs": [
    {
     "data": {
      "text/plain": [
       "array([-1.14566825, -0.75061023, -0.41198908,  0.77318498,  1.53508258])"
      ]
     },
     "execution_count": 19,
     "metadata": {},
     "output_type": "execute_result"
    }
   ],
   "source": [
    "Salary_Std_Data"
   ]
  },
  {
   "cell_type": "markdown",
   "id": "30754331",
   "metadata": {},
   "source": [
    "## Statistics"
   ]
  },
  {
   "cell_type": "code",
   "execution_count": 5,
   "id": "2bd6d2fa",
   "metadata": {},
   "outputs": [],
   "source": [
    "import pandas as pd\n",
    "import scipy.stats as stats"
   ]
  },
  {
   "cell_type": "code",
   "execution_count": 16,
   "id": "9511b6b5",
   "metadata": {},
   "outputs": [
    {
     "data": {
      "text/plain": [
       "array([50.07696392, 47.0056704 , 58.36307899, 48.34978198, 49.67851108,\n",
       "       63.46375386, 46.33912156, 54.72261029, 55.96139914, 52.78405961,\n",
       "       52.22999827, 48.83460662, 48.77983048, 47.20219125, 57.74222283,\n",
       "       51.2334944 , 51.2338917 , 49.78128613, 54.0785507 , 41.50964101,\n",
       "       46.62809139, 43.29228765, 50.97379531, 52.2120292 , 51.85302535,\n",
       "       49.91773195, 51.64592734, 43.78005303, 55.88256941, 48.65802082,\n",
       "       52.25864331, 57.57923481, 48.67451813, 44.91553568, 46.07934053,\n",
       "       50.76902747, 52.05168542, 51.32966569, 47.35125918, 52.31306363,\n",
       "       47.32543079, 57.58024642, 48.48939017, 43.49792124, 48.59508791,\n",
       "       58.87676691, 52.87916931, 50.52623453, 57.50615434, 53.03149708,\n",
       "       50.3427733 , 46.0115828 , 46.52379627, 48.49721759, 50.79151291,\n",
       "       55.95594072, 46.03235014, 53.78995796, 48.5627148 , 49.15915171,\n",
       "       53.93461616, 50.09224077, 49.58033474, 50.98232936, 48.12447563,\n",
       "       55.85597714, 58.10571441, 56.62738751, 53.96865967, 57.35504557,\n",
       "       48.52910473, 55.88837276, 53.97891268, 42.76087887, 47.64534338,\n",
       "       44.71142285, 51.751124  , 54.41717362, 50.48757928, 39.17985807,\n",
       "       46.48938477, 42.94524571, 52.35595674, 56.33407713, 48.9879363 ,\n",
       "       47.2298914 , 49.61060896, 47.48383262, 52.97514063, 47.08664083,\n",
       "       45.914382  , 49.74983364, 50.56729003, 45.46855305, 50.51520441,\n",
       "       41.20328039, 38.08334541, 51.13745605, 53.18046745, 50.84311053])"
      ]
     },
     "execution_count": 16,
     "metadata": {},
     "output_type": "execute_result"
    }
   ],
   "source": [
    "stats1=stats.norm.rvs(size=100,loc=50,scale=5)\n",
    "stats1"
   ]
  },
  {
   "cell_type": "code",
   "execution_count": 18,
   "id": "e16018c4",
   "metadata": {},
   "outputs": [],
   "source": [
    "stats_df=pd.DataFrame(stats1)"
   ]
  },
  {
   "cell_type": "code",
   "execution_count": 20,
   "id": "43b752b4",
   "metadata": {},
   "outputs": [
    {
     "data": {
      "text/plain": [
       "<Axes: ylabel='Density'>"
      ]
     },
     "execution_count": 20,
     "metadata": {},
     "output_type": "execute_result"
    },
    {
     "data": {
      "image/png": "[encoded data removed]",
      "text/plain": [
       "<Figure size 640x480 with 1 Axes>"
      ]
     },
     "metadata": {},
     "output_type": "display_data"
    }
   ],
   "source": [
    "stats_df.plot(kind='density')"
   ]
  },
  {
   "cell_type": "code",
   "execution_count": 31,
   "id": "1e3c91b7",
   "metadata": {},
   "outputs": [
    {
     "data": {
      "text/plain": [
       "array([242.57648725, 244.7395919 , 189.39955408, 205.92503782,\n",
       "       175.85243255, 201.86481059, 214.70431943, 243.91808801,\n",
       "       230.13903877, 186.25853996, 170.0842916 , 152.77677926,\n",
       "       170.04426886, 247.78260533, 183.82711132, 215.37030502,\n",
       "       183.80467308, 231.4999128 , 231.91125002, 177.35450995,\n",
       "       207.38320508, 180.30301353, 236.3539506 , 191.92628743,\n",
       "       188.81277901, 228.42552386, 232.46606096, 157.55675387,\n",
       "       172.01858564, 247.78109616, 165.12242405, 220.97218895,\n",
       "       237.14229569, 186.36181633, 166.45069164, 227.05169592,\n",
       "       240.27622013, 232.39324755, 235.00034901, 180.86283099,\n",
       "       166.70297232, 241.41858899, 243.79191789, 179.08355192,\n",
       "       178.34377104, 170.52345132, 187.18129391, 226.42161525,\n",
       "       174.4518382 , 180.40987197, 216.84534192, 168.35574466,\n",
       "       156.80294588, 249.31085457, 248.83430586, 180.3926567 ,\n",
       "       229.90381911, 222.47042038, 163.31700384, 229.19595006,\n",
       "       243.0915724 , 202.46085705, 188.82649989, 197.841706  ,\n",
       "       229.52226014, 152.87981735, 223.20398587, 173.73164436,\n",
       "       165.89912696, 214.52230215, 154.36741362, 220.90641427,\n",
       "       198.4416615 , 222.57064899, 164.79209017, 164.71097192,\n",
       "       216.35041905, 229.46002234, 169.22303512, 175.21941587,\n",
       "       241.8965766 , 191.04913964, 242.69388973, 205.42859663,\n",
       "       226.90952806, 205.93404977, 244.61718923, 235.35229764,\n",
       "       210.89704148, 219.80699647, 234.57373814, 178.75729948,\n",
       "       238.14936778, 247.68259118, 230.40896086, 156.39413409,\n",
       "       160.34671623, 153.89369749, 164.36501735, 179.97296675,\n",
       "       161.13288457, 156.16843711, 205.18243042, 189.59135353,\n",
       "       158.5539452 , 213.13777415, 240.96656338, 204.28387195,\n",
       "       170.30830111, 222.3372523 , 192.97687827, 224.65012934,\n",
       "       181.0147887 , 234.96741332, 151.20966969, 195.28782942,\n",
       "       165.14152851, 201.42255435, 217.28432177, 175.31780955,\n",
       "       238.03137644, 175.74859452, 206.39224883, 234.29418479,\n",
       "       157.04995091, 195.96591678, 202.78754294, 243.73564258,\n",
       "       199.24033191, 234.27606713, 211.56721896, 228.56400761,\n",
       "       177.54368661, 160.00183116, 222.86722972, 216.20771352,\n",
       "       151.2948132 , 216.13531217, 184.20563006, 159.92350169,\n",
       "       238.35853124, 170.54593096, 183.34747904, 178.4693088 ,\n",
       "       204.22080057, 193.13854661, 247.60028316, 163.45488931,\n",
       "       168.27471276, 178.96294017, 242.04393073, 182.90820166,\n",
       "       211.66765934, 191.91853873, 214.02315876, 204.91337622,\n",
       "       223.0780589 , 242.12118583, 163.65990902, 243.25680829,\n",
       "       249.92410056, 172.9735216 , 194.24959512, 180.01271209,\n",
       "       177.45903309, 214.76374054, 166.6570885 , 238.05067379,\n",
       "       208.25901171, 220.659289  , 186.51285292, 194.22376943,\n",
       "       200.52656665, 153.71468736, 187.09071479, 242.59904748,\n",
       "       158.9390247 , 204.77298146, 201.26900938, 175.60886267,\n",
       "       178.41661825, 174.99519114, 234.80007823, 240.63464424,\n",
       "       189.51983703, 157.68130859, 189.0334444 , 209.42878697,\n",
       "       188.85683126, 171.86286535, 172.67716718, 190.24151965,\n",
       "       235.74611319, 165.07892789, 223.49926606, 221.92532931,\n",
       "       168.86802168, 186.69276486, 195.87770518, 194.08429853])"
      ]
     },
     "execution_count": 31,
     "metadata": {},
     "output_type": "execute_result"
    }
   ],
   "source": [
    "stats_uni=stats.uniform.rvs(size=200, loc=150, scale=100)\n",
    "stats_uni"
   ]
  },
  {
   "cell_type": "code",
   "execution_count": 32,
   "id": "73678065",
   "metadata": {},
   "outputs": [],
   "source": [
    "stats_uni_df= pd.DataFrame(stats_uni)"
   ]
  },
  {
   "cell_type": "code",
   "execution_count": 33,
   "id": "16098bae",
   "metadata": {},
   "outputs": [
    {
     "data": {
      "text/plain": [
       "<Axes: ylabel='Density'>"
      ]
     },
     "execution_count": 33,
     "metadata": {},
     "output_type": "execute_result"
    },
    {
     "data": {
      "image/png": "[encoded data removed]",
      "text/plain": [
       "<Figure size 640x480 with 1 Axes>"
      ]
     },
     "metadata": {},
     "output_type": "display_data"
    }
   ],
   "source": [
    "stats_uni_df.plot(kind='density')"
   ]
  },
  {
   "cell_type": "code",
   "execution_count": null,
   "id": "db9b2929",
   "metadata": {},
   "outputs": [],
   "source": []
  }
 ],
 "metadata": {
  "kernelspec": {
   "display_name": "Python 3 (ipykernel)",
   "language": "python",
   "name": "python3"
  },
  "language_info": {
   "codemirror_mode": {
    "name": "ipython",
    "version": 3
   },
   "file_extension": ".py",
   "mimetype": "text/x-python",
   "name": "python",
   "nbconvert_exporter": "python",
   "pygments_lexer": "ipython3",
   "version": "3.11.5"
  }
 },
 "nbformat": 4,
 "nbformat_minor": 5
}
