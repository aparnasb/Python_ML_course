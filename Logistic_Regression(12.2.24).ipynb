{
 "cells": [
  {
   "cell_type": "markdown",
   "id": "fcfd043d",
   "metadata": {},
   "source": [
    "## Logistic_Regressiion"
   ]
  },
  {
   "cell_type": "code",
   "execution_count": 36,
   "id": "788cbd25",
   "metadata": {},
   "outputs": [],
   "source": [
    "import pandas as pd\n",
    "import numpy as np\n",
    "import matplotlib.pyplot as plt\n",
    "from sklearn.model_selection import train_test_split,GridSearchCV\n",
    "from sklearn.neighbors import KNeighborsClassifier\n",
    "from sklearn.metrics import accuracy_score"
   ]
  },
  {
   "cell_type": "code",
   "execution_count": 19,
   "id": "4d7e2a8a",
   "metadata": {},
   "outputs": [],
   "source": [
    "df1= pd.read_csv('Admission.csv')"
   ]
  },
  {
   "cell_type": "code",
   "execution_count": 20,
   "id": "3ac3dc59",
   "metadata": {},
   "outputs": [
    {
     "data": {
      "text/html": [
       "<div>\n",
       "<style scoped>\n",
       "    .dataframe tbody tr th:only-of-type {\n",
       "        vertical-align: middle;\n",
       "    }\n",
       "\n",
       "    .dataframe tbody tr th {\n",
       "        vertical-align: top;\n",
       "    }\n",
       "\n",
       "    .dataframe thead th {\n",
       "        text-align: right;\n",
       "    }\n",
       "</style>\n",
       "<table border=\"1\" class=\"dataframe\">\n",
       "  <thead>\n",
       "    <tr style=\"text-align: right;\">\n",
       "      <th></th>\n",
       "      <th>ADMIT</th>\n",
       "      <th>GRE</th>\n",
       "      <th>GPA</th>\n",
       "      <th>RANK</th>\n",
       "    </tr>\n",
       "  </thead>\n",
       "  <tbody>\n",
       "    <tr>\n",
       "      <th>0</th>\n",
       "      <td>0</td>\n",
       "      <td>380</td>\n",
       "      <td>3.61</td>\n",
       "      <td>3</td>\n",
       "    </tr>\n",
       "    <tr>\n",
       "      <th>1</th>\n",
       "      <td>1</td>\n",
       "      <td>660</td>\n",
       "      <td>3.67</td>\n",
       "      <td>3</td>\n",
       "    </tr>\n",
       "    <tr>\n",
       "      <th>2</th>\n",
       "      <td>1</td>\n",
       "      <td>800</td>\n",
       "      <td>4.00</td>\n",
       "      <td>1</td>\n",
       "    </tr>\n",
       "    <tr>\n",
       "      <th>3</th>\n",
       "      <td>1</td>\n",
       "      <td>640</td>\n",
       "      <td>3.19</td>\n",
       "      <td>4</td>\n",
       "    </tr>\n",
       "    <tr>\n",
       "      <th>4</th>\n",
       "      <td>0</td>\n",
       "      <td>520</td>\n",
       "      <td>2.93</td>\n",
       "      <td>4</td>\n",
       "    </tr>\n",
       "  </tbody>\n",
       "</table>\n",
       "</div>"
      ],
      "text/plain": [
       "   ADMIT  GRE   GPA  RANK\n",
       "0      0  380  3.61     3\n",
       "1      1  660  3.67     3\n",
       "2      1  800  4.00     1\n",
       "3      1  640  3.19     4\n",
       "4      0  520  2.93     4"
      ]
     },
     "execution_count": 20,
     "metadata": {},
     "output_type": "execute_result"
    }
   ],
   "source": [
    "df1.head()"
   ]
  },
  {
   "cell_type": "code",
   "execution_count": 21,
   "id": "cc3ddeeb",
   "metadata": {},
   "outputs": [],
   "source": [
    "target=df1[['ADMIT']]\n",
    "features=df1.drop('ADMIT',axis=1)"
   ]
  },
  {
   "cell_type": "code",
   "execution_count": 22,
   "id": "b92b5090",
   "metadata": {},
   "outputs": [],
   "source": [
    "x_train,x_test,y_train,y_test= train_test_split(features,target,train_size=0.75,random_state=100)"
   ]
  },
  {
   "cell_type": "code",
   "execution_count": 23,
   "id": "d0771283",
   "metadata": {},
   "outputs": [
    {
     "name": "stdout",
     "output_type": "stream",
     "text": [
      "(300, 3)\n",
      "(100, 3)\n",
      "(300, 1)\n",
      "(100, 1)\n"
     ]
    }
   ],
   "source": [
    "print(x_train.shape)\n",
    "print(x_test.shape)\n",
    "print(y_train.shape)\n",
    "print(y_test.shape)"
   ]
  },
  {
   "cell_type": "code",
   "execution_count": 24,
   "id": "7149b5c7",
   "metadata": {},
   "outputs": [],
   "source": [
    "from sklearn.linear_model import LogisticRegression"
   ]
  },
  {
   "cell_type": "code",
   "execution_count": 25,
   "id": "ad9feb05",
   "metadata": {},
   "outputs": [],
   "source": [
    "log_model= LogisticRegression()"
   ]
  },
  {
   "cell_type": "code",
   "execution_count": 26,
   "id": "302b1e99",
   "metadata": {},
   "outputs": [
    {
     "name": "stderr",
     "output_type": "stream",
     "text": [
      "C:\\Users\\excel\\anaconda3\\Lib\\site-packages\\sklearn\\utils\\validation.py:1184: DataConversionWarning: A column-vector y was passed when a 1d array was expected. Please change the shape of y to (n_samples, ), for example using ravel().\n",
      "  y = column_or_1d(y, warn=True)\n"
     ]
    },
    {
     "data": {
      "text/html": [
       "<style>#sk-container-id-2 {color: black;}#sk-container-id-2 pre{padding: 0;}#sk-container-id-2 div.sk-toggleable {background-color: white;}#sk-container-id-2 label.sk-toggleable__label {cursor: pointer;display: block;width: 100%;margin-bottom: 0;padding: 0.3em;box-sizing: border-box;text-align: center;}#sk-container-id-2 label.sk-toggleable__label-arrow:before {content: \"▸\";float: left;margin-right: 0.25em;color: #696969;}#sk-container-id-2 label.sk-toggleable__label-arrow:hover:before {color: black;}#sk-container-id-2 div.sk-estimator:hover label.sk-toggleable__label-arrow:before {color: black;}#sk-container-id-2 div.sk-toggleable__content {max-height: 0;max-width: 0;overflow: hidden;text-align: left;background-color: #f0f8ff;}#sk-container-id-2 div.sk-toggleable__content pre {margin: 0.2em;color: black;border-radius: 0.25em;background-color: #f0f8ff;}#sk-container-id-2 input.sk-toggleable__control:checked~div.sk-toggleable__content {max-height: 200px;max-width: 100%;overflow: auto;}#sk-container-id-2 input.sk-toggleable__control:checked~label.sk-toggleable__label-arrow:before {content: \"▾\";}#sk-container-id-2 div.sk-estimator input.sk-toggleable__control:checked~label.sk-toggleable__label {background-color: #d4ebff;}#sk-container-id-2 div.sk-label input.sk-toggleable__control:checked~label.sk-toggleable__label {background-color: #d4ebff;}#sk-container-id-2 input.sk-hidden--visually {border: 0;clip: rect(1px 1px 1px 1px);clip: rect(1px, 1px, 1px, 1px);height: 1px;margin: -1px;overflow: hidden;padding: 0;position: absolute;width: 1px;}#sk-container-id-2 div.sk-estimator {font-family: monospace;background-color: #f0f8ff;border: 1px dotted black;border-radius: 0.25em;box-sizing: border-box;margin-bottom: 0.5em;}#sk-container-id-2 div.sk-estimator:hover {background-color: #d4ebff;}#sk-container-id-2 div.sk-parallel-item::after {content: \"\";width: 100%;border-bottom: 1px solid gray;flex-grow: 1;}#sk-container-id-2 div.sk-label:hover label.sk-toggleable__label {background-color: #d4ebff;}#sk-container-id-2 div.sk-serial::before {content: \"\";position: absolute;border-left: 1px solid gray;box-sizing: border-box;top: 0;bottom: 0;left: 50%;z-index: 0;}#sk-container-id-2 div.sk-serial {display: flex;flex-direction: column;align-items: center;background-color: white;padding-right: 0.2em;padding-left: 0.2em;position: relative;}#sk-container-id-2 div.sk-item {position: relative;z-index: 1;}#sk-container-id-2 div.sk-parallel {display: flex;align-items: stretch;justify-content: center;background-color: white;position: relative;}#sk-container-id-2 div.sk-item::before, #sk-container-id-2 div.sk-parallel-item::before {content: \"\";position: absolute;border-left: 1px solid gray;box-sizing: border-box;top: 0;bottom: 0;left: 50%;z-index: -1;}#sk-container-id-2 div.sk-parallel-item {display: flex;flex-direction: column;z-index: 1;position: relative;background-color: white;}#sk-container-id-2 div.sk-parallel-item:first-child::after {align-self: flex-end;width: 50%;}#sk-container-id-2 div.sk-parallel-item:last-child::after {align-self: flex-start;width: 50%;}#sk-container-id-2 div.sk-parallel-item:only-child::after {width: 0;}#sk-container-id-2 div.sk-dashed-wrapped {border: 1px dashed gray;margin: 0 0.4em 0.5em 0.4em;box-sizing: border-box;padding-bottom: 0.4em;background-color: white;}#sk-container-id-2 div.sk-label label {font-family: monospace;font-weight: bold;display: inline-block;line-height: 1.2em;}#sk-container-id-2 div.sk-label-container {text-align: center;}#sk-container-id-2 div.sk-container {/* jupyter's `normalize.less` sets `[hidden] { display: none; }` but bootstrap.min.css set `[hidden] { display: none !important; }` so we also need the `!important` here to be able to override the default hidden behavior on the sphinx rendered scikit-learn.org. See: https://github.com/scikit-learn/scikit-learn/issues/21755 */display: inline-block !important;position: relative;}#sk-container-id-2 div.sk-text-repr-fallback {display: none;}</style><div id=\"sk-container-id-2\" class=\"sk-top-container\"><div class=\"sk-text-repr-fallback\"><pre>LogisticRegression()</pre><b>In a Jupyter environment, please rerun this cell to show the HTML representation or trust the notebook. <br />On GitHub, the HTML representation is unable to render, please try loading this page with nbviewer.org.</b></div><div class=\"sk-container\" hidden><div class=\"sk-item\"><div class=\"sk-estimator sk-toggleable\"><input class=\"sk-toggleable__control sk-hidden--visually\" id=\"sk-estimator-id-2\" type=\"checkbox\" checked><label for=\"sk-estimator-id-2\" class=\"sk-toggleable__label sk-toggleable__label-arrow\">LogisticRegression</label><div class=\"sk-toggleable__content\"><pre>LogisticRegression()</pre></div></div></div></div></div>"
      ],
      "text/plain": [
       "LogisticRegression()"
      ]
     },
     "execution_count": 26,
     "metadata": {},
     "output_type": "execute_result"
    }
   ],
   "source": [
    "log_model.fit(x_train,y_train)"
   ]
  },
  {
   "cell_type": "code",
   "execution_count": 27,
   "id": "ec92d083",
   "metadata": {},
   "outputs": [],
   "source": [
    "y_pred= log_model.predict(x_test)"
   ]
  },
  {
   "cell_type": "code",
   "execution_count": 28,
   "id": "cb216aee",
   "metadata": {},
   "outputs": [
    {
     "data": {
      "text/plain": [
       "array([0, 0, 1, 0, 0, 0, 0, 0, 0, 0, 0, 0, 0, 0, 0, 0, 0, 0, 0, 0, 0, 0,\n",
       "       0, 0, 0, 0, 0, 0, 0, 0, 0, 0, 1, 0, 0, 0, 0, 0, 0, 1, 0, 0, 0, 1,\n",
       "       0, 0, 0, 0, 0, 1, 0, 0, 0, 0, 0, 0, 0, 0, 0, 0, 0, 0, 0, 0, 0, 0,\n",
       "       0, 0, 0, 0, 0, 0, 0, 1, 0, 0, 0, 0, 0, 1, 0, 0, 0, 1, 0, 0, 0, 0,\n",
       "       0, 0, 1, 0, 0, 1, 0, 0, 0, 0, 1, 0], dtype=int64)"
      ]
     },
     "execution_count": 28,
     "metadata": {},
     "output_type": "execute_result"
    }
   ],
   "source": [
    "y_pred"
   ]
  },
  {
   "cell_type": "code",
   "execution_count": 29,
   "id": "5e1288bd",
   "metadata": {},
   "outputs": [
    {
     "data": {
      "text/plain": [
       "ADMIT\n",
       "0    273\n",
       "1    127\n",
       "Name: count, dtype: int64"
      ]
     },
     "execution_count": 29,
     "metadata": {},
     "output_type": "execute_result"
    }
   ],
   "source": [
    "df1.ADMIT.value_counts()"
   ]
  },
  {
   "cell_type": "code",
   "execution_count": 42,
   "id": "ac9e3745",
   "metadata": {},
   "outputs": [],
   "source": [
    "## changing the thershold value as  greater than 0.4\n",
    "y_pred_new=[1 if x[1]>0.4 else 0 for x in log_model.predict_proba(x_test)]"
   ]
  },
  {
   "cell_type": "code",
   "execution_count": 43,
   "id": "605b7e8c",
   "metadata": {},
   "outputs": [],
   "source": [
    "y_pred_new1=[0 if x[0]>0.6 else 1 for x in log_model.predict_proba(x_test)]"
   ]
  },
  {
   "cell_type": "code",
   "execution_count": 30,
   "id": "5151cc22",
   "metadata": {},
   "outputs": [
    {
     "data": {
      "text/plain": [
       "array([[0.68252193, 0.31747807],\n",
       "       [0.87744779, 0.12255221],\n",
       "       [0.48256058, 0.51743942],\n",
       "       [0.86679746, 0.13320254],\n",
       "       [0.93027558, 0.06972442],\n",
       "       [0.69139854, 0.30860146],\n",
       "       [0.61164889, 0.38835111],\n",
       "       [0.82789895, 0.17210105],\n",
       "       [0.78305594, 0.21694406],\n",
       "       [0.73953192, 0.26046808],\n",
       "       [0.88266987, 0.11733013],\n",
       "       [0.58036674, 0.41963326],\n",
       "       [0.84853288, 0.15146712],\n",
       "       [0.73136097, 0.26863903],\n",
       "       [0.62976917, 0.37023083],\n",
       "       [0.86314428, 0.13685572],\n",
       "       [0.58562528, 0.41437472],\n",
       "       [0.88252094, 0.11747906],\n",
       "       [0.82980417, 0.17019583],\n",
       "       [0.83263704, 0.16736296],\n",
       "       [0.87632849, 0.12367151],\n",
       "       [0.70645687, 0.29354313],\n",
       "       [0.60348332, 0.39651668],\n",
       "       [0.52062454, 0.47937546],\n",
       "       [0.53629978, 0.46370022],\n",
       "       [0.77364866, 0.22635134],\n",
       "       [0.74850836, 0.25149164],\n",
       "       [0.71602515, 0.28397485],\n",
       "       [0.81709857, 0.18290143],\n",
       "       [0.84547159, 0.15452841],\n",
       "       [0.66164926, 0.33835074],\n",
       "       [0.78144215, 0.21855785],\n",
       "       [0.42331581, 0.57668419],\n",
       "       [0.69551824, 0.30448176],\n",
       "       [0.53071433, 0.46928567],\n",
       "       [0.81120767, 0.18879233],\n",
       "       [0.81876361, 0.18123639],\n",
       "       [0.67499582, 0.32500418],\n",
       "       [0.92079592, 0.07920408],\n",
       "       [0.29540838, 0.70459162],\n",
       "       [0.87969734, 0.12030266],\n",
       "       [0.74185105, 0.25814895],\n",
       "       [0.59012382, 0.40987618],\n",
       "       [0.39797504, 0.60202496],\n",
       "       [0.68815946, 0.31184054],\n",
       "       [0.5382032 , 0.4617968 ],\n",
       "       [0.82991888, 0.17008112],\n",
       "       [0.74627952, 0.25372048],\n",
       "       [0.67667315, 0.32332685],\n",
       "       [0.36536052, 0.63463948],\n",
       "       [0.52530039, 0.47469961],\n",
       "       [0.78547954, 0.21452046],\n",
       "       [0.57301917, 0.42698083],\n",
       "       [0.69184102, 0.30815898],\n",
       "       [0.67714742, 0.32285258],\n",
       "       [0.7733497 , 0.2266503 ],\n",
       "       [0.59319501, 0.40680499],\n",
       "       [0.56000346, 0.43999654],\n",
       "       [0.79160985, 0.20839015],\n",
       "       [0.57028141, 0.42971859],\n",
       "       [0.63746728, 0.36253272],\n",
       "       [0.57852087, 0.42147913],\n",
       "       [0.66959437, 0.33040563],\n",
       "       [0.88466214, 0.11533786],\n",
       "       [0.58562528, 0.41437472],\n",
       "       [0.78872708, 0.21127292],\n",
       "       [0.64431374, 0.35568626],\n",
       "       [0.61771194, 0.38228806],\n",
       "       [0.76757833, 0.23242167],\n",
       "       [0.81086284, 0.18913716],\n",
       "       [0.74372806, 0.25627194],\n",
       "       [0.8802683 , 0.1197317 ],\n",
       "       [0.69530903, 0.30469097],\n",
       "       [0.4061002 , 0.5938998 ],\n",
       "       [0.59471442, 0.40528558],\n",
       "       [0.75450123, 0.24549877],\n",
       "       [0.92068418, 0.07931582],\n",
       "       [0.73808829, 0.26191171],\n",
       "       [0.73663955, 0.26336045],\n",
       "       [0.29075863, 0.70924137],\n",
       "       [0.69490645, 0.30509355],\n",
       "       [0.65283889, 0.34716111],\n",
       "       [0.67533167, 0.32466833],\n",
       "       [0.37843411, 0.62156589],\n",
       "       [0.82513355, 0.17486645],\n",
       "       [0.6456761 , 0.3543239 ],\n",
       "       [0.8552635 , 0.1447365 ],\n",
       "       [0.60954777, 0.39045223],\n",
       "       [0.93026421, 0.06973579],\n",
       "       [0.85989798, 0.14010202],\n",
       "       [0.49240363, 0.50759637],\n",
       "       [0.78558692, 0.21441308],\n",
       "       [0.64742567, 0.35257433],\n",
       "       [0.42933499, 0.57066501],\n",
       "       [0.81887023, 0.18112977],\n",
       "       [0.52363727, 0.47636273],\n",
       "       [0.55261754, 0.44738246],\n",
       "       [0.85591987, 0.14408013],\n",
       "       [0.48999201, 0.51000799],\n",
       "       [0.61276178, 0.38723822]])"
      ]
     },
     "execution_count": 30,
     "metadata": {},
     "output_type": "execute_result"
    }
   ],
   "source": [
    "log_model.predict_proba(x_test)"
   ]
  },
  {
   "cell_type": "code",
   "execution_count": 31,
   "id": "70a6adfa",
   "metadata": {},
   "outputs": [
    {
     "data": {
      "text/plain": [
       "array([[ 0.00328986,  0.74809476, -0.59748804]])"
      ]
     },
     "execution_count": 31,
     "metadata": {},
     "output_type": "execute_result"
    }
   ],
   "source": [
    "log_model.coef_"
   ]
  },
  {
   "cell_type": "code",
   "execution_count": 32,
   "id": "a4c82d52",
   "metadata": {},
   "outputs": [
    {
     "data": {
      "text/plain": [
       "array([-3.9330948])"
      ]
     },
     "execution_count": 32,
     "metadata": {},
     "output_type": "execute_result"
    }
   ],
   "source": [
    "log_model.intercept_"
   ]
  },
  {
   "cell_type": "code",
   "execution_count": 33,
   "id": "e0d422f7",
   "metadata": {},
   "outputs": [
    {
     "data": {
      "text/plain": [
       "0.63"
      ]
     },
     "execution_count": 33,
     "metadata": {},
     "output_type": "execute_result"
    }
   ],
   "source": [
    "accuracy_score(y_test,y_pred)"
   ]
  },
  {
   "cell_type": "code",
   "execution_count": 44,
   "id": "631978f7",
   "metadata": {},
   "outputs": [
    {
     "data": {
      "text/plain": [
       "0.64"
      ]
     },
     "execution_count": 44,
     "metadata": {},
     "output_type": "execute_result"
    }
   ],
   "source": [
    "accuracy_score(y_test,y_pred_new1)"
   ]
  },
  {
   "cell_type": "code",
   "execution_count": 34,
   "id": "e53322ae",
   "metadata": {},
   "outputs": [],
   "source": [
    "import seaborn as sns"
   ]
  },
  {
   "cell_type": "code",
   "execution_count": 35,
   "id": "130c9149",
   "metadata": {},
   "outputs": [
    {
     "data": {
      "text/plain": [
       "<Axes: xlabel='GPA'>"
      ]
     },
     "execution_count": 35,
     "metadata": {},
     "output_type": "execute_result"
    },
    {
     "data": {
      "image/png": "[encoded data removed]",
      "text/plain": [
       "<Figure size 640x480 with 1 Axes>"
      ]
     },
     "metadata": {},
     "output_type": "display_data"
    }
   ],
   "source": [
    "sns.regplot(data=df1, x=x_test.iloc[:,1],y=y_pred,logistic=True)"
   ]
  },
  {
   "cell_type": "markdown",
   "id": "69920373",
   "metadata": {},
   "source": [
    "### Metrics of Performance"
   ]
  },
  {
   "cell_type": "code",
   "execution_count": 37,
   "id": "c090cf36",
   "metadata": {},
   "outputs": [
    {
     "data": {
      "text/plain": [
       "ADMIT\n",
       "0    273\n",
       "1    127\n",
       "Name: count, dtype: int64"
      ]
     },
     "execution_count": 37,
     "metadata": {},
     "output_type": "execute_result"
    }
   ],
   "source": [
    "df1.ADMIT.value_counts()"
   ]
  },
  {
   "cell_type": "code",
   "execution_count": 38,
   "id": "54a11751",
   "metadata": {},
   "outputs": [
    {
     "data": {
      "text/plain": [
       "0.6825"
      ]
     },
     "execution_count": 38,
     "metadata": {},
     "output_type": "execute_result"
    }
   ],
   "source": [
    "273/400"
   ]
  },
  {
   "cell_type": "code",
   "execution_count": 46,
   "id": "a815b8fb",
   "metadata": {},
   "outputs": [],
   "source": [
    "from sklearn.metrics import accuracy_score,confusion_matrix,classification_report,roc_auc_score,roc_curve"
   ]
  },
  {
   "cell_type": "code",
   "execution_count": 47,
   "id": "b04bb4b3",
   "metadata": {},
   "outputs": [
    {
     "data": {
      "text/plain": [
       "array([[58,  6],\n",
       "       [31,  5]], dtype=int64)"
      ]
     },
     "execution_count": 47,
     "metadata": {},
     "output_type": "execute_result"
    }
   ],
   "source": [
    "confusion_matrix(y_test,y_pred)"
   ]
  },
  {
   "cell_type": "code",
   "execution_count": 48,
   "id": "1112c0ff",
   "metadata": {},
   "outputs": [],
   "source": [
    "import seaborn as sns"
   ]
  },
  {
   "cell_type": "code",
   "execution_count": 49,
   "id": "3c14a59e",
   "metadata": {},
   "outputs": [
    {
     "data": {
      "text/plain": [
       "Text(0.5, 1.0, 'Confusion Matrix')"
      ]
     },
     "execution_count": 49,
     "metadata": {},
     "output_type": "execute_result"
    },
    {
     "data": {
      "image/png": "[encoded data removed]",
      "text/plain": [
       "<Figure size 640x480 with 2 Axes>"
      ]
     },
     "metadata": {},
     "output_type": "display_data"
    }
   ],
   "source": [
    "sns.heatmap(confusion_matrix(y_test,y_pred),annot=True,cmap='coolwarm')\n",
    "plt.xlabel('Predicted_value')\n",
    "plt.ylabel('Actual_Value')\n",
    "plt.title('Confusion Matrix')"
   ]
  },
  {
   "cell_type": "code",
   "execution_count": 50,
   "id": "65a0d755",
   "metadata": {},
   "outputs": [
    {
     "data": {
      "text/plain": [
       "ADMIT\n",
       "0        64\n",
       "1        36\n",
       "Name: count, dtype: int64"
      ]
     },
     "execution_count": 50,
     "metadata": {},
     "output_type": "execute_result"
    }
   ],
   "source": [
    "y_test.value_counts()"
   ]
  },
  {
   "cell_type": "code",
   "execution_count": 52,
   "id": "5c19b66e",
   "metadata": {},
   "outputs": [
    {
     "data": {
      "text/plain": [
       "0.651685393258427"
      ]
     },
     "execution_count": 52,
     "metadata": {},
     "output_type": "execute_result"
    }
   ],
   "source": [
    "precision_0= 58/(58+31)\n",
    "precision_0"
   ]
  },
  {
   "cell_type": "code",
   "execution_count": 53,
   "id": "5d35a832",
   "metadata": {},
   "outputs": [
    {
     "data": {
      "text/plain": [
       "0.45454545454545453"
      ]
     },
     "execution_count": 53,
     "metadata": {},
     "output_type": "execute_result"
    }
   ],
   "source": [
    "precision_1= 5/(5+6)\n",
    "precision_1"
   ]
  },
  {
   "cell_type": "code",
   "execution_count": 54,
   "id": "3391ebfd",
   "metadata": {},
   "outputs": [
    {
     "data": {
      "text/plain": [
       "0.90625"
      ]
     },
     "execution_count": 54,
     "metadata": {},
     "output_type": "execute_result"
    }
   ],
   "source": [
    "recall_0= 58/(58+6)\n",
    "recall_0"
   ]
  },
  {
   "cell_type": "code",
   "execution_count": 55,
   "id": "6b302a90",
   "metadata": {},
   "outputs": [
    {
     "data": {
      "text/plain": [
       "0.1388888888888889"
      ]
     },
     "execution_count": 55,
     "metadata": {},
     "output_type": "execute_result"
    }
   ],
   "source": [
    "recall_1= 5/(5+31)\n",
    "recall_1"
   ]
  },
  {
   "cell_type": "code",
   "execution_count": 57,
   "id": "020e29c1",
   "metadata": {},
   "outputs": [
    {
     "data": {
      "text/plain": [
       "0.758169934640523"
      ]
     },
     "execution_count": 57,
     "metadata": {},
     "output_type": "execute_result"
    }
   ],
   "source": [
    "f1_score_0= 2*(precision_0*recall_0)/(precision_0+recall_0)\n",
    "f1_score_0"
   ]
  },
  {
   "cell_type": "code",
   "execution_count": 51,
   "id": "8b82b007",
   "metadata": {},
   "outputs": [
    {
     "name": "stdout",
     "output_type": "stream",
     "text": [
      "              precision    recall  f1-score   support\n",
      "\n",
      "           0       0.65      0.91      0.76        64\n",
      "           1       0.45      0.14      0.21        36\n",
      "\n",
      "    accuracy                           0.63       100\n",
      "   macro avg       0.55      0.52      0.49       100\n",
      "weighted avg       0.58      0.63      0.56       100\n",
      "\n"
     ]
    }
   ],
   "source": [
    "print(classification_report(y_test,y_pred))"
   ]
  },
  {
   "cell_type": "code",
   "execution_count": 75,
   "id": "727e86bd",
   "metadata": {},
   "outputs": [
    {
     "data": {
      "text/plain": [
       "array([0.31747807, 0.12255221, 0.51743942, 0.13320254, 0.06972442,\n",
       "       0.30860146, 0.38835111, 0.17210105, 0.21694406, 0.26046808,\n",
       "       0.11733013, 0.41963326, 0.15146712, 0.26863903, 0.37023083,\n",
       "       0.13685572, 0.41437472, 0.11747906, 0.17019583, 0.16736296,\n",
       "       0.12367151, 0.29354313, 0.39651668, 0.47937546, 0.46370022,\n",
       "       0.22635134, 0.25149164, 0.28397485, 0.18290143, 0.15452841,\n",
       "       0.33835074, 0.21855785, 0.57668419, 0.30448176, 0.46928567,\n",
       "       0.18879233, 0.18123639, 0.32500418, 0.07920408, 0.70459162,\n",
       "       0.12030266, 0.25814895, 0.40987618, 0.60202496, 0.31184054,\n",
       "       0.4617968 , 0.17008112, 0.25372048, 0.32332685, 0.63463948,\n",
       "       0.47469961, 0.21452046, 0.42698083, 0.30815898, 0.32285258,\n",
       "       0.2266503 , 0.40680499, 0.43999654, 0.20839015, 0.42971859,\n",
       "       0.36253272, 0.42147913, 0.33040563, 0.11533786, 0.41437472,\n",
       "       0.21127292, 0.35568626, 0.38228806, 0.23242167, 0.18913716,\n",
       "       0.25627194, 0.1197317 , 0.30469097, 0.5938998 , 0.40528558,\n",
       "       0.24549877, 0.07931582, 0.26191171, 0.26336045, 0.70924137,\n",
       "       0.30509355, 0.34716111, 0.32466833, 0.62156589, 0.17486645,\n",
       "       0.3543239 , 0.1447365 , 0.39045223, 0.06973579, 0.14010202,\n",
       "       0.50759637, 0.21441308, 0.35257433, 0.57066501, 0.18112977,\n",
       "       0.47636273, 0.44738246, 0.14408013, 0.51000799, 0.38723822])"
      ]
     },
     "execution_count": 75,
     "metadata": {},
     "output_type": "execute_result"
    }
   ],
   "source": [
    "log_proba=log_model.predict_proba(x_test)[:,1]\n",
    "log_proba"
   ]
  },
  {
   "cell_type": "code",
   "execution_count": 76,
   "id": "e81d509e",
   "metadata": {},
   "outputs": [
    {
     "data": {
      "text/plain": [
       "0.6139322916666666"
      ]
     },
     "execution_count": 76,
     "metadata": {},
     "output_type": "execute_result"
    }
   ],
   "source": [
    "auc_score=roc_auc_score(y_test,log_proba)\n",
    "auc_score"
   ]
  },
  {
   "cell_type": "code",
   "execution_count": 88,
   "id": "4dc5695b",
   "metadata": {},
   "outputs": [
    {
     "data": {
      "text/plain": [
       "array([0.      , 0.015625, 0.015625, 0.03125 , 0.03125 , 0.078125,\n",
       "       0.078125, 0.09375 , 0.09375 , 0.125   , 0.125   , 0.140625,\n",
       "       0.140625, 0.15625 , 0.15625 , 0.171875, 0.1875  , 0.21875 ,\n",
       "       0.21875 , 0.265625, 0.265625, 0.28125 , 0.28125 , 0.328125,\n",
       "       0.328125, 0.359375, 0.359375, 0.375   , 0.375   , 0.421875,\n",
       "       0.421875, 0.4375  , 0.4375  , 0.453125, 0.453125, 0.46875 ,\n",
       "       0.46875 , 0.5625  , 0.5625  , 0.578125, 0.578125, 0.59375 ,\n",
       "       0.59375 , 0.671875, 0.671875, 0.734375, 0.734375, 0.859375,\n",
       "       0.859375, 0.890625, 0.890625, 0.921875, 0.921875, 0.984375,\n",
       "       0.984375, 1.      ])"
      ]
     },
     "execution_count": 88,
     "metadata": {},
     "output_type": "execute_result"
    }
   ],
   "source": [
    "fpr,tpr,thr=roc_curve(y_test,log_proba)\n",
    "fpr"
   ]
  },
  {
   "cell_type": "code",
   "execution_count": 89,
   "id": "4fe7a305",
   "metadata": {},
   "outputs": [
    {
     "data": {
      "text/plain": [
       "array([0.        , 0.        , 0.02777778, 0.02777778, 0.05555556,\n",
       "       0.05555556, 0.11111111, 0.11111111, 0.13888889, 0.13888889,\n",
       "       0.16666667, 0.16666667, 0.22222222, 0.22222222, 0.33333333,\n",
       "       0.33333333, 0.36111111, 0.36111111, 0.38888889, 0.38888889,\n",
       "       0.41666667, 0.41666667, 0.44444444, 0.44444444, 0.5       ,\n",
       "       0.5       , 0.52777778, 0.52777778, 0.58333333, 0.58333333,\n",
       "       0.63888889, 0.63888889, 0.66666667, 0.66666667, 0.69444444,\n",
       "       0.69444444, 0.72222222, 0.72222222, 0.75      , 0.75      ,\n",
       "       0.77777778, 0.77777778, 0.80555556, 0.80555556, 0.83333333,\n",
       "       0.83333333, 0.86111111, 0.86111111, 0.91666667, 0.91666667,\n",
       "       0.94444444, 0.94444444, 0.97222222, 0.97222222, 1.        ,\n",
       "       1.        ])"
      ]
     },
     "execution_count": 89,
     "metadata": {},
     "output_type": "execute_result"
    }
   ],
   "source": [
    "tpr"
   ]
  },
  {
   "cell_type": "code",
   "execution_count": 90,
   "id": "fb069a25",
   "metadata": {},
   "outputs": [
    {
     "data": {
      "text/plain": [
       "array([       inf, 0.70924137, 0.70459162, 0.63463948, 0.62156589,\n",
       "       0.57668419, 0.51743942, 0.51000799, 0.50759637, 0.47636273,\n",
       "       0.47469961, 0.46928567, 0.4617968 , 0.44738246, 0.42147913,\n",
       "       0.41963326, 0.41437472, 0.40680499, 0.40528558, 0.38835111,\n",
       "       0.38723822, 0.38228806, 0.37023083, 0.3543239 , 0.34716111,\n",
       "       0.33040563, 0.32500418, 0.32466833, 0.32285258, 0.30860146,\n",
       "       0.30509355, 0.30469097, 0.30448176, 0.29354313, 0.28397485,\n",
       "       0.26863903, 0.26336045, 0.25149164, 0.24549877, 0.23242167,\n",
       "       0.2266503 , 0.22635134, 0.21855785, 0.20839015, 0.18913716,\n",
       "       0.18112977, 0.17486645, 0.14408013, 0.13685572, 0.12367151,\n",
       "       0.12255221, 0.1197317 , 0.11747906, 0.07920408, 0.06973579,\n",
       "       0.06972442])"
      ]
     },
     "execution_count": 90,
     "metadata": {},
     "output_type": "execute_result"
    }
   ],
   "source": [
    "thr"
   ]
  },
  {
   "cell_type": "code",
   "execution_count": 78,
   "id": "88aeb6c6",
   "metadata": {},
   "outputs": [
    {
     "data": {
      "text/plain": [
       "(56,)"
      ]
     },
     "execution_count": 78,
     "metadata": {},
     "output_type": "execute_result"
    }
   ],
   "source": [
    "thr.shape"
   ]
  },
  {
   "cell_type": "code",
   "execution_count": 87,
   "id": "f0740670",
   "metadata": {},
   "outputs": [
    {
     "data": {
      "image/png": "[encoded data removed]",
      "text/plain": [
       "<Figure size 640x480 with 1 Axes>"
      ]
     },
     "metadata": {},
     "output_type": "display_data"
    }
   ],
   "source": [
    "plt.plot(fpr,tpr,color='blue',lw=2,label=f'AUC={auc_score:.2}')\n",
    "plt.plot([0,1],[0,1],linestyle='--',color='gray')\n",
    "plt.xlabel('False Positive Rate(FPR)')\n",
    "plt.ylabel('True Positive Rate(TPR)')\n",
    "plt.title('ROC Curve')\n",
    "plt.legend()\n",
    "plt.grid(True)"
   ]
  },
  {
   "cell_type": "code",
   "execution_count": 80,
   "id": "c4c71c60",
   "metadata": {},
   "outputs": [],
   "source": [
    "name='raja'\n",
    "age=23"
   ]
  },
  {
   "cell_type": "code",
   "execution_count": 84,
   "id": "385f6da5",
   "metadata": {},
   "outputs": [
    {
     "name": "stdout",
     "output_type": "stream",
     "text": [
      "raja is 23 years old\n"
     ]
    }
   ],
   "source": [
    "print(f'{name} is {age} years old')"
   ]
  },
  {
   "cell_type": "code",
   "execution_count": 91,
   "id": "35843ec1",
   "metadata": {},
   "outputs": [
    {
     "data": {
      "text/html": [
       "<style>#sk-container-id-3 {color: black;}#sk-container-id-3 pre{padding: 0;}#sk-container-id-3 div.sk-toggleable {background-color: white;}#sk-container-id-3 label.sk-toggleable__label {cursor: pointer;display: block;width: 100%;margin-bottom: 0;padding: 0.3em;box-sizing: border-box;text-align: center;}#sk-container-id-3 label.sk-toggleable__label-arrow:before {content: \"▸\";float: left;margin-right: 0.25em;color: #696969;}#sk-container-id-3 label.sk-toggleable__label-arrow:hover:before {color: black;}#sk-container-id-3 div.sk-estimator:hover label.sk-toggleable__label-arrow:before {color: black;}#sk-container-id-3 div.sk-toggleable__content {max-height: 0;max-width: 0;overflow: hidden;text-align: left;background-color: #f0f8ff;}#sk-container-id-3 div.sk-toggleable__content pre {margin: 0.2em;color: black;border-radius: 0.25em;background-color: #f0f8ff;}#sk-container-id-3 input.sk-toggleable__control:checked~div.sk-toggleable__content {max-height: 200px;max-width: 100%;overflow: auto;}#sk-container-id-3 input.sk-toggleable__control:checked~label.sk-toggleable__label-arrow:before {content: \"▾\";}#sk-container-id-3 div.sk-estimator input.sk-toggleable__control:checked~label.sk-toggleable__label {background-color: #d4ebff;}#sk-container-id-3 div.sk-label input.sk-toggleable__control:checked~label.sk-toggleable__label {background-color: #d4ebff;}#sk-container-id-3 input.sk-hidden--visually {border: 0;clip: rect(1px 1px 1px 1px);clip: rect(1px, 1px, 1px, 1px);height: 1px;margin: -1px;overflow: hidden;padding: 0;position: absolute;width: 1px;}#sk-container-id-3 div.sk-estimator {font-family: monospace;background-color: #f0f8ff;border: 1px dotted black;border-radius: 0.25em;box-sizing: border-box;margin-bottom: 0.5em;}#sk-container-id-3 div.sk-estimator:hover {background-color: #d4ebff;}#sk-container-id-3 div.sk-parallel-item::after {content: \"\";width: 100%;border-bottom: 1px solid gray;flex-grow: 1;}#sk-container-id-3 div.sk-label:hover label.sk-toggleable__label {background-color: #d4ebff;}#sk-container-id-3 div.sk-serial::before {content: \"\";position: absolute;border-left: 1px solid gray;box-sizing: border-box;top: 0;bottom: 0;left: 50%;z-index: 0;}#sk-container-id-3 div.sk-serial {display: flex;flex-direction: column;align-items: center;background-color: white;padding-right: 0.2em;padding-left: 0.2em;position: relative;}#sk-container-id-3 div.sk-item {position: relative;z-index: 1;}#sk-container-id-3 div.sk-parallel {display: flex;align-items: stretch;justify-content: center;background-color: white;position: relative;}#sk-container-id-3 div.sk-item::before, #sk-container-id-3 div.sk-parallel-item::before {content: \"\";position: absolute;border-left: 1px solid gray;box-sizing: border-box;top: 0;bottom: 0;left: 50%;z-index: -1;}#sk-container-id-3 div.sk-parallel-item {display: flex;flex-direction: column;z-index: 1;position: relative;background-color: white;}#sk-container-id-3 div.sk-parallel-item:first-child::after {align-self: flex-end;width: 50%;}#sk-container-id-3 div.sk-parallel-item:last-child::after {align-self: flex-start;width: 50%;}#sk-container-id-3 div.sk-parallel-item:only-child::after {width: 0;}#sk-container-id-3 div.sk-dashed-wrapped {border: 1px dashed gray;margin: 0 0.4em 0.5em 0.4em;box-sizing: border-box;padding-bottom: 0.4em;background-color: white;}#sk-container-id-3 div.sk-label label {font-family: monospace;font-weight: bold;display: inline-block;line-height: 1.2em;}#sk-container-id-3 div.sk-label-container {text-align: center;}#sk-container-id-3 div.sk-container {/* jupyter's `normalize.less` sets `[hidden] { display: none; }` but bootstrap.min.css set `[hidden] { display: none !important; }` so we also need the `!important` here to be able to override the default hidden behavior on the sphinx rendered scikit-learn.org. See: https://github.com/scikit-learn/scikit-learn/issues/21755 */display: inline-block !important;position: relative;}#sk-container-id-3 div.sk-text-repr-fallback {display: none;}</style><div id=\"sk-container-id-3\" class=\"sk-top-container\"><div class=\"sk-text-repr-fallback\"><pre>LogisticRegression(multi_class=&#x27;ovr&#x27;)</pre><b>In a Jupyter environment, please rerun this cell to show the HTML representation or trust the notebook. <br />On GitHub, the HTML representation is unable to render, please try loading this page with nbviewer.org.</b></div><div class=\"sk-container\" hidden><div class=\"sk-item\"><div class=\"sk-estimator sk-toggleable\"><input class=\"sk-toggleable__control sk-hidden--visually\" id=\"sk-estimator-id-3\" type=\"checkbox\" checked><label for=\"sk-estimator-id-3\" class=\"sk-toggleable__label sk-toggleable__label-arrow\">LogisticRegression</label><div class=\"sk-toggleable__content\"><pre>LogisticRegression(multi_class=&#x27;ovr&#x27;)</pre></div></div></div></div></div>"
      ],
      "text/plain": [
       "LogisticRegression(multi_class='ovr')"
      ]
     },
     "execution_count": 91,
     "metadata": {},
     "output_type": "execute_result"
    }
   ],
   "source": [
    "LogisticRegression(multi_class='ovr')"
   ]
  },
  {
   "cell_type": "code",
   "execution_count": null,
   "id": "ff22819c",
   "metadata": {},
   "outputs": [],
   "source": []
  }
 ],
 "metadata": {
  "kernelspec": {
   "display_name": "Python 3 (ipykernel)",
   "language": "python",
   "name": "python3"
  },
  "language_info": {
   "codemirror_mode": {
    "name": "ipython",
    "version": 3
   },
   "file_extension": ".py",
   "mimetype": "text/x-python",
   "name": "python",
   "nbconvert_exporter": "python",
   "pygments_lexer": "ipython3",
   "version": "3.11.5"
  }
 },
 "nbformat": 4,
 "nbformat_minor": 5
}
