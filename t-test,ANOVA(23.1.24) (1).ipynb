{
 "cells": [
  {
   "cell_type": "code",
   "execution_count": 67,
   "id": "a0af48c0",
   "metadata": {},
   "outputs": [],
   "source": [
    "import scipy.stats as stats\n",
    "import math\n",
    "import numpy as np"
   ]
  },
  {
   "cell_type": "markdown",
   "id": "3b318f29",
   "metadata": {},
   "source": [
    "## t-independent test (2 tail)"
   ]
  },
  {
   "cell_type": "markdown",
   "id": "e1c95d19",
   "metadata": {},
   "source": [
    "A statistics teacher wants to compare his two classes to see if they performed any differently on the tests he gave that semester. Class A had 25 students with  an average score of 70, standard deviation 15. Class B had 20 students with an average score of 74 , standard deviation 25. Using alpha 0.05 did these two classes perform differently on the tests?."
   ]
  },
  {
   "cell_type": "code",
   "execution_count": 12,
   "id": "709f8844",
   "metadata": {},
   "outputs": [],
   "source": [
    "# sample1: n1=25,x1bar=70, s1=15\n",
    "# sample2: n2=20,x2bar-74,s2=25\n",
    "# alpha=0.05, CI=0.95\n",
    "n1,n2=25,20\n",
    "df1=n1-1\n",
    "df2=n2-1\n",
    "total_df=df1+df2\n",
    "total_df\n",
    "s1=15\n",
    "s2=25\n",
    "x1_bar=70\n",
    "x2_bar=74"
   ]
  },
  {
   "cell_type": "code",
   "execution_count": 25,
   "id": "cae92ece",
   "metadata": {},
   "outputs": [
    {
     "data": {
      "text/plain": [
       "43"
      ]
     },
     "execution_count": 25,
     "metadata": {},
     "output_type": "execute_result"
    }
   ],
   "source": [
    "total_df"
   ]
  },
  {
   "cell_type": "code",
   "execution_count": 20,
   "id": "0ca6fe1a",
   "metadata": {},
   "outputs": [
    {
     "data": {
      "text/plain": [
       "401.74418604651163"
      ]
     },
     "execution_count": 20,
     "metadata": {},
     "output_type": "execute_result"
    }
   ],
   "source": [
    "Sp= ((df1*(s1**2)) + (df2*(s2**2)))/total_df\n",
    "Sp"
   ]
  },
  {
   "cell_type": "code",
   "execution_count": 21,
   "id": "ed02ca29",
   "metadata": {},
   "outputs": [],
   "source": [
    "t_stats= (x1_bar-x2_bar)/math.sqrt(((Sp**2)/n1) +((Sp**2)/n2) )"
   ]
  },
  {
   "cell_type": "code",
   "execution_count": 22,
   "id": "a5d82230",
   "metadata": {},
   "outputs": [
    {
     "data": {
      "text/plain": [
       "-0.0331886155330439"
      ]
     },
     "execution_count": 22,
     "metadata": {},
     "output_type": "execute_result"
    }
   ],
   "source": [
    "t_stats"
   ]
  },
  {
   "cell_type": "code",
   "execution_count": 23,
   "id": "48d5a7e7",
   "metadata": {},
   "outputs": [],
   "source": [
    "## t-critical"
   ]
  },
  {
   "cell_type": "code",
   "execution_count": 28,
   "id": "eaea0ffa",
   "metadata": {},
   "outputs": [
    {
     "data": {
      "text/plain": [
       "2.0166921941428133"
      ]
     },
     "execution_count": 28,
     "metadata": {},
     "output_type": "execute_result"
    }
   ],
   "source": [
    "stats.t.ppf(1-0.05/2,43)"
   ]
  },
  {
   "cell_type": "code",
   "execution_count": 54,
   "id": "7e700475",
   "metadata": {},
   "outputs": [],
   "source": [
    "sample1= stats.norm.rvs(size=25,loc=70,scale=15)"
   ]
  },
  {
   "cell_type": "code",
   "execution_count": 55,
   "id": "bac15de5",
   "metadata": {},
   "outputs": [
    {
     "data": {
      "text/plain": [
       "array([59.74523812, 50.23078719, 44.46880501, 78.12324848, 53.43165226,\n",
       "       45.16661294, 75.04111998, 69.72976406, 88.56583198, 56.37298134,\n",
       "       39.60240911, 67.49532066, 79.66813337, 48.26065273, 57.67543087,\n",
       "       53.30708663, 71.87698762, 51.36296623, 41.52786547, 61.40691222,\n",
       "       74.43207911, 56.15716435, 53.56017629, 71.2771172 , 55.64651815])"
      ]
     },
     "execution_count": 55,
     "metadata": {},
     "output_type": "execute_result"
    }
   ],
   "source": [
    "sample1"
   ]
  },
  {
   "cell_type": "code",
   "execution_count": 56,
   "id": "2a98802a",
   "metadata": {},
   "outputs": [
    {
     "data": {
      "text/plain": [
       "array([ 63.04071929,  91.97383696,  55.12827807,  93.43267791,\n",
       "       102.43794669,  80.25639073,  38.05439622,  96.21259528,\n",
       "        60.08401604,  35.49486265,  76.22899192,  43.61521506,\n",
       "       101.81389528,  78.51743153,  77.90873605, 119.76708957,\n",
       "        85.15124493,  69.48914537,  60.55478472,  49.1791097 ])"
      ]
     },
     "execution_count": 56,
     "metadata": {},
     "output_type": "execute_result"
    }
   ],
   "source": [
    "sample2= stats.norm.rvs(size=20,loc=74,scale=25)\n",
    "sample2"
   ]
  },
  {
   "cell_type": "code",
   "execution_count": 57,
   "id": "17befbdf",
   "metadata": {},
   "outputs": [
    {
     "data": {
      "text/plain": [
       "TtestResult(statistic=-2.3645275199937776, pvalue=0.02511938795706912, df=28.382263752069928)"
      ]
     },
     "execution_count": 57,
     "metadata": {},
     "output_type": "execute_result"
    }
   ],
   "source": [
    "stats.ttest_ind(sample1,sample2,equal_var=False)"
   ]
  },
  {
   "cell_type": "markdown",
   "id": "ab309e0e",
   "metadata": {},
   "source": [
    "## Task"
   ]
  },
  {
   "cell_type": "markdown",
   "id": "d9386d59",
   "metadata": {},
   "source": [
    "          The average age of marriage is 25 for women and 27 for men in the US. If the standard deviation of women is 4 years, what is the probability that a random selection of 32 women have an average age at marriage between 26 to27?"
   ]
  },
  {
   "cell_type": "code",
   "execution_count": 58,
   "id": "dca47254",
   "metadata": {},
   "outputs": [
    {
     "data": {
      "text/plain": [
       "0.7071067811865475"
      ]
     },
     "execution_count": 58,
     "metadata": {},
     "output_type": "execute_result"
    }
   ],
   "source": [
    "s=4/math.sqrt(32)\n",
    "s"
   ]
  },
  {
   "cell_type": "code",
   "execution_count": 64,
   "id": "8a57271f",
   "metadata": {},
   "outputs": [
    {
     "data": {
      "text/plain": [
       "0.9213503964748575"
      ]
     },
     "execution_count": 64,
     "metadata": {},
     "output_type": "execute_result"
    }
   ],
   "source": [
    "p1=stats.norm.cdf(26,loc=25,scale=s)\n",
    "p1"
   ]
  },
  {
   "cell_type": "code",
   "execution_count": 60,
   "id": "fc3f50d6",
   "metadata": {},
   "outputs": [
    {
     "data": {
      "text/plain": [
       "0.9976611325094764"
      ]
     },
     "execution_count": 60,
     "metadata": {},
     "output_type": "execute_result"
    }
   ],
   "source": [
    "p2=stats.norm.cdf(27,loc=25,scale=s)\n",
    "p2"
   ]
  },
  {
   "cell_type": "code",
   "execution_count": 61,
   "id": "d16e353c",
   "metadata": {},
   "outputs": [
    {
     "data": {
      "text/plain": [
       "0.07631073603461891"
      ]
     },
     "execution_count": 61,
     "metadata": {},
     "output_type": "execute_result"
    }
   ],
   "source": [
    "p2-p1"
   ]
  },
  {
   "cell_type": "markdown",
   "id": "801ef4cd",
   "metadata": {},
   "source": [
    "## Paired t test"
   ]
  },
  {
   "cell_type": "markdown",
   "id": "8ee4315c",
   "metadata": {},
   "source": [
    "\n",
    " A study has conducted to determine the effectiveness of a weight base program. The table below shows the before and after weights of 10 subject in the program. A) Is the program effective for reducing weight? B) (use a 5% significant level) construct a 95% confidence interval and determine the margin of error.\n"
   ]
  },
  {
   "cell_type": "markdown",
   "id": "6fd53ce9",
   "metadata": {},
   "source": [
    "S.NO Before\tAfter\n",
    "1\t185\t169\n",
    "2\t192\t187\n",
    "3\t206\t193\n",
    "4\t177\t176\n",
    "5\t225\t194\n",
    "6\t168\t171\n",
    "7\t256\t228\n",
    "8\t239\t217\n",
    "9\t199\t204\n",
    "10\t218\t195\n"
   ]
  },
  {
   "cell_type": "code",
   "execution_count": 65,
   "id": "c43dcd65",
   "metadata": {},
   "outputs": [],
   "source": [
    "Before= [185,192,206,177,225,168,256,239,199,218]\n",
    "After= [169,187,193,176,194,171,228,217,204,195]"
   ]
  },
  {
   "cell_type": "code",
   "execution_count": 66,
   "id": "0cdcf690",
   "metadata": {},
   "outputs": [
    {
     "data": {
      "text/plain": [
       "[-16, -5, -13, -1, -31, 3, -28, -22, 5, -23]"
      ]
     },
     "execution_count": 66,
     "metadata": {},
     "output_type": "execute_result"
    }
   ],
   "source": [
    "diff=[]\n",
    "for i in range(len(After)):\n",
    "    diff.append(After[i]-Before[i])\n",
    "diff"
   ]
  },
  {
   "cell_type": "code",
   "execution_count": 74,
   "id": "500ce82d",
   "metadata": {},
   "outputs": [
    {
     "data": {
      "text/plain": [
       "[-16, -5, -13, -1, -31, 3, -28, -22, 5, -23]"
      ]
     },
     "execution_count": 74,
     "metadata": {},
     "output_type": "execute_result"
    }
   ],
   "source": [
    "mean_diff= np.mean(diff)\n",
    "mean_diff\n",
    "diff"
   ]
  },
  {
   "cell_type": "code",
   "execution_count": 69,
   "id": "4f391c9f",
   "metadata": {},
   "outputs": [
    {
     "data": {
      "text/plain": [
       "-13.1"
      ]
     },
     "execution_count": 69,
     "metadata": {},
     "output_type": "execute_result"
    }
   ],
   "source": [
    "mean_diff"
   ]
  },
  {
   "cell_type": "code",
   "execution_count": 75,
   "id": "dec058a9",
   "metadata": {},
   "outputs": [],
   "source": [
    "std_dev_diff= math.sqrt((sum((diff-mean_diff)**2))/9)"
   ]
  },
  {
   "cell_type": "code",
   "execution_count": 76,
   "id": "bfd8de63",
   "metadata": {},
   "outputs": [
    {
     "data": {
      "text/plain": [
       "13.02518927139086"
      ]
     },
     "execution_count": 76,
     "metadata": {},
     "output_type": "execute_result"
    }
   ],
   "source": [
    "std_dev_diff"
   ]
  },
  {
   "cell_type": "code",
   "execution_count": 77,
   "id": "0e95a3bb",
   "metadata": {},
   "outputs": [],
   "source": [
    "tstats= mean_diff/(std_dev_diff/math.sqrt(10))"
   ]
  },
  {
   "cell_type": "code",
   "execution_count": 78,
   "id": "44ac2303",
   "metadata": {},
   "outputs": [
    {
     "data": {
      "text/plain": [
       "-3.180440336417639"
      ]
     },
     "execution_count": 78,
     "metadata": {},
     "output_type": "execute_result"
    }
   ],
   "source": [
    "tstats"
   ]
  },
  {
   "cell_type": "code",
   "execution_count": 79,
   "id": "034c37b7",
   "metadata": {},
   "outputs": [],
   "source": [
    "tcritical=-2.262"
   ]
  },
  {
   "cell_type": "code",
   "execution_count": 85,
   "id": "f079ed98",
   "metadata": {},
   "outputs": [
    {
     "data": {
      "text/plain": [
       "2.2621571627409915"
      ]
     },
     "execution_count": 85,
     "metadata": {},
     "output_type": "execute_result"
    }
   ],
   "source": [
    "stats.t.ppf(1-0.05/2,9)"
   ]
  },
  {
   "cell_type": "code",
   "execution_count": 80,
   "id": "73002cfb",
   "metadata": {},
   "outputs": [],
   "source": [
    "import pandas as pd"
   ]
  },
  {
   "cell_type": "code",
   "execution_count": 83,
   "id": "2152d9b4",
   "metadata": {},
   "outputs": [
    {
     "data": {
      "text/html": [
       "<div>\n",
       "<style scoped>\n",
       "    .dataframe tbody tr th:only-of-type {\n",
       "        vertical-align: middle;\n",
       "    }\n",
       "\n",
       "    .dataframe tbody tr th {\n",
       "        vertical-align: top;\n",
       "    }\n",
       "\n",
       "    .dataframe thead th {\n",
       "        text-align: right;\n",
       "    }\n",
       "</style>\n",
       "<table border=\"1\" class=\"dataframe\">\n",
       "  <thead>\n",
       "    <tr style=\"text-align: right;\">\n",
       "      <th></th>\n",
       "      <th>Before</th>\n",
       "      <th>After</th>\n",
       "    </tr>\n",
       "  </thead>\n",
       "  <tbody>\n",
       "    <tr>\n",
       "      <th>0</th>\n",
       "      <td>185</td>\n",
       "      <td>169</td>\n",
       "    </tr>\n",
       "    <tr>\n",
       "      <th>1</th>\n",
       "      <td>192</td>\n",
       "      <td>187</td>\n",
       "    </tr>\n",
       "    <tr>\n",
       "      <th>2</th>\n",
       "      <td>206</td>\n",
       "      <td>193</td>\n",
       "    </tr>\n",
       "    <tr>\n",
       "      <th>3</th>\n",
       "      <td>177</td>\n",
       "      <td>176</td>\n",
       "    </tr>\n",
       "    <tr>\n",
       "      <th>4</th>\n",
       "      <td>225</td>\n",
       "      <td>194</td>\n",
       "    </tr>\n",
       "    <tr>\n",
       "      <th>5</th>\n",
       "      <td>168</td>\n",
       "      <td>171</td>\n",
       "    </tr>\n",
       "    <tr>\n",
       "      <th>6</th>\n",
       "      <td>256</td>\n",
       "      <td>228</td>\n",
       "    </tr>\n",
       "    <tr>\n",
       "      <th>7</th>\n",
       "      <td>239</td>\n",
       "      <td>217</td>\n",
       "    </tr>\n",
       "    <tr>\n",
       "      <th>8</th>\n",
       "      <td>199</td>\n",
       "      <td>204</td>\n",
       "    </tr>\n",
       "    <tr>\n",
       "      <th>9</th>\n",
       "      <td>218</td>\n",
       "      <td>195</td>\n",
       "    </tr>\n",
       "  </tbody>\n",
       "</table>\n",
       "</div>"
      ],
      "text/plain": [
       "   Before  After\n",
       "0     185    169\n",
       "1     192    187\n",
       "2     206    193\n",
       "3     177    176\n",
       "4     225    194\n",
       "5     168    171\n",
       "6     256    228\n",
       "7     239    217\n",
       "8     199    204\n",
       "9     218    195"
      ]
     },
     "execution_count": 83,
     "metadata": {},
     "output_type": "execute_result"
    }
   ],
   "source": [
    "df= pd.DataFrame(Before,columns=['Before'])\n",
    "df['After']=After\n",
    "df"
   ]
  },
  {
   "cell_type": "code",
   "execution_count": 84,
   "id": "6a4bd6f0",
   "metadata": {},
   "outputs": [
    {
     "data": {
      "text/plain": [
       "TtestResult(statistic=-3.180440336417639, pvalue=0.011176870661470717, df=9)"
      ]
     },
     "execution_count": 84,
     "metadata": {},
     "output_type": "execute_result"
    }
   ],
   "source": [
    "stats.ttest_rel(df['After'],df['Before'])"
   ]
  },
  {
   "cell_type": "code",
   "execution_count": null,
   "id": "3d2a6b0a",
   "metadata": {},
   "outputs": [],
   "source": []
  }
 ],
 "metadata": {
  "kernelspec": {
   "display_name": "Python 3 (ipykernel)",
   "language": "python",
   "name": "python3"
  },
  "language_info": {
   "codemirror_mode": {
    "name": "ipython",
    "version": 3
   },
   "file_extension": ".py",
   "mimetype": "text/x-python",
   "name": "python",
   "nbconvert_exporter": "python",
   "pygments_lexer": "ipython3",
   "version": "3.11.5"
  }
 },
 "nbformat": 4,
 "nbformat_minor": 5
}
