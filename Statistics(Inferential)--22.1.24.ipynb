{
 "cells": [
  {
   "cell_type": "markdown",
   "id": "bc16ceb3",
   "metadata": {},
   "source": [
    "## Z-test"
   ]
  },
  {
   "cell_type": "markdown",
   "id": "fc76a56a",
   "metadata": {},
   "source": [
    "1.\tThe boys in the class are having mean weight= 9.5kg\n",
    "Standard deviation=1.1kg\n",
    "Calculate the percentage(%) of the boys in the following:\n",
    "1.\tWeight less than 8.4kg\n",
    "2.\tBetween 7.3kg and 11.7kg\n",
    "3.\tMore than 12.8\n"
   ]
  },
  {
   "cell_type": "code",
   "execution_count": 3,
   "id": "30a447b7",
   "metadata": {},
   "outputs": [],
   "source": [
    "import scipy.stats as stats"
   ]
  },
  {
   "cell_type": "code",
   "execution_count": 60,
   "id": "309b6476",
   "metadata": {},
   "outputs": [
    {
     "data": {
      "text/plain": [
       "8.4"
      ]
     },
     "execution_count": 60,
     "metadata": {},
     "output_type": "execute_result"
    }
   ],
   "source": [
    "stats.norm.ppf(0.15865525393145719,loc=9.5,scale=1.1)"
   ]
  },
  {
   "cell_type": "code",
   "execution_count": 5,
   "id": "08a27fca",
   "metadata": {},
   "outputs": [
    {
     "data": {
      "text/plain": [
       "0.21997338592649404"
      ]
     },
     "execution_count": 5,
     "metadata": {},
     "output_type": "execute_result"
    }
   ],
   "source": [
    "stats.norm.pdf(8.4,loc=9.5,scale=1.1)"
   ]
  },
  {
   "cell_type": "code",
   "execution_count": 6,
   "id": "b6d6024c",
   "metadata": {},
   "outputs": [
    {
     "data": {
      "text/plain": [
       "0.022750131948179195"
      ]
     },
     "execution_count": 6,
     "metadata": {},
     "output_type": "execute_result"
    }
   ],
   "source": [
    "p1= stats.norm.cdf(7.3,loc=9.5,scale=1.1)\n",
    "p1"
   ]
  },
  {
   "cell_type": "code",
   "execution_count": 7,
   "id": "19c92a4a",
   "metadata": {},
   "outputs": [
    {
     "data": {
      "text/plain": [
       "0.9772498680518208"
      ]
     },
     "execution_count": 7,
     "metadata": {},
     "output_type": "execute_result"
    }
   ],
   "source": [
    "p2= stats.norm.cdf(11.7,loc=9.5,scale=1.1)\n",
    "p2"
   ]
  },
  {
   "cell_type": "code",
   "execution_count": 8,
   "id": "a715e3f5",
   "metadata": {},
   "outputs": [
    {
     "data": {
      "text/plain": [
       "0.95"
      ]
     },
     "execution_count": 8,
     "metadata": {},
     "output_type": "execute_result"
    }
   ],
   "source": [
    "round(p2-p1,2)"
   ]
  },
  {
   "cell_type": "code",
   "execution_count": 9,
   "id": "cc1a06e9",
   "metadata": {},
   "outputs": [
    {
     "data": {
      "text/plain": [
       "0.9986501019683699"
      ]
     },
     "execution_count": 9,
     "metadata": {},
     "output_type": "execute_result"
    }
   ],
   "source": [
    "p= stats.norm.cdf(12.8,loc=9.5,scale=1.1)\n",
    "p"
   ]
  },
  {
   "cell_type": "code",
   "execution_count": 10,
   "id": "5072d133",
   "metadata": {},
   "outputs": [
    {
     "data": {
      "text/plain": [
       "0.0013498980316301035"
      ]
     },
     "execution_count": 10,
     "metadata": {},
     "output_type": "execute_result"
    }
   ],
   "source": [
    "1-p"
   ]
  },
  {
   "cell_type": "code",
   "execution_count": 11,
   "id": "e1c018ac",
   "metadata": {},
   "outputs": [
    {
     "data": {
      "text/plain": [
       "<Axes: ylabel='Density'>"
      ]
     },
     "execution_count": 11,
     "metadata": {},
     "output_type": "execute_result"
    },
    {
     "data": {
      "image/png": "[encoded data removed]",
      "text/plain": [
       "<Figure size 640x480 with 1 Axes>"
      ]
     },
     "metadata": {},
     "output_type": "display_data"
    }
   ],
   "source": [
    "import pandas as pd\n",
    "pd.DataFrame(stats.norm.rvs(size=100,loc=9.5,scale=1.1)).plot(kind='density')"
   ]
  },
  {
   "cell_type": "markdown",
   "id": "c00f7c76",
   "metadata": {},
   "source": [
    "1.\tScores on an exam are normally distributed with a population standard deviation=5.6. a random sample of 40 scores on the exam has a mean of 32.\n",
    "Estimate the population mean with\n",
    "a)\t80% confidence \n",
    "b)\t90% confidence\n",
    "c)\t98 confidence\n"
   ]
  },
  {
   "cell_type": "code",
   "execution_count": 21,
   "id": "5865160f",
   "metadata": {},
   "outputs": [
    {
     "data": {
      "text/plain": [
       "1.6448536269514722"
      ]
     },
     "execution_count": 21,
     "metadata": {},
     "output_type": "execute_result"
    }
   ],
   "source": [
    "stats.norm.ppf(1-0.1/2)"
   ]
  },
  {
   "cell_type": "code",
   "execution_count": 14,
   "id": "8f831dbb",
   "metadata": {},
   "outputs": [],
   "source": [
    "import math\n",
    "## FROM THE TABLE CI(0.8)=1.282,CI(0.9)=1.645, CI(0.98)=2.326"
   ]
  },
  {
   "cell_type": "code",
   "execution_count": 17,
   "id": "7903aa3c",
   "metadata": {},
   "outputs": [
    {
     "data": {
      "text/plain": [
       "30.864868811105957"
      ]
     },
     "execution_count": 17,
     "metadata": {},
     "output_type": "execute_result"
    }
   ],
   "source": [
    "## finding the mean using z-test with CI(0.8)\n",
    "lower_limit=(32-(1.282*(5.6/math.sqrt(40))))\n",
    "lower_limit"
   ]
  },
  {
   "cell_type": "code",
   "execution_count": 18,
   "id": "568c694c",
   "metadata": {},
   "outputs": [
    {
     "data": {
      "text/plain": [
       "33.13513118889404"
      ]
     },
     "execution_count": 18,
     "metadata": {},
     "output_type": "execute_result"
    }
   ],
   "source": [
    "Upper_limit=(32+(1.282*(5.6/math.sqrt(40))))\n",
    "Upper_limit"
   ]
  },
  {
   "cell_type": "code",
   "execution_count": 19,
   "id": "44b2f6b0",
   "metadata": {},
   "outputs": [
    {
     "data": {
      "text/plain": [
       "30.543454909726446"
      ]
     },
     "execution_count": 19,
     "metadata": {},
     "output_type": "execute_result"
    }
   ],
   "source": [
    "## finding the mean using z-test with CI(0.9)\n",
    "lower_limit=(32-(1.645*(5.6/math.sqrt(40))))\n",
    "lower_limit"
   ]
  },
  {
   "cell_type": "code",
   "execution_count": 20,
   "id": "9083019e",
   "metadata": {},
   "outputs": [
    {
     "data": {
      "text/plain": [
       "33.45654509027356"
      ]
     },
     "execution_count": 20,
     "metadata": {},
     "output_type": "execute_result"
    }
   ],
   "source": [
    "Upper_limit=(32+(1.645*(5.6/math.sqrt(40))))\n",
    "Upper_limit"
   ]
  },
  {
   "cell_type": "code",
   "execution_count": 22,
   "id": "a7916025",
   "metadata": {},
   "outputs": [
    {
     "data": {
      "text/plain": [
       "29.940471805485537"
      ]
     },
     "execution_count": 22,
     "metadata": {},
     "output_type": "execute_result"
    }
   ],
   "source": [
    "## finding the mean using z-test with CI(0.98)\n",
    "lower_limit=(32-(2.326*(5.6/math.sqrt(40))))\n",
    "lower_limit"
   ]
  },
  {
   "cell_type": "code",
   "execution_count": 23,
   "id": "c716fb33",
   "metadata": {},
   "outputs": [
    {
     "data": {
      "text/plain": [
       "34.05952819451446"
      ]
     },
     "execution_count": 23,
     "metadata": {},
     "output_type": "execute_result"
    }
   ],
   "source": [
    "Upper_limit=(32+(2.326*(5.6/math.sqrt(40))))\n",
    "Upper_limit"
   ]
  },
  {
   "cell_type": "markdown",
   "id": "7a30bcaa",
   "metadata": {},
   "source": [
    "## Central Limit Theorem"
   ]
  },
  {
   "cell_type": "markdown",
   "id": "48b9b2aa",
   "metadata": {},
   "source": [
    "2.\tChildren plays for 2 hours when active with a standard deviation of 0.7hrs . the school class teacher wants to plan a trip with 50 children. As a situation .what is the probability that the children will play for more than 2.2 hours."
   ]
  },
  {
   "cell_type": "code",
   "execution_count": 28,
   "id": "e684d6dd",
   "metadata": {},
   "outputs": [
    {
     "data": {
      "text/plain": [
       "0.09899494936611665"
      ]
     },
     "execution_count": 28,
     "metadata": {},
     "output_type": "execute_result"
    }
   ],
   "source": [
    "## standard deviation of sample\n",
    "s= 0.7/math.sqrt(50)\n",
    "s"
   ]
  },
  {
   "cell_type": "code",
   "execution_count": 29,
   "id": "19e89b61",
   "metadata": {},
   "outputs": [
    {
     "data": {
      "text/plain": [
       "0.9783241243695687"
      ]
     },
     "execution_count": 29,
     "metadata": {},
     "output_type": "execute_result"
    }
   ],
   "source": [
    "stats.norm.cdf(2.2,loc=2,scale=s)"
   ]
  },
  {
   "cell_type": "code",
   "execution_count": 32,
   "id": "55d579a6",
   "metadata": {},
   "outputs": [
    {
     "data": {
      "text/plain": [
       "0.021675875630431274"
      ]
     },
     "execution_count": 32,
     "metadata": {},
     "output_type": "execute_result"
    }
   ],
   "source": [
    "p=1-stats.norm.cdf(2.2,loc=2,scale=s)\n",
    "p"
   ]
  },
  {
   "cell_type": "markdown",
   "id": "94c3957c",
   "metadata": {},
   "source": [
    "## Task\n",
    "\n",
    "          The average age of marriage is 25 for women and 27 for men in the US. If the standard deviation of women is 4 years, what is the probability that a random selection of 32 women have an average age at marriage between 26 to27?"
   ]
  },
  {
   "cell_type": "markdown",
   "id": "0b2724a7",
   "metadata": {},
   "source": [
    "## 1tail test"
   ]
  },
  {
   "cell_type": "code",
   "execution_count": 38,
   "id": "eabfd2ae",
   "metadata": {},
   "outputs": [],
   "source": [
    "pop_data= stats.norm.rvs(size=200,loc=50,scale=20)"
   ]
  },
  {
   "cell_type": "code",
   "execution_count": 39,
   "id": "5026059d",
   "metadata": {},
   "outputs": [
    {
     "data": {
      "text/plain": [
       "array([ 92.61088472,   9.63016733,  71.7772181 ,  24.42302761,\n",
       "        66.72028196,  36.45798524,  71.3039656 ,  41.54111422,\n",
       "        41.78158872,  47.80483295,  49.77361098,  68.50641571,\n",
       "        75.80143759,  32.95364582,  65.5147011 ,  58.29534653,\n",
       "        75.85112323,  46.60226306,  77.33278308,  49.40864869,\n",
       "        19.50916507,  10.36815163,  82.22822171,  37.54946445,\n",
       "        88.53279956,  59.90180513,  37.30399881,  79.825722  ,\n",
       "        67.76941658,  59.4761835 ,  46.17649812,  47.61657019,\n",
       "       102.5658147 ,  26.98250337,  40.61690104,  40.68006163,\n",
       "        49.03080966,  32.05515539,  39.26728447,  74.64474484,\n",
       "        35.99420059,  66.13169208,  84.7199515 ,  43.94591898,\n",
       "        50.45729913,  43.36806887,  80.65743415,  45.72078286,\n",
       "        75.72035178,  43.86546322,  58.91301293,  77.80358521,\n",
       "        57.47401978,  50.39387819,  13.20591332,  52.81983861,\n",
       "        31.20318365,  46.07560357,  47.45815333,  35.09187355,\n",
       "        48.319182  ,  56.98549339,  74.49001052,  66.78474544,\n",
       "        43.83790983,  94.88539235,  91.12003534,  61.20241325,\n",
       "        25.24160084,  43.55385831,  55.79900601,  56.37297093,\n",
       "        43.08629387,  57.03587581,  32.57030568,  63.0156798 ,\n",
       "        20.23002883,  60.09807359,  31.19910108,  51.40106596,\n",
       "        61.01768718,  24.65047412,  47.93921551,  65.80277541,\n",
       "        11.01229383,  61.99526573,  54.87692689,  42.23622089,\n",
       "        62.11836386,  50.23733941,  25.43392727,  47.4762185 ,\n",
       "        45.18114716,  54.89442754,  50.00183983,  61.92769098,\n",
       "        20.87744421,  59.91252816,  49.60218742,  38.81472327,\n",
       "        44.15750682,  33.43592018,  27.46551833,  43.45631303,\n",
       "        67.88001605,  13.76099891,  44.9098868 ,  14.64654888,\n",
       "        42.88254853,  27.58959548,  54.26017957,   5.71765692,\n",
       "        48.44800946,  39.62877327,  58.60933865,  63.11943929,\n",
       "        17.7368097 ,  12.92515623,  25.67644178,  39.96053928,\n",
       "        17.84362872,  28.6486198 ,  48.93029061,  48.35265098,\n",
       "        19.86969183,  69.91156167,  55.18778271,  60.39022291,\n",
       "        45.6804032 ,  93.78743967,  44.97810473,  46.61131303,\n",
       "        44.95558216,   9.69352142,  38.06342063,  58.88303941,\n",
       "        21.74124872,  18.15368793,   4.62117686,  52.03364234,\n",
       "        89.85090151,  73.9386222 ,  44.8092943 ,  23.14106819,\n",
       "        58.16743318,  66.55769953,  79.03430602,  19.69019949,\n",
       "        38.43686374,  66.00431137,  49.26364387,  64.38501099,\n",
       "        60.97332886,  50.82855157,  76.24311944,  62.73441043,\n",
       "        67.93650359,  32.97873632,  13.65400621,  42.19888133,\n",
       "        28.36031365,  38.15165006,  59.31721838,  39.25051116,\n",
       "        89.93034425,  53.53523045,  39.48182142,  40.07196733,\n",
       "        27.42389627,  41.03193854,  55.80858306,  39.85459545,\n",
       "        60.15491561,  54.00447746,  73.77510446,  47.75146107,\n",
       "        39.03285618,  69.80147991,  52.91701017,  63.86943702,\n",
       "        47.31716664,  71.88389833,  79.69199772,  31.62305179,\n",
       "        42.71199306,  16.73562396,  48.71362208,  48.12069097,\n",
       "        32.51651326,  53.8577599 ,  73.18882479,  26.55051764,\n",
       "        49.56704716,  33.26581443,  -2.36767389,  63.90069891,\n",
       "         2.84040399,  49.75814998,  45.95358855,  47.20955331])"
      ]
     },
     "execution_count": 39,
     "metadata": {},
     "output_type": "execute_result"
    }
   ],
   "source": [
    "pop_data"
   ]
  },
  {
   "cell_type": "code",
   "execution_count": 40,
   "id": "c86bd0ab",
   "metadata": {},
   "outputs": [
    {
     "data": {
      "text/plain": [
       "48.56222726220521"
      ]
     },
     "execution_count": 40,
     "metadata": {},
     "output_type": "execute_result"
    }
   ],
   "source": [
    "pop_data.mean()"
   ]
  },
  {
   "cell_type": "code",
   "execution_count": 44,
   "id": "1388e277",
   "metadata": {},
   "outputs": [],
   "source": [
    "sample_data= stats.norm.rvs(size=40,loc=50,scale=15)"
   ]
  },
  {
   "cell_type": "code",
   "execution_count": 45,
   "id": "59784225",
   "metadata": {},
   "outputs": [
    {
     "data": {
      "text/plain": [
       "array([25.76719001, 76.88613213, 41.58145968, 35.64386867, 48.65199571,\n",
       "       30.71196251, 55.47053682, 74.45646202, 45.64933577, 47.60181235,\n",
       "       46.32250011, 45.23217191, 42.34743901, 53.59100308, 60.04686718,\n",
       "       43.82594482, 61.79367719, 55.10190929, 53.31535686, 89.76782166,\n",
       "       77.28459406, 36.14476201, 59.76056029, 59.72592308, 57.35191602,\n",
       "       54.03511574, 53.31183282, 39.4022025 , 23.08239425, 78.65447335,\n",
       "       55.52957453, 53.43701999, 46.41701106, 51.74221973, 63.98092033,\n",
       "       45.20172051, 44.96271646, 82.12859427, 61.93753682, 38.66457146])"
      ]
     },
     "execution_count": 45,
     "metadata": {},
     "output_type": "execute_result"
    }
   ],
   "source": [
    "sample_data"
   ]
  },
  {
   "cell_type": "code",
   "execution_count": 46,
   "id": "1253db2d",
   "metadata": {},
   "outputs": [
    {
     "data": {
      "text/plain": [
       "TtestResult(statistic=1.837133255076334, pvalue=0.07381902142890207, df=39)"
      ]
     },
     "execution_count": 46,
     "metadata": {},
     "output_type": "execute_result"
    }
   ],
   "source": [
    "stats.ttest_1samp(sample_data,popmean=pop_data.mean())"
   ]
  },
  {
   "cell_type": "code",
   "execution_count": 49,
   "id": "1421849a",
   "metadata": {},
   "outputs": [
    {
     "data": {
      "text/plain": [
       "2.022690911734728"
      ]
     },
     "execution_count": 49,
     "metadata": {},
     "output_type": "execute_result"
    }
   ],
   "source": [
    "## critical value\n",
    "stats.t.ppf(1-0.05/2,df=39)"
   ]
  },
  {
   "cell_type": "markdown",
   "id": "aaa49bc5",
   "metadata": {},
   "source": [
    "## t-test with CI"
   ]
  },
  {
   "cell_type": "markdown",
   "id": "231ec966",
   "metadata": {},
   "source": [
    "1.\tThe average weight of 20 student in a certain school was found to be 165lbs with a standard deviation of 4.5. (a) construct 95% confidence interval for the population mean (b) determine the EBM for population mean."
   ]
  },
  {
   "cell_type": "code",
   "execution_count": 72,
   "id": "93b930ea",
   "metadata": {},
   "outputs": [
    {
     "data": {
      "text/plain": [
       "2.093024054408263"
      ]
     },
     "execution_count": 72,
     "metadata": {},
     "output_type": "execute_result"
    }
   ],
   "source": [
    "## critical_value\n",
    "t_critical=stats.t.ppf(1-0.05/2,df=19)\n",
    "t_critical"
   ]
  },
  {
   "cell_type": "code",
   "execution_count": 62,
   "id": "7043810c",
   "metadata": {},
   "outputs": [],
   "source": [
    "## n=20,xbar=165,s=4.5"
   ]
  },
  {
   "cell_type": "code",
   "execution_count": 64,
   "id": "62c3463a",
   "metadata": {},
   "outputs": [],
   "source": [
    "lower_value= (165-(t_critical*(4.5/math.sqrt(20))))"
   ]
  },
  {
   "cell_type": "code",
   "execution_count": 66,
   "id": "c4a0fef8",
   "metadata": {},
   "outputs": [
    {
     "data": {
      "text/plain": [
       "162.8939351711104"
      ]
     },
     "execution_count": 66,
     "metadata": {},
     "output_type": "execute_result"
    }
   ],
   "source": [
    "lower_value"
   ]
  },
  {
   "cell_type": "code",
   "execution_count": 67,
   "id": "a37c2eb9",
   "metadata": {},
   "outputs": [
    {
     "data": {
      "text/plain": [
       "167.1060648288896"
      ]
     },
     "execution_count": 67,
     "metadata": {},
     "output_type": "execute_result"
    }
   ],
   "source": [
    "upper_value= (165+(t_critical*(4.5/math.sqrt(20))))\n",
    "upper_value"
   ]
  },
  {
   "cell_type": "code",
   "execution_count": 70,
   "id": "91e5cd33",
   "metadata": {},
   "outputs": [
    {
     "data": {
      "text/plain": [
       "2.1060648288895925"
      ]
     },
     "execution_count": 70,
     "metadata": {},
     "output_type": "execute_result"
    }
   ],
   "source": [
    "EBM= t_critical*(4.5/math.sqrt(20))\n",
    "EBM"
   ]
  },
  {
   "cell_type": "code",
   "execution_count": null,
   "id": "f9d032ed",
   "metadata": {},
   "outputs": [],
   "source": []
  }
 ],
 "metadata": {
  "kernelspec": {
   "display_name": "Python 3 (ipykernel)",
   "language": "python",
   "name": "python3"
  },
  "language_info": {
   "codemirror_mode": {
    "name": "ipython",
    "version": 3
   },
   "file_extension": ".py",
   "mimetype": "text/x-python",
   "name": "python",
   "nbconvert_exporter": "python",
   "pygments_lexer": "ipython3",
   "version": "3.11.5"
  }
 },
 "nbformat": 4,
 "nbformat_minor": 5
}
