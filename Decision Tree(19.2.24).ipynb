{
 "cells": [
  {
   "cell_type": "code",
   "execution_count": 1,
   "id": "a00e263f",
   "metadata": {},
   "outputs": [],
   "source": [
    "import math"
   ]
  },
  {
   "cell_type": "code",
   "execution_count": 2,
   "id": "ed6425f0",
   "metadata": {},
   "outputs": [
    {
     "data": {
      "text/plain": [
       "0.9402859586706311"
      ]
     },
     "execution_count": 2,
     "metadata": {},
     "output_type": "execute_result"
    }
   ],
   "source": [
    "Total_Entropy= (9/14*(math.log2(14/9)))+(5/14*(math.log2(14/5)))\n",
    "Total_Entropy"
   ]
  },
  {
   "cell_type": "code",
   "execution_count": 3,
   "id": "03c91f45",
   "metadata": {},
   "outputs": [
    {
     "data": {
      "text/plain": [
       "0.9852281360342514"
      ]
     },
     "execution_count": 3,
     "metadata": {},
     "output_type": "execute_result"
    }
   ],
   "source": [
    "Humidity_High= (3/7*(math.log2(7/3)))+(4/7*(math.log2(7/4)))\n",
    "Humidity_High"
   ]
  },
  {
   "cell_type": "code",
   "execution_count": 4,
   "id": "dec1bdeb",
   "metadata": {},
   "outputs": [
    {
     "data": {
      "text/plain": [
       "0.5916727785823275"
      ]
     },
     "execution_count": 4,
     "metadata": {},
     "output_type": "execute_result"
    }
   ],
   "source": [
    "Humidity_Norm= (6/7*(math.log2(7/6)))+(1/7*(math.log2(7/1)))\n",
    "Humidity_Norm"
   ]
  },
  {
   "cell_type": "code",
   "execution_count": 5,
   "id": "9f423041",
   "metadata": {},
   "outputs": [],
   "source": [
    "Inf_Gain_Humidity= Total_Entropy-(((7/14)*Humidity_High)+((7/14)*Humidity_Norm))"
   ]
  },
  {
   "cell_type": "code",
   "execution_count": 6,
   "id": "824a2f19",
   "metadata": {},
   "outputs": [
    {
     "data": {
      "text/plain": [
       "0.1518355013623417"
      ]
     },
     "execution_count": 6,
     "metadata": {},
     "output_type": "execute_result"
    }
   ],
   "source": [
    "Inf_Gain_Humidity"
   ]
  },
  {
   "cell_type": "code",
   "execution_count": 7,
   "id": "5ddcd184",
   "metadata": {},
   "outputs": [
    {
     "data": {
      "text/plain": [
       "0.8112781244591327"
      ]
     },
     "execution_count": 7,
     "metadata": {},
     "output_type": "execute_result"
    }
   ],
   "source": [
    "Wing_weak= (6/8*(math.log2(8/6)))+(2/8*(math.log2(8/2)))\n",
    "Wing_weak"
   ]
  },
  {
   "cell_type": "code",
   "execution_count": 8,
   "id": "d27e631c",
   "metadata": {},
   "outputs": [
    {
     "data": {
      "text/plain": [
       "1.0"
      ]
     },
     "execution_count": 8,
     "metadata": {},
     "output_type": "execute_result"
    }
   ],
   "source": [
    "Wing_strong= (3/6*(math.log2(6/3)))+(3/6*(math.log2(6/3)))\n",
    "Wing_strong"
   ]
  },
  {
   "cell_type": "code",
   "execution_count": 9,
   "id": "1815284b",
   "metadata": {},
   "outputs": [
    {
     "data": {
      "text/plain": [
       "0.04812703040826971"
      ]
     },
     "execution_count": 9,
     "metadata": {},
     "output_type": "execute_result"
    }
   ],
   "source": [
    "Inf_Gain_Wind= Total_Entropy-(((8/14)*Wing_weak)+((6/14)*Wing_strong))\n",
    "Inf_Gain_Wind"
   ]
  },
  {
   "cell_type": "code",
   "execution_count": 10,
   "id": "ede0f1b0",
   "metadata": {},
   "outputs": [
    {
     "data": {
      "text/plain": [
       "0.9709505944546687"
      ]
     },
     "execution_count": 10,
     "metadata": {},
     "output_type": "execute_result"
    }
   ],
   "source": [
    "Entropy_Sunny= 2/5*(math.log2(5/2))+(3/5*(math.log2(5/3)))\n",
    "Entropy_Sunny"
   ]
  },
  {
   "cell_type": "code",
   "execution_count": 14,
   "id": "a01e3db9",
   "metadata": {},
   "outputs": [],
   "source": [
    "Entropy_sunny_hum_high= 0\n",
    "Entropy_sunny_hyum_normal=0"
   ]
  },
  {
   "cell_type": "code",
   "execution_count": 12,
   "id": "b1605a76",
   "metadata": {},
   "outputs": [
    {
     "data": {
      "text/plain": [
       "0.0"
      ]
     },
     "execution_count": 12,
     "metadata": {},
     "output_type": "execute_result"
    }
   ],
   "source": [
    "math.log2(1)"
   ]
  },
  {
   "cell_type": "code",
   "execution_count": 17,
   "id": "19164911",
   "metadata": {},
   "outputs": [],
   "source": [
    "Information_gain_sunny_humidity= Entropy_Sunny-(((3/5)*Entropy_sunny_hum_high)+((2/5)*Entropy_sunny_hyum_normal))"
   ]
  },
  {
   "cell_type": "code",
   "execution_count": 18,
   "id": "54e3008f",
   "metadata": {},
   "outputs": [
    {
     "data": {
      "text/plain": [
       "0.9709505944546687"
      ]
     },
     "execution_count": 18,
     "metadata": {},
     "output_type": "execute_result"
    }
   ],
   "source": [
    "Information_gain_sunny_humidity"
   ]
  },
  {
   "cell_type": "code",
   "execution_count": 19,
   "id": "7e96d137",
   "metadata": {},
   "outputs": [
    {
     "data": {
      "text/plain": [
       "0.9182958340544893"
      ]
     },
     "execution_count": 19,
     "metadata": {},
     "output_type": "execute_result"
    }
   ],
   "source": [
    "Entropy_sunny_wind_weak=1/3*(math.log2(3/1))+(2/3*(math.log2(3/2)))\n",
    "Entropy_sunny_wind_weak"
   ]
  },
  {
   "cell_type": "code",
   "execution_count": 20,
   "id": "c31f5d31",
   "metadata": {},
   "outputs": [
    {
     "data": {
      "text/plain": [
       "1.0"
      ]
     },
     "execution_count": 20,
     "metadata": {},
     "output_type": "execute_result"
    }
   ],
   "source": [
    "Entropy_sunny_wind_strong=1/2*(math.log2(2/1))+(1/2*(math.log2(2/1)))\n",
    "Entropy_sunny_wind_strong"
   ]
  },
  {
   "cell_type": "code",
   "execution_count": 21,
   "id": "ea8574be",
   "metadata": {},
   "outputs": [],
   "source": [
    "Information_gain_sunny_wind= Entropy_Sunny-(((3/5)*Entropy_sunny_wind_weak)+((2/5)*Entropy_sunny_wind_strong))"
   ]
  },
  {
   "cell_type": "code",
   "execution_count": 22,
   "id": "26ec8c01",
   "metadata": {},
   "outputs": [
    {
     "data": {
      "text/plain": [
       "0.019973094021975113"
      ]
     },
     "execution_count": 22,
     "metadata": {},
     "output_type": "execute_result"
    }
   ],
   "source": [
    "Information_gain_sunny_wind"
   ]
  },
  {
   "cell_type": "markdown",
   "id": "c820cb42",
   "metadata": {},
   "source": [
    "### Gini"
   ]
  },
  {
   "cell_type": "code",
   "execution_count": 2,
   "id": "37d4d115",
   "metadata": {},
   "outputs": [],
   "source": [
    "Overall_gini= 1-(((9/14)**2)+((5/14)**2))"
   ]
  },
  {
   "cell_type": "code",
   "execution_count": 3,
   "id": "caba8da8",
   "metadata": {},
   "outputs": [
    {
     "data": {
      "text/plain": [
       "0.4591836734693877"
      ]
     },
     "execution_count": 3,
     "metadata": {},
     "output_type": "execute_result"
    }
   ],
   "source": [
    "Overall_gini"
   ]
  },
  {
   "cell_type": "code",
   "execution_count": 4,
   "id": "e5699cc0",
   "metadata": {},
   "outputs": [
    {
     "data": {
      "text/plain": [
       "0.48"
      ]
     },
     "execution_count": 4,
     "metadata": {},
     "output_type": "execute_result"
    }
   ],
   "source": [
    "sunny_gini= 1-(((2/5)**2)+((3/5)**2))\n",
    "sunny_gini"
   ]
  },
  {
   "cell_type": "code",
   "execution_count": 5,
   "id": "496e1ad2",
   "metadata": {},
   "outputs": [],
   "source": [
    "overcast_gini= 1-(((4/4)**2)+((0/4)**2))"
   ]
  },
  {
   "cell_type": "code",
   "execution_count": 6,
   "id": "b80f7966",
   "metadata": {},
   "outputs": [
    {
     "data": {
      "text/plain": [
       "0.0"
      ]
     },
     "execution_count": 6,
     "metadata": {},
     "output_type": "execute_result"
    }
   ],
   "source": [
    "overcast_gini"
   ]
  },
  {
   "cell_type": "code",
   "execution_count": 7,
   "id": "8075ec6b",
   "metadata": {},
   "outputs": [
    {
     "data": {
      "text/plain": [
       "0.48"
      ]
     },
     "execution_count": 7,
     "metadata": {},
     "output_type": "execute_result"
    }
   ],
   "source": [
    "rain_gini= 1-(((3/5)**2)+((2/5)**2))\n",
    "rain_gini"
   ]
  },
  {
   "cell_type": "code",
   "execution_count": 9,
   "id": "d5b89131",
   "metadata": {},
   "outputs": [
    {
     "data": {
      "text/plain": [
       "0.11632653061224485"
      ]
     },
     "execution_count": 9,
     "metadata": {},
     "output_type": "execute_result"
    }
   ],
   "source": [
    "Overall_gini-(((5/14)*sunny_gini)+0+ ((5/14)*rain_gini))"
   ]
  },
  {
   "cell_type": "code",
   "execution_count": 16,
   "id": "5d73d15d",
   "metadata": {},
   "outputs": [],
   "source": [
    "humidity_high= 1-(((3/7)**2)+((4/7)**2))"
   ]
  },
  {
   "cell_type": "code",
   "execution_count": 17,
   "id": "91b101e8",
   "metadata": {},
   "outputs": [
    {
     "data": {
      "text/plain": [
       "0.48979591836734704"
      ]
     },
     "execution_count": 17,
     "metadata": {},
     "output_type": "execute_result"
    }
   ],
   "source": [
    "humidity_high"
   ]
  },
  {
   "cell_type": "code",
   "execution_count": 18,
   "id": "771d9dd7",
   "metadata": {},
   "outputs": [
    {
     "data": {
      "text/plain": [
       "0.24489795918367352"
      ]
     },
     "execution_count": 18,
     "metadata": {},
     "output_type": "execute_result"
    }
   ],
   "source": [
    "humidity_nomral= 1-(((6/7)**2)+ ((1/7)**2))\n",
    "humidity_nomral"
   ]
  },
  {
   "cell_type": "code",
   "execution_count": 19,
   "id": "ddf2f286",
   "metadata": {},
   "outputs": [
    {
     "data": {
      "text/plain": [
       "0.09183673469387743"
      ]
     },
     "execution_count": 19,
     "metadata": {},
     "output_type": "execute_result"
    }
   ],
   "source": [
    "Overall_gini-(((7/14)*humidity_high)+0+ ((7/14)*humidity_nomral))"
   ]
  },
  {
   "cell_type": "markdown",
   "id": "637f2b05",
   "metadata": {},
   "source": [
    "## Decision_Tree"
   ]
  },
  {
   "cell_type": "code",
   "execution_count": 120,
   "id": "72c3f1db",
   "metadata": {},
   "outputs": [],
   "source": [
    "import pandas as pd\n",
    "import numpy as np\n",
    "import matplotlib.pyplot as plt\n",
    "from sklearn.model_selection import train_test_split,GridSearchCV\n",
    "from sklearn.metrics import accuracy_score,classification_report\n",
    "from sklearn.tree import DecisionTreeClassifier,plot_tree\n",
    "df= pd.read_csv('horse.csv')"
   ]
  },
  {
   "cell_type": "code",
   "execution_count": 121,
   "id": "01fc7f9e",
   "metadata": {},
   "outputs": [
    {
     "data": {
      "text/html": [
       "<div>\n",
       "<style scoped>\n",
       "    .dataframe tbody tr th:only-of-type {\n",
       "        vertical-align: middle;\n",
       "    }\n",
       "\n",
       "    .dataframe tbody tr th {\n",
       "        vertical-align: top;\n",
       "    }\n",
       "\n",
       "    .dataframe thead th {\n",
       "        text-align: right;\n",
       "    }\n",
       "</style>\n",
       "<table border=\"1\" class=\"dataframe\">\n",
       "  <thead>\n",
       "    <tr style=\"text-align: right;\">\n",
       "      <th></th>\n",
       "      <th>surgery</th>\n",
       "      <th>age</th>\n",
       "      <th>hospital_number</th>\n",
       "      <th>rectal_temp</th>\n",
       "      <th>pulse</th>\n",
       "      <th>respiratory_rate</th>\n",
       "      <th>temp_of_extremities</th>\n",
       "      <th>peripheral_pulse</th>\n",
       "      <th>mucous_membrane</th>\n",
       "      <th>capillary_refill_time</th>\n",
       "      <th>...</th>\n",
       "      <th>packed_cell_volume</th>\n",
       "      <th>total_protein</th>\n",
       "      <th>abdomo_appearance</th>\n",
       "      <th>abdomo_protein</th>\n",
       "      <th>outcome</th>\n",
       "      <th>surgical_lesion</th>\n",
       "      <th>lesion_1</th>\n",
       "      <th>lesion_2</th>\n",
       "      <th>lesion_3</th>\n",
       "      <th>cp_data</th>\n",
       "    </tr>\n",
       "  </thead>\n",
       "  <tbody>\n",
       "    <tr>\n",
       "      <th>0</th>\n",
       "      <td>no</td>\n",
       "      <td>adult</td>\n",
       "      <td>530101</td>\n",
       "      <td>38.5</td>\n",
       "      <td>66.0</td>\n",
       "      <td>28.0</td>\n",
       "      <td>cool</td>\n",
       "      <td>reduced</td>\n",
       "      <td>NaN</td>\n",
       "      <td>more_3_sec</td>\n",
       "      <td>...</td>\n",
       "      <td>45.0</td>\n",
       "      <td>8.4</td>\n",
       "      <td>NaN</td>\n",
       "      <td>NaN</td>\n",
       "      <td>died</td>\n",
       "      <td>no</td>\n",
       "      <td>11300</td>\n",
       "      <td>0</td>\n",
       "      <td>0</td>\n",
       "      <td>no</td>\n",
       "    </tr>\n",
       "    <tr>\n",
       "      <th>1</th>\n",
       "      <td>yes</td>\n",
       "      <td>adult</td>\n",
       "      <td>534817</td>\n",
       "      <td>39.2</td>\n",
       "      <td>88.0</td>\n",
       "      <td>20.0</td>\n",
       "      <td>NaN</td>\n",
       "      <td>NaN</td>\n",
       "      <td>pale_cyanotic</td>\n",
       "      <td>less_3_sec</td>\n",
       "      <td>...</td>\n",
       "      <td>50.0</td>\n",
       "      <td>85.0</td>\n",
       "      <td>cloudy</td>\n",
       "      <td>2.0</td>\n",
       "      <td>euthanized</td>\n",
       "      <td>no</td>\n",
       "      <td>2208</td>\n",
       "      <td>0</td>\n",
       "      <td>0</td>\n",
       "      <td>no</td>\n",
       "    </tr>\n",
       "    <tr>\n",
       "      <th>2</th>\n",
       "      <td>no</td>\n",
       "      <td>adult</td>\n",
       "      <td>530334</td>\n",
       "      <td>38.3</td>\n",
       "      <td>40.0</td>\n",
       "      <td>24.0</td>\n",
       "      <td>normal</td>\n",
       "      <td>normal</td>\n",
       "      <td>pale_pink</td>\n",
       "      <td>less_3_sec</td>\n",
       "      <td>...</td>\n",
       "      <td>33.0</td>\n",
       "      <td>6.7</td>\n",
       "      <td>NaN</td>\n",
       "      <td>NaN</td>\n",
       "      <td>lived</td>\n",
       "      <td>no</td>\n",
       "      <td>0</td>\n",
       "      <td>0</td>\n",
       "      <td>0</td>\n",
       "      <td>yes</td>\n",
       "    </tr>\n",
       "    <tr>\n",
       "      <th>3</th>\n",
       "      <td>yes</td>\n",
       "      <td>young</td>\n",
       "      <td>5290409</td>\n",
       "      <td>39.1</td>\n",
       "      <td>164.0</td>\n",
       "      <td>84.0</td>\n",
       "      <td>cold</td>\n",
       "      <td>normal</td>\n",
       "      <td>dark_cyanotic</td>\n",
       "      <td>more_3_sec</td>\n",
       "      <td>...</td>\n",
       "      <td>48.0</td>\n",
       "      <td>7.2</td>\n",
       "      <td>serosanguious</td>\n",
       "      <td>5.3</td>\n",
       "      <td>died</td>\n",
       "      <td>yes</td>\n",
       "      <td>2208</td>\n",
       "      <td>0</td>\n",
       "      <td>0</td>\n",
       "      <td>yes</td>\n",
       "    </tr>\n",
       "    <tr>\n",
       "      <th>4</th>\n",
       "      <td>no</td>\n",
       "      <td>adult</td>\n",
       "      <td>530255</td>\n",
       "      <td>37.3</td>\n",
       "      <td>104.0</td>\n",
       "      <td>35.0</td>\n",
       "      <td>NaN</td>\n",
       "      <td>NaN</td>\n",
       "      <td>dark_cyanotic</td>\n",
       "      <td>more_3_sec</td>\n",
       "      <td>...</td>\n",
       "      <td>74.0</td>\n",
       "      <td>7.4</td>\n",
       "      <td>NaN</td>\n",
       "      <td>NaN</td>\n",
       "      <td>died</td>\n",
       "      <td>no</td>\n",
       "      <td>4300</td>\n",
       "      <td>0</td>\n",
       "      <td>0</td>\n",
       "      <td>no</td>\n",
       "    </tr>\n",
       "  </tbody>\n",
       "</table>\n",
       "<p>5 rows × 28 columns</p>\n",
       "</div>"
      ],
      "text/plain": [
       "  surgery    age  hospital_number  rectal_temp  pulse  respiratory_rate  \\\n",
       "0      no  adult           530101         38.5   66.0              28.0   \n",
       "1     yes  adult           534817         39.2   88.0              20.0   \n",
       "2      no  adult           530334         38.3   40.0              24.0   \n",
       "3     yes  young          5290409         39.1  164.0              84.0   \n",
       "4      no  adult           530255         37.3  104.0              35.0   \n",
       "\n",
       "  temp_of_extremities peripheral_pulse mucous_membrane capillary_refill_time  \\\n",
       "0                cool          reduced             NaN            more_3_sec   \n",
       "1                 NaN              NaN   pale_cyanotic            less_3_sec   \n",
       "2              normal           normal       pale_pink            less_3_sec   \n",
       "3                cold           normal   dark_cyanotic            more_3_sec   \n",
       "4                 NaN              NaN   dark_cyanotic            more_3_sec   \n",
       "\n",
       "   ... packed_cell_volume total_protein abdomo_appearance abdomo_protein  \\\n",
       "0  ...               45.0           8.4               NaN            NaN   \n",
       "1  ...               50.0          85.0            cloudy            2.0   \n",
       "2  ...               33.0           6.7               NaN            NaN   \n",
       "3  ...               48.0           7.2     serosanguious            5.3   \n",
       "4  ...               74.0           7.4               NaN            NaN   \n",
       "\n",
       "      outcome  surgical_lesion lesion_1 lesion_2  lesion_3  cp_data  \n",
       "0        died               no    11300        0         0       no  \n",
       "1  euthanized               no     2208        0         0       no  \n",
       "2       lived               no        0        0         0      yes  \n",
       "3        died              yes     2208        0         0      yes  \n",
       "4        died               no     4300        0         0       no  \n",
       "\n",
       "[5 rows x 28 columns]"
      ]
     },
     "execution_count": 121,
     "metadata": {},
     "output_type": "execute_result"
    }
   ],
   "source": [
    "df.head()"
   ]
  },
  {
   "cell_type": "code",
   "execution_count": 122,
   "id": "23e8311e",
   "metadata": {},
   "outputs": [],
   "source": [
    "target=df[['outcome']]"
   ]
  },
  {
   "cell_type": "code",
   "execution_count": 123,
   "id": "c05afb88",
   "metadata": {},
   "outputs": [
    {
     "data": {
      "text/plain": [
       "outcome   \n",
       "lived         178\n",
       "died           77\n",
       "euthanized     44\n",
       "Name: count, dtype: int64"
      ]
     },
     "execution_count": 123,
     "metadata": {},
     "output_type": "execute_result"
    }
   ],
   "source": [
    "target.value_counts()"
   ]
  },
  {
   "cell_type": "code",
   "execution_count": 124,
   "id": "94180b12",
   "metadata": {},
   "outputs": [],
   "source": [
    "features= df.drop('outcome',axis=1)"
   ]
  },
  {
   "cell_type": "code",
   "execution_count": 125,
   "id": "e0f9bd6a",
   "metadata": {},
   "outputs": [
    {
     "data": {
      "text/html": [
       "<div>\n",
       "<style scoped>\n",
       "    .dataframe tbody tr th:only-of-type {\n",
       "        vertical-align: middle;\n",
       "    }\n",
       "\n",
       "    .dataframe tbody tr th {\n",
       "        vertical-align: top;\n",
       "    }\n",
       "\n",
       "    .dataframe thead th {\n",
       "        text-align: right;\n",
       "    }\n",
       "</style>\n",
       "<table border=\"1\" class=\"dataframe\">\n",
       "  <thead>\n",
       "    <tr style=\"text-align: right;\">\n",
       "      <th></th>\n",
       "      <th>surgery</th>\n",
       "      <th>age</th>\n",
       "      <th>hospital_number</th>\n",
       "      <th>rectal_temp</th>\n",
       "      <th>pulse</th>\n",
       "      <th>respiratory_rate</th>\n",
       "      <th>temp_of_extremities</th>\n",
       "      <th>peripheral_pulse</th>\n",
       "      <th>mucous_membrane</th>\n",
       "      <th>capillary_refill_time</th>\n",
       "      <th>...</th>\n",
       "      <th>abdomen</th>\n",
       "      <th>packed_cell_volume</th>\n",
       "      <th>total_protein</th>\n",
       "      <th>abdomo_appearance</th>\n",
       "      <th>abdomo_protein</th>\n",
       "      <th>surgical_lesion</th>\n",
       "      <th>lesion_1</th>\n",
       "      <th>lesion_2</th>\n",
       "      <th>lesion_3</th>\n",
       "      <th>cp_data</th>\n",
       "    </tr>\n",
       "  </thead>\n",
       "  <tbody>\n",
       "    <tr>\n",
       "      <th>0</th>\n",
       "      <td>no</td>\n",
       "      <td>adult</td>\n",
       "      <td>530101</td>\n",
       "      <td>38.5</td>\n",
       "      <td>66.0</td>\n",
       "      <td>28.0</td>\n",
       "      <td>cool</td>\n",
       "      <td>reduced</td>\n",
       "      <td>NaN</td>\n",
       "      <td>more_3_sec</td>\n",
       "      <td>...</td>\n",
       "      <td>distend_large</td>\n",
       "      <td>45.0</td>\n",
       "      <td>8.4</td>\n",
       "      <td>NaN</td>\n",
       "      <td>NaN</td>\n",
       "      <td>no</td>\n",
       "      <td>11300</td>\n",
       "      <td>0</td>\n",
       "      <td>0</td>\n",
       "      <td>no</td>\n",
       "    </tr>\n",
       "    <tr>\n",
       "      <th>1</th>\n",
       "      <td>yes</td>\n",
       "      <td>adult</td>\n",
       "      <td>534817</td>\n",
       "      <td>39.2</td>\n",
       "      <td>88.0</td>\n",
       "      <td>20.0</td>\n",
       "      <td>NaN</td>\n",
       "      <td>NaN</td>\n",
       "      <td>pale_cyanotic</td>\n",
       "      <td>less_3_sec</td>\n",
       "      <td>...</td>\n",
       "      <td>other</td>\n",
       "      <td>50.0</td>\n",
       "      <td>85.0</td>\n",
       "      <td>cloudy</td>\n",
       "      <td>2.0</td>\n",
       "      <td>no</td>\n",
       "      <td>2208</td>\n",
       "      <td>0</td>\n",
       "      <td>0</td>\n",
       "      <td>no</td>\n",
       "    </tr>\n",
       "    <tr>\n",
       "      <th>2</th>\n",
       "      <td>no</td>\n",
       "      <td>adult</td>\n",
       "      <td>530334</td>\n",
       "      <td>38.3</td>\n",
       "      <td>40.0</td>\n",
       "      <td>24.0</td>\n",
       "      <td>normal</td>\n",
       "      <td>normal</td>\n",
       "      <td>pale_pink</td>\n",
       "      <td>less_3_sec</td>\n",
       "      <td>...</td>\n",
       "      <td>normal</td>\n",
       "      <td>33.0</td>\n",
       "      <td>6.7</td>\n",
       "      <td>NaN</td>\n",
       "      <td>NaN</td>\n",
       "      <td>no</td>\n",
       "      <td>0</td>\n",
       "      <td>0</td>\n",
       "      <td>0</td>\n",
       "      <td>yes</td>\n",
       "    </tr>\n",
       "    <tr>\n",
       "      <th>3</th>\n",
       "      <td>yes</td>\n",
       "      <td>young</td>\n",
       "      <td>5290409</td>\n",
       "      <td>39.1</td>\n",
       "      <td>164.0</td>\n",
       "      <td>84.0</td>\n",
       "      <td>cold</td>\n",
       "      <td>normal</td>\n",
       "      <td>dark_cyanotic</td>\n",
       "      <td>more_3_sec</td>\n",
       "      <td>...</td>\n",
       "      <td>NaN</td>\n",
       "      <td>48.0</td>\n",
       "      <td>7.2</td>\n",
       "      <td>serosanguious</td>\n",
       "      <td>5.3</td>\n",
       "      <td>yes</td>\n",
       "      <td>2208</td>\n",
       "      <td>0</td>\n",
       "      <td>0</td>\n",
       "      <td>yes</td>\n",
       "    </tr>\n",
       "    <tr>\n",
       "      <th>4</th>\n",
       "      <td>no</td>\n",
       "      <td>adult</td>\n",
       "      <td>530255</td>\n",
       "      <td>37.3</td>\n",
       "      <td>104.0</td>\n",
       "      <td>35.0</td>\n",
       "      <td>NaN</td>\n",
       "      <td>NaN</td>\n",
       "      <td>dark_cyanotic</td>\n",
       "      <td>more_3_sec</td>\n",
       "      <td>...</td>\n",
       "      <td>NaN</td>\n",
       "      <td>74.0</td>\n",
       "      <td>7.4</td>\n",
       "      <td>NaN</td>\n",
       "      <td>NaN</td>\n",
       "      <td>no</td>\n",
       "      <td>4300</td>\n",
       "      <td>0</td>\n",
       "      <td>0</td>\n",
       "      <td>no</td>\n",
       "    </tr>\n",
       "    <tr>\n",
       "      <th>...</th>\n",
       "      <td>...</td>\n",
       "      <td>...</td>\n",
       "      <td>...</td>\n",
       "      <td>...</td>\n",
       "      <td>...</td>\n",
       "      <td>...</td>\n",
       "      <td>...</td>\n",
       "      <td>...</td>\n",
       "      <td>...</td>\n",
       "      <td>...</td>\n",
       "      <td>...</td>\n",
       "      <td>...</td>\n",
       "      <td>...</td>\n",
       "      <td>...</td>\n",
       "      <td>...</td>\n",
       "      <td>...</td>\n",
       "      <td>...</td>\n",
       "      <td>...</td>\n",
       "      <td>...</td>\n",
       "      <td>...</td>\n",
       "      <td>...</td>\n",
       "    </tr>\n",
       "    <tr>\n",
       "      <th>294</th>\n",
       "      <td>yes</td>\n",
       "      <td>adult</td>\n",
       "      <td>533886</td>\n",
       "      <td>NaN</td>\n",
       "      <td>120.0</td>\n",
       "      <td>70.0</td>\n",
       "      <td>cold</td>\n",
       "      <td>NaN</td>\n",
       "      <td>pale_cyanotic</td>\n",
       "      <td>more_3_sec</td>\n",
       "      <td>...</td>\n",
       "      <td>distend_large</td>\n",
       "      <td>55.0</td>\n",
       "      <td>65.0</td>\n",
       "      <td>NaN</td>\n",
       "      <td>NaN</td>\n",
       "      <td>no</td>\n",
       "      <td>3205</td>\n",
       "      <td>0</td>\n",
       "      <td>0</td>\n",
       "      <td>no</td>\n",
       "    </tr>\n",
       "    <tr>\n",
       "      <th>295</th>\n",
       "      <td>no</td>\n",
       "      <td>adult</td>\n",
       "      <td>527702</td>\n",
       "      <td>37.2</td>\n",
       "      <td>72.0</td>\n",
       "      <td>24.0</td>\n",
       "      <td>cool</td>\n",
       "      <td>increased</td>\n",
       "      <td>pale_cyanotic</td>\n",
       "      <td>more_3_sec</td>\n",
       "      <td>...</td>\n",
       "      <td>distend_small</td>\n",
       "      <td>44.0</td>\n",
       "      <td>NaN</td>\n",
       "      <td>serosanguious</td>\n",
       "      <td>3.3</td>\n",
       "      <td>yes</td>\n",
       "      <td>2208</td>\n",
       "      <td>0</td>\n",
       "      <td>0</td>\n",
       "      <td>yes</td>\n",
       "    </tr>\n",
       "    <tr>\n",
       "      <th>296</th>\n",
       "      <td>yes</td>\n",
       "      <td>adult</td>\n",
       "      <td>529386</td>\n",
       "      <td>37.5</td>\n",
       "      <td>72.0</td>\n",
       "      <td>30.0</td>\n",
       "      <td>cold</td>\n",
       "      <td>reduced</td>\n",
       "      <td>pale_cyanotic</td>\n",
       "      <td>less_3_sec</td>\n",
       "      <td>...</td>\n",
       "      <td>distend_large</td>\n",
       "      <td>60.0</td>\n",
       "      <td>6.8</td>\n",
       "      <td>NaN</td>\n",
       "      <td>NaN</td>\n",
       "      <td>yes</td>\n",
       "      <td>3205</td>\n",
       "      <td>0</td>\n",
       "      <td>0</td>\n",
       "      <td>no</td>\n",
       "    </tr>\n",
       "    <tr>\n",
       "      <th>297</th>\n",
       "      <td>yes</td>\n",
       "      <td>adult</td>\n",
       "      <td>530612</td>\n",
       "      <td>36.5</td>\n",
       "      <td>100.0</td>\n",
       "      <td>24.0</td>\n",
       "      <td>cool</td>\n",
       "      <td>reduced</td>\n",
       "      <td>pale_pink</td>\n",
       "      <td>less_3_sec</td>\n",
       "      <td>...</td>\n",
       "      <td>distend_small</td>\n",
       "      <td>50.0</td>\n",
       "      <td>6.0</td>\n",
       "      <td>serosanguious</td>\n",
       "      <td>3.4</td>\n",
       "      <td>yes</td>\n",
       "      <td>2208</td>\n",
       "      <td>0</td>\n",
       "      <td>0</td>\n",
       "      <td>yes</td>\n",
       "    </tr>\n",
       "    <tr>\n",
       "      <th>298</th>\n",
       "      <td>yes</td>\n",
       "      <td>adult</td>\n",
       "      <td>534618</td>\n",
       "      <td>37.2</td>\n",
       "      <td>40.0</td>\n",
       "      <td>20.0</td>\n",
       "      <td>NaN</td>\n",
       "      <td>NaN</td>\n",
       "      <td>NaN</td>\n",
       "      <td>NaN</td>\n",
       "      <td>...</td>\n",
       "      <td>normal</td>\n",
       "      <td>36.0</td>\n",
       "      <td>62.0</td>\n",
       "      <td>clear</td>\n",
       "      <td>1.0</td>\n",
       "      <td>no</td>\n",
       "      <td>6112</td>\n",
       "      <td>0</td>\n",
       "      <td>0</td>\n",
       "      <td>no</td>\n",
       "    </tr>\n",
       "  </tbody>\n",
       "</table>\n",
       "<p>299 rows × 27 columns</p>\n",
       "</div>"
      ],
      "text/plain": [
       "    surgery    age  hospital_number  rectal_temp  pulse  respiratory_rate  \\\n",
       "0        no  adult           530101         38.5   66.0              28.0   \n",
       "1       yes  adult           534817         39.2   88.0              20.0   \n",
       "2        no  adult           530334         38.3   40.0              24.0   \n",
       "3       yes  young          5290409         39.1  164.0              84.0   \n",
       "4        no  adult           530255         37.3  104.0              35.0   \n",
       "..      ...    ...              ...          ...    ...               ...   \n",
       "294     yes  adult           533886          NaN  120.0              70.0   \n",
       "295      no  adult           527702         37.2   72.0              24.0   \n",
       "296     yes  adult           529386         37.5   72.0              30.0   \n",
       "297     yes  adult           530612         36.5  100.0              24.0   \n",
       "298     yes  adult           534618         37.2   40.0              20.0   \n",
       "\n",
       "    temp_of_extremities peripheral_pulse mucous_membrane  \\\n",
       "0                  cool          reduced             NaN   \n",
       "1                   NaN              NaN   pale_cyanotic   \n",
       "2                normal           normal       pale_pink   \n",
       "3                  cold           normal   dark_cyanotic   \n",
       "4                   NaN              NaN   dark_cyanotic   \n",
       "..                  ...              ...             ...   \n",
       "294                cold              NaN   pale_cyanotic   \n",
       "295                cool        increased   pale_cyanotic   \n",
       "296                cold          reduced   pale_cyanotic   \n",
       "297                cool          reduced       pale_pink   \n",
       "298                 NaN              NaN             NaN   \n",
       "\n",
       "    capillary_refill_time  ...        abdomen packed_cell_volume  \\\n",
       "0              more_3_sec  ...  distend_large               45.0   \n",
       "1              less_3_sec  ...          other               50.0   \n",
       "2              less_3_sec  ...         normal               33.0   \n",
       "3              more_3_sec  ...            NaN               48.0   \n",
       "4              more_3_sec  ...            NaN               74.0   \n",
       "..                    ...  ...            ...                ...   \n",
       "294            more_3_sec  ...  distend_large               55.0   \n",
       "295            more_3_sec  ...  distend_small               44.0   \n",
       "296            less_3_sec  ...  distend_large               60.0   \n",
       "297            less_3_sec  ...  distend_small               50.0   \n",
       "298                   NaN  ...         normal               36.0   \n",
       "\n",
       "    total_protein abdomo_appearance abdomo_protein  surgical_lesion lesion_1  \\\n",
       "0             8.4               NaN            NaN               no    11300   \n",
       "1            85.0            cloudy            2.0               no     2208   \n",
       "2             6.7               NaN            NaN               no        0   \n",
       "3             7.2     serosanguious            5.3              yes     2208   \n",
       "4             7.4               NaN            NaN               no     4300   \n",
       "..            ...               ...            ...              ...      ...   \n",
       "294          65.0               NaN            NaN               no     3205   \n",
       "295           NaN     serosanguious            3.3              yes     2208   \n",
       "296           6.8               NaN            NaN              yes     3205   \n",
       "297           6.0     serosanguious            3.4              yes     2208   \n",
       "298          62.0             clear            1.0               no     6112   \n",
       "\n",
       "    lesion_2  lesion_3  cp_data  \n",
       "0          0         0       no  \n",
       "1          0         0       no  \n",
       "2          0         0      yes  \n",
       "3          0         0      yes  \n",
       "4          0         0       no  \n",
       "..       ...       ...      ...  \n",
       "294        0         0       no  \n",
       "295        0         0      yes  \n",
       "296        0         0       no  \n",
       "297        0         0      yes  \n",
       "298        0         0       no  \n",
       "\n",
       "[299 rows x 27 columns]"
      ]
     },
     "execution_count": 125,
     "metadata": {},
     "output_type": "execute_result"
    }
   ],
   "source": [
    "features"
   ]
  },
  {
   "cell_type": "code",
   "execution_count": 126,
   "id": "a69d25e9",
   "metadata": {},
   "outputs": [
    {
     "data": {
      "text/plain": [
       "age\n",
       "adult    275\n",
       "young     24\n",
       "Name: count, dtype: int64"
      ]
     },
     "execution_count": 126,
     "metadata": {},
     "output_type": "execute_result"
    }
   ],
   "source": [
    "features.age.value_counts()"
   ]
  },
  {
   "cell_type": "code",
   "execution_count": 127,
   "id": "9c08230b",
   "metadata": {},
   "outputs": [],
   "source": [
    "features=pd.get_dummies(features,dtype='float')"
   ]
  },
  {
   "cell_type": "code",
   "execution_count": 128,
   "id": "c6522fde",
   "metadata": {},
   "outputs": [
    {
     "data": {
      "text/html": [
       "<div>\n",
       "<style scoped>\n",
       "    .dataframe tbody tr th:only-of-type {\n",
       "        vertical-align: middle;\n",
       "    }\n",
       "\n",
       "    .dataframe tbody tr th {\n",
       "        vertical-align: top;\n",
       "    }\n",
       "\n",
       "    .dataframe thead th {\n",
       "        text-align: right;\n",
       "    }\n",
       "</style>\n",
       "<table border=\"1\" class=\"dataframe\">\n",
       "  <thead>\n",
       "    <tr style=\"text-align: right;\">\n",
       "      <th></th>\n",
       "      <th>hospital_number</th>\n",
       "      <th>rectal_temp</th>\n",
       "      <th>pulse</th>\n",
       "      <th>respiratory_rate</th>\n",
       "      <th>nasogastric_reflux_ph</th>\n",
       "      <th>packed_cell_volume</th>\n",
       "      <th>total_protein</th>\n",
       "      <th>abdomo_protein</th>\n",
       "      <th>lesion_1</th>\n",
       "      <th>lesion_2</th>\n",
       "      <th>...</th>\n",
       "      <th>abdomen_firm</th>\n",
       "      <th>abdomen_normal</th>\n",
       "      <th>abdomen_other</th>\n",
       "      <th>abdomo_appearance_clear</th>\n",
       "      <th>abdomo_appearance_cloudy</th>\n",
       "      <th>abdomo_appearance_serosanguious</th>\n",
       "      <th>surgical_lesion_no</th>\n",
       "      <th>surgical_lesion_yes</th>\n",
       "      <th>cp_data_no</th>\n",
       "      <th>cp_data_yes</th>\n",
       "    </tr>\n",
       "  </thead>\n",
       "  <tbody>\n",
       "    <tr>\n",
       "      <th>0</th>\n",
       "      <td>530101</td>\n",
       "      <td>38.5</td>\n",
       "      <td>66.0</td>\n",
       "      <td>28.0</td>\n",
       "      <td>NaN</td>\n",
       "      <td>45.0</td>\n",
       "      <td>8.4</td>\n",
       "      <td>NaN</td>\n",
       "      <td>11300</td>\n",
       "      <td>0</td>\n",
       "      <td>...</td>\n",
       "      <td>0.0</td>\n",
       "      <td>0.0</td>\n",
       "      <td>0.0</td>\n",
       "      <td>0.0</td>\n",
       "      <td>0.0</td>\n",
       "      <td>0.0</td>\n",
       "      <td>1.0</td>\n",
       "      <td>0.0</td>\n",
       "      <td>1.0</td>\n",
       "      <td>0.0</td>\n",
       "    </tr>\n",
       "    <tr>\n",
       "      <th>1</th>\n",
       "      <td>534817</td>\n",
       "      <td>39.2</td>\n",
       "      <td>88.0</td>\n",
       "      <td>20.0</td>\n",
       "      <td>NaN</td>\n",
       "      <td>50.0</td>\n",
       "      <td>85.0</td>\n",
       "      <td>2.0</td>\n",
       "      <td>2208</td>\n",
       "      <td>0</td>\n",
       "      <td>...</td>\n",
       "      <td>0.0</td>\n",
       "      <td>0.0</td>\n",
       "      <td>1.0</td>\n",
       "      <td>0.0</td>\n",
       "      <td>1.0</td>\n",
       "      <td>0.0</td>\n",
       "      <td>1.0</td>\n",
       "      <td>0.0</td>\n",
       "      <td>1.0</td>\n",
       "      <td>0.0</td>\n",
       "    </tr>\n",
       "    <tr>\n",
       "      <th>2</th>\n",
       "      <td>530334</td>\n",
       "      <td>38.3</td>\n",
       "      <td>40.0</td>\n",
       "      <td>24.0</td>\n",
       "      <td>NaN</td>\n",
       "      <td>33.0</td>\n",
       "      <td>6.7</td>\n",
       "      <td>NaN</td>\n",
       "      <td>0</td>\n",
       "      <td>0</td>\n",
       "      <td>...</td>\n",
       "      <td>0.0</td>\n",
       "      <td>1.0</td>\n",
       "      <td>0.0</td>\n",
       "      <td>0.0</td>\n",
       "      <td>0.0</td>\n",
       "      <td>0.0</td>\n",
       "      <td>1.0</td>\n",
       "      <td>0.0</td>\n",
       "      <td>0.0</td>\n",
       "      <td>1.0</td>\n",
       "    </tr>\n",
       "    <tr>\n",
       "      <th>3</th>\n",
       "      <td>5290409</td>\n",
       "      <td>39.1</td>\n",
       "      <td>164.0</td>\n",
       "      <td>84.0</td>\n",
       "      <td>5.0</td>\n",
       "      <td>48.0</td>\n",
       "      <td>7.2</td>\n",
       "      <td>5.3</td>\n",
       "      <td>2208</td>\n",
       "      <td>0</td>\n",
       "      <td>...</td>\n",
       "      <td>0.0</td>\n",
       "      <td>0.0</td>\n",
       "      <td>0.0</td>\n",
       "      <td>0.0</td>\n",
       "      <td>0.0</td>\n",
       "      <td>1.0</td>\n",
       "      <td>0.0</td>\n",
       "      <td>1.0</td>\n",
       "      <td>0.0</td>\n",
       "      <td>1.0</td>\n",
       "    </tr>\n",
       "    <tr>\n",
       "      <th>4</th>\n",
       "      <td>530255</td>\n",
       "      <td>37.3</td>\n",
       "      <td>104.0</td>\n",
       "      <td>35.0</td>\n",
       "      <td>NaN</td>\n",
       "      <td>74.0</td>\n",
       "      <td>7.4</td>\n",
       "      <td>NaN</td>\n",
       "      <td>4300</td>\n",
       "      <td>0</td>\n",
       "      <td>...</td>\n",
       "      <td>0.0</td>\n",
       "      <td>0.0</td>\n",
       "      <td>0.0</td>\n",
       "      <td>0.0</td>\n",
       "      <td>0.0</td>\n",
       "      <td>0.0</td>\n",
       "      <td>1.0</td>\n",
       "      <td>0.0</td>\n",
       "      <td>1.0</td>\n",
       "      <td>0.0</td>\n",
       "    </tr>\n",
       "    <tr>\n",
       "      <th>...</th>\n",
       "      <td>...</td>\n",
       "      <td>...</td>\n",
       "      <td>...</td>\n",
       "      <td>...</td>\n",
       "      <td>...</td>\n",
       "      <td>...</td>\n",
       "      <td>...</td>\n",
       "      <td>...</td>\n",
       "      <td>...</td>\n",
       "      <td>...</td>\n",
       "      <td>...</td>\n",
       "      <td>...</td>\n",
       "      <td>...</td>\n",
       "      <td>...</td>\n",
       "      <td>...</td>\n",
       "      <td>...</td>\n",
       "      <td>...</td>\n",
       "      <td>...</td>\n",
       "      <td>...</td>\n",
       "      <td>...</td>\n",
       "      <td>...</td>\n",
       "    </tr>\n",
       "    <tr>\n",
       "      <th>294</th>\n",
       "      <td>533886</td>\n",
       "      <td>NaN</td>\n",
       "      <td>120.0</td>\n",
       "      <td>70.0</td>\n",
       "      <td>NaN</td>\n",
       "      <td>55.0</td>\n",
       "      <td>65.0</td>\n",
       "      <td>NaN</td>\n",
       "      <td>3205</td>\n",
       "      <td>0</td>\n",
       "      <td>...</td>\n",
       "      <td>0.0</td>\n",
       "      <td>0.0</td>\n",
       "      <td>0.0</td>\n",
       "      <td>0.0</td>\n",
       "      <td>0.0</td>\n",
       "      <td>0.0</td>\n",
       "      <td>1.0</td>\n",
       "      <td>0.0</td>\n",
       "      <td>1.0</td>\n",
       "      <td>0.0</td>\n",
       "    </tr>\n",
       "    <tr>\n",
       "      <th>295</th>\n",
       "      <td>527702</td>\n",
       "      <td>37.2</td>\n",
       "      <td>72.0</td>\n",
       "      <td>24.0</td>\n",
       "      <td>NaN</td>\n",
       "      <td>44.0</td>\n",
       "      <td>NaN</td>\n",
       "      <td>3.3</td>\n",
       "      <td>2208</td>\n",
       "      <td>0</td>\n",
       "      <td>...</td>\n",
       "      <td>0.0</td>\n",
       "      <td>0.0</td>\n",
       "      <td>0.0</td>\n",
       "      <td>0.0</td>\n",
       "      <td>0.0</td>\n",
       "      <td>1.0</td>\n",
       "      <td>0.0</td>\n",
       "      <td>1.0</td>\n",
       "      <td>0.0</td>\n",
       "      <td>1.0</td>\n",
       "    </tr>\n",
       "    <tr>\n",
       "      <th>296</th>\n",
       "      <td>529386</td>\n",
       "      <td>37.5</td>\n",
       "      <td>72.0</td>\n",
       "      <td>30.0</td>\n",
       "      <td>NaN</td>\n",
       "      <td>60.0</td>\n",
       "      <td>6.8</td>\n",
       "      <td>NaN</td>\n",
       "      <td>3205</td>\n",
       "      <td>0</td>\n",
       "      <td>...</td>\n",
       "      <td>0.0</td>\n",
       "      <td>0.0</td>\n",
       "      <td>0.0</td>\n",
       "      <td>0.0</td>\n",
       "      <td>0.0</td>\n",
       "      <td>0.0</td>\n",
       "      <td>0.0</td>\n",
       "      <td>1.0</td>\n",
       "      <td>1.0</td>\n",
       "      <td>0.0</td>\n",
       "    </tr>\n",
       "    <tr>\n",
       "      <th>297</th>\n",
       "      <td>530612</td>\n",
       "      <td>36.5</td>\n",
       "      <td>100.0</td>\n",
       "      <td>24.0</td>\n",
       "      <td>NaN</td>\n",
       "      <td>50.0</td>\n",
       "      <td>6.0</td>\n",
       "      <td>3.4</td>\n",
       "      <td>2208</td>\n",
       "      <td>0</td>\n",
       "      <td>...</td>\n",
       "      <td>0.0</td>\n",
       "      <td>0.0</td>\n",
       "      <td>0.0</td>\n",
       "      <td>0.0</td>\n",
       "      <td>0.0</td>\n",
       "      <td>1.0</td>\n",
       "      <td>0.0</td>\n",
       "      <td>1.0</td>\n",
       "      <td>0.0</td>\n",
       "      <td>1.0</td>\n",
       "    </tr>\n",
       "    <tr>\n",
       "      <th>298</th>\n",
       "      <td>534618</td>\n",
       "      <td>37.2</td>\n",
       "      <td>40.0</td>\n",
       "      <td>20.0</td>\n",
       "      <td>NaN</td>\n",
       "      <td>36.0</td>\n",
       "      <td>62.0</td>\n",
       "      <td>1.0</td>\n",
       "      <td>6112</td>\n",
       "      <td>0</td>\n",
       "      <td>...</td>\n",
       "      <td>0.0</td>\n",
       "      <td>1.0</td>\n",
       "      <td>0.0</td>\n",
       "      <td>1.0</td>\n",
       "      <td>0.0</td>\n",
       "      <td>0.0</td>\n",
       "      <td>1.0</td>\n",
       "      <td>0.0</td>\n",
       "      <td>1.0</td>\n",
       "      <td>0.0</td>\n",
       "    </tr>\n",
       "  </tbody>\n",
       "</table>\n",
       "<p>299 rows × 67 columns</p>\n",
       "</div>"
      ],
      "text/plain": [
       "     hospital_number  rectal_temp  pulse  respiratory_rate  \\\n",
       "0             530101         38.5   66.0              28.0   \n",
       "1             534817         39.2   88.0              20.0   \n",
       "2             530334         38.3   40.0              24.0   \n",
       "3            5290409         39.1  164.0              84.0   \n",
       "4             530255         37.3  104.0              35.0   \n",
       "..               ...          ...    ...               ...   \n",
       "294           533886          NaN  120.0              70.0   \n",
       "295           527702         37.2   72.0              24.0   \n",
       "296           529386         37.5   72.0              30.0   \n",
       "297           530612         36.5  100.0              24.0   \n",
       "298           534618         37.2   40.0              20.0   \n",
       "\n",
       "     nasogastric_reflux_ph  packed_cell_volume  total_protein  abdomo_protein  \\\n",
       "0                      NaN                45.0            8.4             NaN   \n",
       "1                      NaN                50.0           85.0             2.0   \n",
       "2                      NaN                33.0            6.7             NaN   \n",
       "3                      5.0                48.0            7.2             5.3   \n",
       "4                      NaN                74.0            7.4             NaN   \n",
       "..                     ...                 ...            ...             ...   \n",
       "294                    NaN                55.0           65.0             NaN   \n",
       "295                    NaN                44.0            NaN             3.3   \n",
       "296                    NaN                60.0            6.8             NaN   \n",
       "297                    NaN                50.0            6.0             3.4   \n",
       "298                    NaN                36.0           62.0             1.0   \n",
       "\n",
       "     lesion_1  lesion_2  ...  abdomen_firm  abdomen_normal  abdomen_other  \\\n",
       "0       11300         0  ...           0.0             0.0            0.0   \n",
       "1        2208         0  ...           0.0             0.0            1.0   \n",
       "2           0         0  ...           0.0             1.0            0.0   \n",
       "3        2208         0  ...           0.0             0.0            0.0   \n",
       "4        4300         0  ...           0.0             0.0            0.0   \n",
       "..        ...       ...  ...           ...             ...            ...   \n",
       "294      3205         0  ...           0.0             0.0            0.0   \n",
       "295      2208         0  ...           0.0             0.0            0.0   \n",
       "296      3205         0  ...           0.0             0.0            0.0   \n",
       "297      2208         0  ...           0.0             0.0            0.0   \n",
       "298      6112         0  ...           0.0             1.0            0.0   \n",
       "\n",
       "     abdomo_appearance_clear  abdomo_appearance_cloudy  \\\n",
       "0                        0.0                       0.0   \n",
       "1                        0.0                       1.0   \n",
       "2                        0.0                       0.0   \n",
       "3                        0.0                       0.0   \n",
       "4                        0.0                       0.0   \n",
       "..                       ...                       ...   \n",
       "294                      0.0                       0.0   \n",
       "295                      0.0                       0.0   \n",
       "296                      0.0                       0.0   \n",
       "297                      0.0                       0.0   \n",
       "298                      1.0                       0.0   \n",
       "\n",
       "     abdomo_appearance_serosanguious  surgical_lesion_no  surgical_lesion_yes  \\\n",
       "0                                0.0                 1.0                  0.0   \n",
       "1                                0.0                 1.0                  0.0   \n",
       "2                                0.0                 1.0                  0.0   \n",
       "3                                1.0                 0.0                  1.0   \n",
       "4                                0.0                 1.0                  0.0   \n",
       "..                               ...                 ...                  ...   \n",
       "294                              0.0                 1.0                  0.0   \n",
       "295                              1.0                 0.0                  1.0   \n",
       "296                              0.0                 0.0                  1.0   \n",
       "297                              1.0                 0.0                  1.0   \n",
       "298                              0.0                 1.0                  0.0   \n",
       "\n",
       "     cp_data_no  cp_data_yes  \n",
       "0           1.0          0.0  \n",
       "1           1.0          0.0  \n",
       "2           0.0          1.0  \n",
       "3           0.0          1.0  \n",
       "4           1.0          0.0  \n",
       "..          ...          ...  \n",
       "294         1.0          0.0  \n",
       "295         0.0          1.0  \n",
       "296         1.0          0.0  \n",
       "297         0.0          1.0  \n",
       "298         1.0          0.0  \n",
       "\n",
       "[299 rows x 67 columns]"
      ]
     },
     "execution_count": 128,
     "metadata": {},
     "output_type": "execute_result"
    }
   ],
   "source": [
    "features"
   ]
  },
  {
   "cell_type": "code",
   "execution_count": 129,
   "id": "9183861d",
   "metadata": {},
   "outputs": [
    {
     "data": {
      "text/plain": [
       "hospital_number                      0\n",
       "rectal_temp                         60\n",
       "pulse                               24\n",
       "respiratory_rate                    58\n",
       "nasogastric_reflux_ph              246\n",
       "                                  ... \n",
       "abdomo_appearance_serosanguious      0\n",
       "surgical_lesion_no                   0\n",
       "surgical_lesion_yes                  0\n",
       "cp_data_no                           0\n",
       "cp_data_yes                          0\n",
       "Length: 67, dtype: int64"
      ]
     },
     "execution_count": 129,
     "metadata": {},
     "output_type": "execute_result"
    }
   ],
   "source": [
    "features.isnull().sum()"
   ]
  },
  {
   "cell_type": "code",
   "execution_count": 130,
   "id": "355771ad",
   "metadata": {},
   "outputs": [],
   "source": [
    "x_train,x_test,y_train,y_test= train_test_split(features,target,train_size=0.75,random_state=100)"
   ]
  },
  {
   "cell_type": "code",
   "execution_count": 131,
   "id": "60ad492a",
   "metadata": {},
   "outputs": [
    {
     "data": {
      "text/plain": [
       "hospital_number                     0\n",
       "rectal_temp                        13\n",
       "pulse                               2\n",
       "respiratory_rate                   11\n",
       "nasogastric_reflux_ph              69\n",
       "                                   ..\n",
       "abdomo_appearance_serosanguious     0\n",
       "surgical_lesion_no                  0\n",
       "surgical_lesion_yes                 0\n",
       "cp_data_no                          0\n",
       "cp_data_yes                         0\n",
       "Length: 67, dtype: int64"
      ]
     },
     "execution_count": 131,
     "metadata": {},
     "output_type": "execute_result"
    }
   ],
   "source": [
    "x_test.isnull().sum()"
   ]
  },
  {
   "cell_type": "code",
   "execution_count": 132,
   "id": "098da7eb",
   "metadata": {},
   "outputs": [],
   "source": [
    "from sklearn.impute import SimpleImputer"
   ]
  },
  {
   "cell_type": "code",
   "execution_count": 133,
   "id": "ad73d28f",
   "metadata": {},
   "outputs": [],
   "source": [
    "sim_impute= SimpleImputer(missing_values=np.nan,strategy='median')"
   ]
  },
  {
   "cell_type": "code",
   "execution_count": 134,
   "id": "78330fc2",
   "metadata": {},
   "outputs": [],
   "source": [
    "x_train= sim_impute.fit_transform(x_train)\n",
    "x_test= sim_impute.fit_transform(x_test)"
   ]
  },
  {
   "cell_type": "code",
   "execution_count": 135,
   "id": "469a9d46",
   "metadata": {},
   "outputs": [
    {
     "data": {
      "text/plain": [
       "0     0\n",
       "1     0\n",
       "2     0\n",
       "3     0\n",
       "4     0\n",
       "     ..\n",
       "62    0\n",
       "63    0\n",
       "64    0\n",
       "65    0\n",
       "66    0\n",
       "Length: 67, dtype: int64"
      ]
     },
     "execution_count": 135,
     "metadata": {},
     "output_type": "execute_result"
    }
   ],
   "source": [
    "pd.DataFrame(x_test).isnull().sum()"
   ]
  },
  {
   "cell_type": "code",
   "execution_count": 136,
   "id": "f22ae678",
   "metadata": {},
   "outputs": [],
   "source": [
    "dec_tree= DecisionTreeClassifier(criterion='gini',splitter='best',max_depth=3)"
   ]
  },
  {
   "cell_type": "code",
   "execution_count": 137,
   "id": "3dde6cde",
   "metadata": {},
   "outputs": [
    {
     "data": {
      "text/html": [
       "<style>#sk-container-id-9 {color: black;}#sk-container-id-9 pre{padding: 0;}#sk-container-id-9 div.sk-toggleable {background-color: white;}#sk-container-id-9 label.sk-toggleable__label {cursor: pointer;display: block;width: 100%;margin-bottom: 0;padding: 0.3em;box-sizing: border-box;text-align: center;}#sk-container-id-9 label.sk-toggleable__label-arrow:before {content: \"▸\";float: left;margin-right: 0.25em;color: #696969;}#sk-container-id-9 label.sk-toggleable__label-arrow:hover:before {color: black;}#sk-container-id-9 div.sk-estimator:hover label.sk-toggleable__label-arrow:before {color: black;}#sk-container-id-9 div.sk-toggleable__content {max-height: 0;max-width: 0;overflow: hidden;text-align: left;background-color: #f0f8ff;}#sk-container-id-9 div.sk-toggleable__content pre {margin: 0.2em;color: black;border-radius: 0.25em;background-color: #f0f8ff;}#sk-container-id-9 input.sk-toggleable__control:checked~div.sk-toggleable__content {max-height: 200px;max-width: 100%;overflow: auto;}#sk-container-id-9 input.sk-toggleable__control:checked~label.sk-toggleable__label-arrow:before {content: \"▾\";}#sk-container-id-9 div.sk-estimator input.sk-toggleable__control:checked~label.sk-toggleable__label {background-color: #d4ebff;}#sk-container-id-9 div.sk-label input.sk-toggleable__control:checked~label.sk-toggleable__label {background-color: #d4ebff;}#sk-container-id-9 input.sk-hidden--visually {border: 0;clip: rect(1px 1px 1px 1px);clip: rect(1px, 1px, 1px, 1px);height: 1px;margin: -1px;overflow: hidden;padding: 0;position: absolute;width: 1px;}#sk-container-id-9 div.sk-estimator {font-family: monospace;background-color: #f0f8ff;border: 1px dotted black;border-radius: 0.25em;box-sizing: border-box;margin-bottom: 0.5em;}#sk-container-id-9 div.sk-estimator:hover {background-color: #d4ebff;}#sk-container-id-9 div.sk-parallel-item::after {content: \"\";width: 100%;border-bottom: 1px solid gray;flex-grow: 1;}#sk-container-id-9 div.sk-label:hover label.sk-toggleable__label {background-color: #d4ebff;}#sk-container-id-9 div.sk-serial::before {content: \"\";position: absolute;border-left: 1px solid gray;box-sizing: border-box;top: 0;bottom: 0;left: 50%;z-index: 0;}#sk-container-id-9 div.sk-serial {display: flex;flex-direction: column;align-items: center;background-color: white;padding-right: 0.2em;padding-left: 0.2em;position: relative;}#sk-container-id-9 div.sk-item {position: relative;z-index: 1;}#sk-container-id-9 div.sk-parallel {display: flex;align-items: stretch;justify-content: center;background-color: white;position: relative;}#sk-container-id-9 div.sk-item::before, #sk-container-id-9 div.sk-parallel-item::before {content: \"\";position: absolute;border-left: 1px solid gray;box-sizing: border-box;top: 0;bottom: 0;left: 50%;z-index: -1;}#sk-container-id-9 div.sk-parallel-item {display: flex;flex-direction: column;z-index: 1;position: relative;background-color: white;}#sk-container-id-9 div.sk-parallel-item:first-child::after {align-self: flex-end;width: 50%;}#sk-container-id-9 div.sk-parallel-item:last-child::after {align-self: flex-start;width: 50%;}#sk-container-id-9 div.sk-parallel-item:only-child::after {width: 0;}#sk-container-id-9 div.sk-dashed-wrapped {border: 1px dashed gray;margin: 0 0.4em 0.5em 0.4em;box-sizing: border-box;padding-bottom: 0.4em;background-color: white;}#sk-container-id-9 div.sk-label label {font-family: monospace;font-weight: bold;display: inline-block;line-height: 1.2em;}#sk-container-id-9 div.sk-label-container {text-align: center;}#sk-container-id-9 div.sk-container {/* jupyter's `normalize.less` sets `[hidden] { display: none; }` but bootstrap.min.css set `[hidden] { display: none !important; }` so we also need the `!important` here to be able to override the default hidden behavior on the sphinx rendered scikit-learn.org. See: https://github.com/scikit-learn/scikit-learn/issues/21755 */display: inline-block !important;position: relative;}#sk-container-id-9 div.sk-text-repr-fallback {display: none;}</style><div id=\"sk-container-id-9\" class=\"sk-top-container\"><div class=\"sk-text-repr-fallback\"><pre>DecisionTreeClassifier(max_depth=3)</pre><b>In a Jupyter environment, please rerun this cell to show the HTML representation or trust the notebook. <br />On GitHub, the HTML representation is unable to render, please try loading this page with nbviewer.org.</b></div><div class=\"sk-container\" hidden><div class=\"sk-item\"><div class=\"sk-estimator sk-toggleable\"><input class=\"sk-toggleable__control sk-hidden--visually\" id=\"sk-estimator-id-13\" type=\"checkbox\" checked><label for=\"sk-estimator-id-13\" class=\"sk-toggleable__label sk-toggleable__label-arrow\">DecisionTreeClassifier</label><div class=\"sk-toggleable__content\"><pre>DecisionTreeClassifier(max_depth=3)</pre></div></div></div></div></div>"
      ],
      "text/plain": [
       "DecisionTreeClassifier(max_depth=3)"
      ]
     },
     "execution_count": 137,
     "metadata": {},
     "output_type": "execute_result"
    }
   ],
   "source": [
    "dec_tree.fit(x_train,y_train)"
   ]
  },
  {
   "cell_type": "code",
   "execution_count": 138,
   "id": "c5495f29",
   "metadata": {},
   "outputs": [],
   "source": [
    "y_pred= dec_tree.predict(x_test)"
   ]
  },
  {
   "cell_type": "code",
   "execution_count": 139,
   "id": "ce808add",
   "metadata": {},
   "outputs": [
    {
     "data": {
      "text/plain": [
       "array(['died', 'lived', 'lived', 'lived', 'died', 'lived', 'lived',\n",
       "       'lived', 'lived', 'euthanized', 'lived', 'lived', 'euthanized',\n",
       "       'lived', 'lived', 'lived', 'died', 'lived', 'lived', 'died',\n",
       "       'lived', 'lived', 'lived', 'lived', 'lived', 'lived', 'died',\n",
       "       'lived', 'lived', 'lived', 'lived', 'lived', 'lived', 'lived',\n",
       "       'lived', 'lived', 'lived', 'died', 'lived', 'euthanized', 'lived',\n",
       "       'lived', 'lived', 'lived', 'lived', 'lived', 'lived', 'lived',\n",
       "       'lived', 'lived', 'lived', 'lived', 'lived', 'lived', 'lived',\n",
       "       'lived', 'lived', 'died', 'lived', 'lived', 'lived', 'lived',\n",
       "       'died', 'lived', 'lived', 'lived', 'lived', 'lived', 'died',\n",
       "       'died', 'lived', 'lived', 'lived', 'lived', 'lived'], dtype=object)"
      ]
     },
     "execution_count": 139,
     "metadata": {},
     "output_type": "execute_result"
    }
   ],
   "source": [
    "y_pred"
   ]
  },
  {
   "cell_type": "code",
   "execution_count": 140,
   "id": "f9eb672f",
   "metadata": {},
   "outputs": [
    {
     "data": {
      "text/plain": [
       "0.7066666666666667"
      ]
     },
     "execution_count": 140,
     "metadata": {},
     "output_type": "execute_result"
    }
   ],
   "source": [
    "accuracy_score(y_test,y_pred)"
   ]
  },
  {
   "cell_type": "code",
   "execution_count": 98,
   "id": "d83861db",
   "metadata": {},
   "outputs": [],
   "source": [
    "params= {'criterion':['gini','entropy'],'splitter':['best','random'],'max_depth':[1,2,3,4,5]}"
   ]
  },
  {
   "cell_type": "code",
   "execution_count": 99,
   "id": "12063b36",
   "metadata": {},
   "outputs": [],
   "source": [
    "grid_search= GridSearchCV(dec_tree,params,verbose=2)"
   ]
  },
  {
   "cell_type": "code",
   "execution_count": 100,
   "id": "4c1bd41e",
   "metadata": {},
   "outputs": [
    {
     "name": "stdout",
     "output_type": "stream",
     "text": [
      "Fitting 5 folds for each of 20 candidates, totalling 100 fits\n",
      "[CV] END .........criterion=gini, max_depth=1, splitter=best; total time=   0.0s\n",
      "[CV] END .........criterion=gini, max_depth=1, splitter=best; total time=   0.0s\n",
      "[CV] END .........criterion=gini, max_depth=1, splitter=best; total time=   0.0s\n",
      "[CV] END .........criterion=gini, max_depth=1, splitter=best; total time=   0.0s\n",
      "[CV] END .........criterion=gini, max_depth=1, splitter=best; total time=   0.0s\n",
      "[CV] END .......criterion=gini, max_depth=1, splitter=random; total time=   0.0s\n",
      "[CV] END .......criterion=gini, max_depth=1, splitter=random; total time=   0.0s\n",
      "[CV] END .......criterion=gini, max_depth=1, splitter=random; total time=   0.0s\n",
      "[CV] END .......criterion=gini, max_depth=1, splitter=random; total time=   0.0s\n",
      "[CV] END .......criterion=gini, max_depth=1, splitter=random; total time=   0.0s\n",
      "[CV] END .........criterion=gini, max_depth=2, splitter=best; total time=   0.0s\n",
      "[CV] END .........criterion=gini, max_depth=2, splitter=best; total time=   0.0s\n",
      "[CV] END .........criterion=gini, max_depth=2, splitter=best; total time=   0.0s\n",
      "[CV] END .........criterion=gini, max_depth=2, splitter=best; total time=   0.0s\n",
      "[CV] END .........criterion=gini, max_depth=2, splitter=best; total time=   0.0s\n",
      "[CV] END .......criterion=gini, max_depth=2, splitter=random; total time=   0.0s\n",
      "[CV] END .......criterion=gini, max_depth=2, splitter=random; total time=   0.0s\n",
      "[CV] END .......criterion=gini, max_depth=2, splitter=random; total time=   0.0s\n",
      "[CV] END .......criterion=gini, max_depth=2, splitter=random; total time=   0.0s\n",
      "[CV] END .......criterion=gini, max_depth=2, splitter=random; total time=   0.0s\n",
      "[CV] END .........criterion=gini, max_depth=3, splitter=best; total time=   0.0s\n",
      "[CV] END .........criterion=gini, max_depth=3, splitter=best; total time=   0.0s\n",
      "[CV] END .........criterion=gini, max_depth=3, splitter=best; total time=   0.0s\n",
      "[CV] END .........criterion=gini, max_depth=3, splitter=best; total time=   0.0s\n",
      "[CV] END .........criterion=gini, max_depth=3, splitter=best; total time=   0.0s\n",
      "[CV] END .......criterion=gini, max_depth=3, splitter=random; total time=   0.0s\n",
      "[CV] END .......criterion=gini, max_depth=3, splitter=random; total time=   0.0s\n",
      "[CV] END .......criterion=gini, max_depth=3, splitter=random; total time=   0.0s\n",
      "[CV] END .......criterion=gini, max_depth=3, splitter=random; total time=   0.0s\n",
      "[CV] END .......criterion=gini, max_depth=3, splitter=random; total time=   0.0s\n",
      "[CV] END .........criterion=gini, max_depth=4, splitter=best; total time=   0.0s\n",
      "[CV] END .........criterion=gini, max_depth=4, splitter=best; total time=   0.0s\n",
      "[CV] END .........criterion=gini, max_depth=4, splitter=best; total time=   0.0s\n",
      "[CV] END .........criterion=gini, max_depth=4, splitter=best; total time=   0.0s\n",
      "[CV] END .........criterion=gini, max_depth=4, splitter=best; total time=   0.0s\n",
      "[CV] END .......criterion=gini, max_depth=4, splitter=random; total time=   0.0s\n",
      "[CV] END .......criterion=gini, max_depth=4, splitter=random; total time=   0.0s\n",
      "[CV] END .......criterion=gini, max_depth=4, splitter=random; total time=   0.0s\n",
      "[CV] END .......criterion=gini, max_depth=4, splitter=random; total time=   0.0s\n",
      "[CV] END .......criterion=gini, max_depth=4, splitter=random; total time=   0.0s\n",
      "[CV] END .........criterion=gini, max_depth=5, splitter=best; total time=   0.0s\n",
      "[CV] END .........criterion=gini, max_depth=5, splitter=best; total time=   0.0s\n",
      "[CV] END .........criterion=gini, max_depth=5, splitter=best; total time=   0.0s\n",
      "[CV] END .........criterion=gini, max_depth=5, splitter=best; total time=   0.0s\n",
      "[CV] END .........criterion=gini, max_depth=5, splitter=best; total time=   0.0s\n",
      "[CV] END .......criterion=gini, max_depth=5, splitter=random; total time=   0.0s\n",
      "[CV] END .......criterion=gini, max_depth=5, splitter=random; total time=   0.0s\n",
      "[CV] END .......criterion=gini, max_depth=5, splitter=random; total time=   0.0s\n",
      "[CV] END .......criterion=gini, max_depth=5, splitter=random; total time=   0.0s\n",
      "[CV] END .......criterion=gini, max_depth=5, splitter=random; total time=   0.0s\n",
      "[CV] END ......criterion=entropy, max_depth=1, splitter=best; total time=   0.0s\n",
      "[CV] END ......criterion=entropy, max_depth=1, splitter=best; total time=   0.0s\n",
      "[CV] END ......criterion=entropy, max_depth=1, splitter=best; total time=   0.0s\n",
      "[CV] END ......criterion=entropy, max_depth=1, splitter=best; total time=   0.0s\n",
      "[CV] END ......criterion=entropy, max_depth=1, splitter=best; total time=   0.0s\n",
      "[CV] END ....criterion=entropy, max_depth=1, splitter=random; total time=   0.0s\n",
      "[CV] END ....criterion=entropy, max_depth=1, splitter=random; total time=   0.0s\n",
      "[CV] END ....criterion=entropy, max_depth=1, splitter=random; total time=   0.0s\n",
      "[CV] END ....criterion=entropy, max_depth=1, splitter=random; total time=   0.0s\n",
      "[CV] END ....criterion=entropy, max_depth=1, splitter=random; total time=   0.0s\n",
      "[CV] END ......criterion=entropy, max_depth=2, splitter=best; total time=   0.0s\n",
      "[CV] END ......criterion=entropy, max_depth=2, splitter=best; total time=   0.0s\n",
      "[CV] END ......criterion=entropy, max_depth=2, splitter=best; total time=   0.0s\n",
      "[CV] END ......criterion=entropy, max_depth=2, splitter=best; total time=   0.0s\n",
      "[CV] END ......criterion=entropy, max_depth=2, splitter=best; total time=   0.0s\n",
      "[CV] END ....criterion=entropy, max_depth=2, splitter=random; total time=   0.0s\n",
      "[CV] END ....criterion=entropy, max_depth=2, splitter=random; total time=   0.0s\n",
      "[CV] END ....criterion=entropy, max_depth=2, splitter=random; total time=   0.0s\n",
      "[CV] END ....criterion=entropy, max_depth=2, splitter=random; total time=   0.0s\n",
      "[CV] END ....criterion=entropy, max_depth=2, splitter=random; total time=   0.0s\n",
      "[CV] END ......criterion=entropy, max_depth=3, splitter=best; total time=   0.0s\n",
      "[CV] END ......criterion=entropy, max_depth=3, splitter=best; total time=   0.0s\n",
      "[CV] END ......criterion=entropy, max_depth=3, splitter=best; total time=   0.0s\n",
      "[CV] END ......criterion=entropy, max_depth=3, splitter=best; total time=   0.0s\n",
      "[CV] END ......criterion=entropy, max_depth=3, splitter=best; total time=   0.0s\n",
      "[CV] END ....criterion=entropy, max_depth=3, splitter=random; total time=   0.0s\n",
      "[CV] END ....criterion=entropy, max_depth=3, splitter=random; total time=   0.0s\n",
      "[CV] END ....criterion=entropy, max_depth=3, splitter=random; total time=   0.0s\n",
      "[CV] END ....criterion=entropy, max_depth=3, splitter=random; total time=   0.0s\n",
      "[CV] END ....criterion=entropy, max_depth=3, splitter=random; total time=   0.0s\n",
      "[CV] END ......criterion=entropy, max_depth=4, splitter=best; total time=   0.0s\n",
      "[CV] END ......criterion=entropy, max_depth=4, splitter=best; total time=   0.0s\n",
      "[CV] END ......criterion=entropy, max_depth=4, splitter=best; total time=   0.0s\n",
      "[CV] END ......criterion=entropy, max_depth=4, splitter=best; total time=   0.0s\n",
      "[CV] END ......criterion=entropy, max_depth=4, splitter=best; total time=   0.0s\n",
      "[CV] END ....criterion=entropy, max_depth=4, splitter=random; total time=   0.0s\n",
      "[CV] END ....criterion=entropy, max_depth=4, splitter=random; total time=   0.0s\n",
      "[CV] END ....criterion=entropy, max_depth=4, splitter=random; total time=   0.0s\n",
      "[CV] END ....criterion=entropy, max_depth=4, splitter=random; total time=   0.0s\n",
      "[CV] END ....criterion=entropy, max_depth=4, splitter=random; total time=   0.0s\n",
      "[CV] END ......criterion=entropy, max_depth=5, splitter=best; total time=   0.0s\n",
      "[CV] END ......criterion=entropy, max_depth=5, splitter=best; total time=   0.0s\n",
      "[CV] END ......criterion=entropy, max_depth=5, splitter=best; total time=   0.0s\n",
      "[CV] END ......criterion=entropy, max_depth=5, splitter=best; total time=   0.0s\n",
      "[CV] END ......criterion=entropy, max_depth=5, splitter=best; total time=   0.0s\n",
      "[CV] END ....criterion=entropy, max_depth=5, splitter=random; total time=   0.0s\n",
      "[CV] END ....criterion=entropy, max_depth=5, splitter=random; total time=   0.0s\n",
      "[CV] END ....criterion=entropy, max_depth=5, splitter=random; total time=   0.0s\n",
      "[CV] END ....criterion=entropy, max_depth=5, splitter=random; total time=   0.0s\n",
      "[CV] END ....criterion=entropy, max_depth=5, splitter=random; total time=   0.0s\n"
     ]
    },
    {
     "data": {
      "text/html": [
       "<style>#sk-container-id-5 {color: black;}#sk-container-id-5 pre{padding: 0;}#sk-container-id-5 div.sk-toggleable {background-color: white;}#sk-container-id-5 label.sk-toggleable__label {cursor: pointer;display: block;width: 100%;margin-bottom: 0;padding: 0.3em;box-sizing: border-box;text-align: center;}#sk-container-id-5 label.sk-toggleable__label-arrow:before {content: \"▸\";float: left;margin-right: 0.25em;color: #696969;}#sk-container-id-5 label.sk-toggleable__label-arrow:hover:before {color: black;}#sk-container-id-5 div.sk-estimator:hover label.sk-toggleable__label-arrow:before {color: black;}#sk-container-id-5 div.sk-toggleable__content {max-height: 0;max-width: 0;overflow: hidden;text-align: left;background-color: #f0f8ff;}#sk-container-id-5 div.sk-toggleable__content pre {margin: 0.2em;color: black;border-radius: 0.25em;background-color: #f0f8ff;}#sk-container-id-5 input.sk-toggleable__control:checked~div.sk-toggleable__content {max-height: 200px;max-width: 100%;overflow: auto;}#sk-container-id-5 input.sk-toggleable__control:checked~label.sk-toggleable__label-arrow:before {content: \"▾\";}#sk-container-id-5 div.sk-estimator input.sk-toggleable__control:checked~label.sk-toggleable__label {background-color: #d4ebff;}#sk-container-id-5 div.sk-label input.sk-toggleable__control:checked~label.sk-toggleable__label {background-color: #d4ebff;}#sk-container-id-5 input.sk-hidden--visually {border: 0;clip: rect(1px 1px 1px 1px);clip: rect(1px, 1px, 1px, 1px);height: 1px;margin: -1px;overflow: hidden;padding: 0;position: absolute;width: 1px;}#sk-container-id-5 div.sk-estimator {font-family: monospace;background-color: #f0f8ff;border: 1px dotted black;border-radius: 0.25em;box-sizing: border-box;margin-bottom: 0.5em;}#sk-container-id-5 div.sk-estimator:hover {background-color: #d4ebff;}#sk-container-id-5 div.sk-parallel-item::after {content: \"\";width: 100%;border-bottom: 1px solid gray;flex-grow: 1;}#sk-container-id-5 div.sk-label:hover label.sk-toggleable__label {background-color: #d4ebff;}#sk-container-id-5 div.sk-serial::before {content: \"\";position: absolute;border-left: 1px solid gray;box-sizing: border-box;top: 0;bottom: 0;left: 50%;z-index: 0;}#sk-container-id-5 div.sk-serial {display: flex;flex-direction: column;align-items: center;background-color: white;padding-right: 0.2em;padding-left: 0.2em;position: relative;}#sk-container-id-5 div.sk-item {position: relative;z-index: 1;}#sk-container-id-5 div.sk-parallel {display: flex;align-items: stretch;justify-content: center;background-color: white;position: relative;}#sk-container-id-5 div.sk-item::before, #sk-container-id-5 div.sk-parallel-item::before {content: \"\";position: absolute;border-left: 1px solid gray;box-sizing: border-box;top: 0;bottom: 0;left: 50%;z-index: -1;}#sk-container-id-5 div.sk-parallel-item {display: flex;flex-direction: column;z-index: 1;position: relative;background-color: white;}#sk-container-id-5 div.sk-parallel-item:first-child::after {align-self: flex-end;width: 50%;}#sk-container-id-5 div.sk-parallel-item:last-child::after {align-self: flex-start;width: 50%;}#sk-container-id-5 div.sk-parallel-item:only-child::after {width: 0;}#sk-container-id-5 div.sk-dashed-wrapped {border: 1px dashed gray;margin: 0 0.4em 0.5em 0.4em;box-sizing: border-box;padding-bottom: 0.4em;background-color: white;}#sk-container-id-5 div.sk-label label {font-family: monospace;font-weight: bold;display: inline-block;line-height: 1.2em;}#sk-container-id-5 div.sk-label-container {text-align: center;}#sk-container-id-5 div.sk-container {/* jupyter's `normalize.less` sets `[hidden] { display: none; }` but bootstrap.min.css set `[hidden] { display: none !important; }` so we also need the `!important` here to be able to override the default hidden behavior on the sphinx rendered scikit-learn.org. See: https://github.com/scikit-learn/scikit-learn/issues/21755 */display: inline-block !important;position: relative;}#sk-container-id-5 div.sk-text-repr-fallback {display: none;}</style><div id=\"sk-container-id-5\" class=\"sk-top-container\"><div class=\"sk-text-repr-fallback\"><pre>GridSearchCV(estimator=DecisionTreeClassifier(criterion=&#x27;entropy&#x27;, max_depth=5),\n",
       "             param_grid={&#x27;criterion&#x27;: [&#x27;gini&#x27;, &#x27;entropy&#x27;],\n",
       "                         &#x27;max_depth&#x27;: [1, 2, 3, 4, 5],\n",
       "                         &#x27;splitter&#x27;: [&#x27;best&#x27;, &#x27;random&#x27;]},\n",
       "             verbose=2)</pre><b>In a Jupyter environment, please rerun this cell to show the HTML representation or trust the notebook. <br />On GitHub, the HTML representation is unable to render, please try loading this page with nbviewer.org.</b></div><div class=\"sk-container\" hidden><div class=\"sk-item sk-dashed-wrapped\"><div class=\"sk-label-container\"><div class=\"sk-label sk-toggleable\"><input class=\"sk-toggleable__control sk-hidden--visually\" id=\"sk-estimator-id-7\" type=\"checkbox\" ><label for=\"sk-estimator-id-7\" class=\"sk-toggleable__label sk-toggleable__label-arrow\">GridSearchCV</label><div class=\"sk-toggleable__content\"><pre>GridSearchCV(estimator=DecisionTreeClassifier(criterion=&#x27;entropy&#x27;, max_depth=5),\n",
       "             param_grid={&#x27;criterion&#x27;: [&#x27;gini&#x27;, &#x27;entropy&#x27;],\n",
       "                         &#x27;max_depth&#x27;: [1, 2, 3, 4, 5],\n",
       "                         &#x27;splitter&#x27;: [&#x27;best&#x27;, &#x27;random&#x27;]},\n",
       "             verbose=2)</pre></div></div></div><div class=\"sk-parallel\"><div class=\"sk-parallel-item\"><div class=\"sk-item\"><div class=\"sk-label-container\"><div class=\"sk-label sk-toggleable\"><input class=\"sk-toggleable__control sk-hidden--visually\" id=\"sk-estimator-id-8\" type=\"checkbox\" ><label for=\"sk-estimator-id-8\" class=\"sk-toggleable__label sk-toggleable__label-arrow\">estimator: DecisionTreeClassifier</label><div class=\"sk-toggleable__content\"><pre>DecisionTreeClassifier(criterion=&#x27;entropy&#x27;, max_depth=5)</pre></div></div></div><div class=\"sk-serial\"><div class=\"sk-item\"><div class=\"sk-estimator sk-toggleable\"><input class=\"sk-toggleable__control sk-hidden--visually\" id=\"sk-estimator-id-9\" type=\"checkbox\" ><label for=\"sk-estimator-id-9\" class=\"sk-toggleable__label sk-toggleable__label-arrow\">DecisionTreeClassifier</label><div class=\"sk-toggleable__content\"><pre>DecisionTreeClassifier(criterion=&#x27;entropy&#x27;, max_depth=5)</pre></div></div></div></div></div></div></div></div></div></div>"
      ],
      "text/plain": [
       "GridSearchCV(estimator=DecisionTreeClassifier(criterion='entropy', max_depth=5),\n",
       "             param_grid={'criterion': ['gini', 'entropy'],\n",
       "                         'max_depth': [1, 2, 3, 4, 5],\n",
       "                         'splitter': ['best', 'random']},\n",
       "             verbose=2)"
      ]
     },
     "execution_count": 100,
     "metadata": {},
     "output_type": "execute_result"
    }
   ],
   "source": [
    "grid_search.fit(x_train,y_train)"
   ]
  },
  {
   "cell_type": "code",
   "execution_count": 101,
   "id": "71606f97",
   "metadata": {},
   "outputs": [
    {
     "data": {
      "text/plain": [
       "{'criterion': 'entropy', 'max_depth': 5, 'splitter': 'best'}"
      ]
     },
     "execution_count": 101,
     "metadata": {},
     "output_type": "execute_result"
    }
   ],
   "source": [
    "grid_search.best_params_"
   ]
  },
  {
   "cell_type": "code",
   "execution_count": 149,
   "id": "4685f0ad",
   "metadata": {},
   "outputs": [
    {
     "data": {
      "image/png": "[encoded data removed]",
      "text/plain": [
       "<Figure size 1400x1000 with 1 Axes>"
      ]
     },
     "metadata": {},
     "output_type": "display_data"
    }
   ],
   "source": [
    "plt.figure(figsize=(14,10))\n",
    "plot_tree(dec_tree,max_depth=3,filled=True,rounded=True);"
   ]
  },
  {
   "cell_type": "code",
   "execution_count": 150,
   "id": "85ad89b3",
   "metadata": {},
   "outputs": [],
   "source": [
    "from sklearn import tree"
   ]
  },
  {
   "cell_type": "code",
   "execution_count": 152,
   "id": "0780e32a",
   "metadata": {},
   "outputs": [
    {
     "name": "stdout",
     "output_type": "stream",
     "text": [
      "|--- feature_2 <= 62.00\n",
      "|   |--- feature_5 <= 51.50\n",
      "|   |   |--- feature_64 <= 0.50\n",
      "|   |   |   |--- class: lived\n",
      "|   |   |--- feature_64 >  0.50\n",
      "|   |   |   |--- class: lived\n",
      "|   |--- feature_5 >  51.50\n",
      "|   |   |--- feature_0 <= 529575.00\n",
      "|   |   |   |--- class: died\n",
      "|   |   |--- feature_0 >  529575.00\n",
      "|   |   |   |--- class: lived\n",
      "|--- feature_2 >  62.00\n",
      "|   |--- feature_6 <= 9.60\n",
      "|   |   |--- feature_5 <= 52.50\n",
      "|   |   |   |--- class: lived\n",
      "|   |   |--- feature_5 >  52.50\n",
      "|   |   |   |--- class: died\n",
      "|   |--- feature_6 >  9.60\n",
      "|   |   |--- feature_55 <= 0.50\n",
      "|   |   |   |--- class: lived\n",
      "|   |   |--- feature_55 >  0.50\n",
      "|   |   |   |--- class: euthanized\n",
      "\n"
     ]
    }
   ],
   "source": [
    "print(tree.export_text(dec_tree))"
   ]
  },
  {
   "cell_type": "code",
   "execution_count": null,
   "id": "660b7efb",
   "metadata": {},
   "outputs": [],
   "source": []
  }
 ],
 "metadata": {
  "kernelspec": {
   "display_name": "Python 3 (ipykernel)",
   "language": "python",
   "name": "python3"
  },
  "language_info": {
   "codemirror_mode": {
    "name": "ipython",
    "version": 3
   },
   "file_extension": ".py",
   "mimetype": "text/x-python",
   "name": "python",
   "nbconvert_exporter": "python",
   "pygments_lexer": "ipython3",
   "version": "3.11.5"
  }
 },
 "nbformat": 4,
 "nbformat_minor": 5
}
