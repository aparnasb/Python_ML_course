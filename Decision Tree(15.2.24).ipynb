{
 "cells": [
  {
   "cell_type": "code",
   "execution_count": 1,
   "id": "a00e263f",
   "metadata": {},
   "outputs": [],
   "source": [
    "import math"
   ]
  },
  {
   "cell_type": "code",
   "execution_count": 2,
   "id": "ed6425f0",
   "metadata": {},
   "outputs": [
    {
     "data": {
      "text/plain": [
       "0.9402859586706311"
      ]
     },
     "execution_count": 2,
     "metadata": {},
     "output_type": "execute_result"
    }
   ],
   "source": [
    "Total_Entropy= (9/14*(math.log2(14/9)))+(5/14*(math.log2(14/5)))\n",
    "Total_Entropy"
   ]
  },
  {
   "cell_type": "code",
   "execution_count": 3,
   "id": "03c91f45",
   "metadata": {},
   "outputs": [
    {
     "data": {
      "text/plain": [
       "0.9852281360342514"
      ]
     },
     "execution_count": 3,
     "metadata": {},
     "output_type": "execute_result"
    }
   ],
   "source": [
    "Humidity_High= (3/7*(math.log2(7/3)))+(4/7*(math.log2(7/4)))\n",
    "Humidity_High"
   ]
  },
  {
   "cell_type": "code",
   "execution_count": 4,
   "id": "dec1bdeb",
   "metadata": {},
   "outputs": [
    {
     "data": {
      "text/plain": [
       "0.5916727785823275"
      ]
     },
     "execution_count": 4,
     "metadata": {},
     "output_type": "execute_result"
    }
   ],
   "source": [
    "Humidity_Norm= (6/7*(math.log2(7/6)))+(1/7*(math.log2(7/1)))\n",
    "Humidity_Norm"
   ]
  },
  {
   "cell_type": "code",
   "execution_count": 5,
   "id": "9f423041",
   "metadata": {},
   "outputs": [],
   "source": [
    "Inf_Gain_Humidity= Total_Entropy-(((7/14)*Humidity_High)+((7/14)*Humidity_Norm))"
   ]
  },
  {
   "cell_type": "code",
   "execution_count": 6,
   "id": "824a2f19",
   "metadata": {},
   "outputs": [
    {
     "data": {
      "text/plain": [
       "0.1518355013623417"
      ]
     },
     "execution_count": 6,
     "metadata": {},
     "output_type": "execute_result"
    }
   ],
   "source": [
    "Inf_Gain_Humidity"
   ]
  },
  {
   "cell_type": "code",
   "execution_count": 7,
   "id": "5ddcd184",
   "metadata": {},
   "outputs": [
    {
     "data": {
      "text/plain": [
       "0.8112781244591327"
      ]
     },
     "execution_count": 7,
     "metadata": {},
     "output_type": "execute_result"
    }
   ],
   "source": [
    "Wing_weak= (6/8*(math.log2(8/6)))+(2/8*(math.log2(8/2)))\n",
    "Wing_weak"
   ]
  },
  {
   "cell_type": "code",
   "execution_count": 8,
   "id": "d27e631c",
   "metadata": {},
   "outputs": [
    {
     "data": {
      "text/plain": [
       "1.0"
      ]
     },
     "execution_count": 8,
     "metadata": {},
     "output_type": "execute_result"
    }
   ],
   "source": [
    "Wing_strong= (3/6*(math.log2(6/3)))+(3/6*(math.log2(6/3)))\n",
    "Wing_strong"
   ]
  },
  {
   "cell_type": "code",
   "execution_count": 9,
   "id": "1815284b",
   "metadata": {},
   "outputs": [
    {
     "data": {
      "text/plain": [
       "0.04812703040826971"
      ]
     },
     "execution_count": 9,
     "metadata": {},
     "output_type": "execute_result"
    }
   ],
   "source": [
    "Inf_Gain_Wind= Total_Entropy-(((8/14)*Wing_weak)+((6/14)*Wing_strong))\n",
    "Inf_Gain_Wind"
   ]
  },
  {
   "cell_type": "code",
   "execution_count": 10,
   "id": "ede0f1b0",
   "metadata": {},
   "outputs": [
    {
     "data": {
      "text/plain": [
       "0.9709505944546687"
      ]
     },
     "execution_count": 10,
     "metadata": {},
     "output_type": "execute_result"
    }
   ],
   "source": [
    "Entropy_Sunny= 2/5*(math.log2(5/2))+(3/5*(math.log2(5/3)))\n",
    "Entropy_Sunny"
   ]
  },
  {
   "cell_type": "code",
   "execution_count": 14,
   "id": "a01e3db9",
   "metadata": {},
   "outputs": [],
   "source": [
    "Entropy_sunny_hum_high= 0\n",
    "Entropy_sunny_hyum_normal=0"
   ]
  },
  {
   "cell_type": "code",
   "execution_count": 12,
   "id": "b1605a76",
   "metadata": {},
   "outputs": [
    {
     "data": {
      "text/plain": [
       "0.0"
      ]
     },
     "execution_count": 12,
     "metadata": {},
     "output_type": "execute_result"
    }
   ],
   "source": [
    "math.log2(1)"
   ]
  },
  {
   "cell_type": "code",
   "execution_count": 17,
   "id": "19164911",
   "metadata": {},
   "outputs": [],
   "source": [
    "Information_gain_sunny_humidity= Entropy_Sunny-(((3/5)*Entropy_sunny_hum_high)+((2/5)*Entropy_sunny_hyum_normal))"
   ]
  },
  {
   "cell_type": "code",
   "execution_count": 18,
   "id": "54e3008f",
   "metadata": {},
   "outputs": [
    {
     "data": {
      "text/plain": [
       "0.9709505944546687"
      ]
     },
     "execution_count": 18,
     "metadata": {},
     "output_type": "execute_result"
    }
   ],
   "source": [
    "Information_gain_sunny_humidity"
   ]
  },
  {
   "cell_type": "code",
   "execution_count": 19,
   "id": "7e96d137",
   "metadata": {},
   "outputs": [
    {
     "data": {
      "text/plain": [
       "0.9182958340544893"
      ]
     },
     "execution_count": 19,
     "metadata": {},
     "output_type": "execute_result"
    }
   ],
   "source": [
    "Entropy_sunny_wind_weak=1/3*(math.log2(3/1))+(2/3*(math.log2(3/2)))\n",
    "Entropy_sunny_wind_weak"
   ]
  },
  {
   "cell_type": "code",
   "execution_count": 20,
   "id": "c31f5d31",
   "metadata": {},
   "outputs": [
    {
     "data": {
      "text/plain": [
       "1.0"
      ]
     },
     "execution_count": 20,
     "metadata": {},
     "output_type": "execute_result"
    }
   ],
   "source": [
    "Entropy_sunny_wind_strong=1/2*(math.log2(2/1))+(1/2*(math.log2(2/1)))\n",
    "Entropy_sunny_wind_strong"
   ]
  },
  {
   "cell_type": "code",
   "execution_count": 21,
   "id": "ea8574be",
   "metadata": {},
   "outputs": [],
   "source": [
    "Information_gain_sunny_wind= Entropy_Sunny-(((3/5)*Entropy_sunny_wind_weak)+((2/5)*Entropy_sunny_wind_strong))"
   ]
  },
  {
   "cell_type": "code",
   "execution_count": 22,
   "id": "26ec8c01",
   "metadata": {},
   "outputs": [
    {
     "data": {
      "text/plain": [
       "0.019973094021975113"
      ]
     },
     "execution_count": 22,
     "metadata": {},
     "output_type": "execute_result"
    }
   ],
   "source": [
    "Information_gain_sunny_wind"
   ]
  },
  {
   "cell_type": "code",
   "execution_count": null,
   "id": "ebcb4ae8",
   "metadata": {},
   "outputs": [],
   "source": []
  }
 ],
 "metadata": {
  "kernelspec": {
   "display_name": "Python 3 (ipykernel)",
   "language": "python",
   "name": "python3"
  },
  "language_info": {
   "codemirror_mode": {
    "name": "ipython",
    "version": 3
   },
   "file_extension": ".py",
   "mimetype": "text/x-python",
   "name": "python",
   "nbconvert_exporter": "python",
   "pygments_lexer": "ipython3",
   "version": "3.11.5"
  }
 },
 "nbformat": 4,
 "nbformat_minor": 5
}
