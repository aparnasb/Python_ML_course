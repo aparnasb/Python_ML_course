{
 "cells": [
  {
   "cell_type": "markdown",
   "id": "14274de9",
   "metadata": {},
   "source": [
    "## ANOVA test"
   ]
  },
  {
   "cell_type": "code",
   "execution_count": 76,
   "id": "216df7ff",
   "metadata": {},
   "outputs": [],
   "source": [
    "a= [2,3,7,2,6]\n",
    "b=[10,8,7,5,10]\n",
    "c=[10,13,14,13,15]"
   ]
  },
  {
   "cell_type": "code",
   "execution_count": 48,
   "id": "9c6ba51d",
   "metadata": {},
   "outputs": [],
   "source": [
    "import numpy as np"
   ]
  },
  {
   "cell_type": "code",
   "execution_count": 49,
   "id": "e1d47ebc",
   "metadata": {},
   "outputs": [
    {
     "data": {
      "text/plain": [
       "4.0"
      ]
     },
     "execution_count": 49,
     "metadata": {},
     "output_type": "execute_result"
    }
   ],
   "source": [
    "mean_a= np.mean(a)\n",
    "mean_a"
   ]
  },
  {
   "cell_type": "code",
   "execution_count": 50,
   "id": "3f69dbbd",
   "metadata": {},
   "outputs": [
    {
     "data": {
      "text/plain": [
       "8.0"
      ]
     },
     "execution_count": 50,
     "metadata": {},
     "output_type": "execute_result"
    }
   ],
   "source": [
    "mean_b= np.mean(b)\n",
    "mean_b"
   ]
  },
  {
   "cell_type": "code",
   "execution_count": 51,
   "id": "64c80df2",
   "metadata": {},
   "outputs": [
    {
     "data": {
      "text/plain": [
       "13.0"
      ]
     },
     "execution_count": 51,
     "metadata": {},
     "output_type": "execute_result"
    }
   ],
   "source": [
    "mean_c=np.mean(c)\n",
    "mean_c"
   ]
  },
  {
   "cell_type": "code",
   "execution_count": 52,
   "id": "d704357e",
   "metadata": {},
   "outputs": [],
   "source": [
    "var_a= sum((a-mean_a)**2)"
   ]
  },
  {
   "cell_type": "code",
   "execution_count": 53,
   "id": "82f1bf1b",
   "metadata": {},
   "outputs": [
    {
     "data": {
      "text/plain": [
       "22.0"
      ]
     },
     "execution_count": 53,
     "metadata": {},
     "output_type": "execute_result"
    }
   ],
   "source": [
    "var_a"
   ]
  },
  {
   "cell_type": "code",
   "execution_count": 54,
   "id": "e8a6ce80",
   "metadata": {},
   "outputs": [
    {
     "data": {
      "text/plain": [
       "18.0"
      ]
     },
     "execution_count": 54,
     "metadata": {},
     "output_type": "execute_result"
    }
   ],
   "source": [
    "var_b= sum((b-mean_b)**2)\n",
    "var_b"
   ]
  },
  {
   "cell_type": "code",
   "execution_count": 55,
   "id": "381fb000",
   "metadata": {},
   "outputs": [
    {
     "data": {
      "text/plain": [
       "14.0"
      ]
     },
     "execution_count": 55,
     "metadata": {},
     "output_type": "execute_result"
    }
   ],
   "source": [
    "var_c=sum((c-mean_c)**2)\n",
    "var_c"
   ]
  },
  {
   "cell_type": "code",
   "execution_count": 56,
   "id": "515ac47d",
   "metadata": {},
   "outputs": [],
   "source": [
    "var_within_groups= var_a+var_b+var_c"
   ]
  },
  {
   "cell_type": "code",
   "execution_count": 57,
   "id": "d1c518fd",
   "metadata": {},
   "outputs": [
    {
     "data": {
      "text/plain": [
       "54.0"
      ]
     },
     "execution_count": 57,
     "metadata": {},
     "output_type": "execute_result"
    }
   ],
   "source": [
    "var_within_groups"
   ]
  },
  {
   "cell_type": "code",
   "execution_count": 58,
   "id": "289b4d14",
   "metadata": {},
   "outputs": [],
   "source": [
    "a=[1,2,3,4,5]"
   ]
  },
  {
   "cell_type": "code",
   "execution_count": 59,
   "id": "e2ebff8c",
   "metadata": {},
   "outputs": [
    {
     "data": {
      "text/plain": [
       "3.0"
      ]
     },
     "execution_count": 59,
     "metadata": {},
     "output_type": "execute_result"
    }
   ],
   "source": [
    "a_m=np.mean(a)\n",
    "a_m"
   ]
  },
  {
   "cell_type": "code",
   "execution_count": 60,
   "id": "264ae5d8",
   "metadata": {},
   "outputs": [
    {
     "data": {
      "text/plain": [
       "10.0"
      ]
     },
     "execution_count": 60,
     "metadata": {},
     "output_type": "execute_result"
    }
   ],
   "source": [
    "sum((a-a_m)**2)"
   ]
  },
  {
   "cell_type": "code",
   "execution_count": 61,
   "id": "266253b3",
   "metadata": {},
   "outputs": [
    {
     "data": {
      "text/plain": [
       "8.333333333333334"
      ]
     },
     "execution_count": 61,
     "metadata": {},
     "output_type": "execute_result"
    }
   ],
   "source": [
    "Overall_mean= (mean_a+mean_b+mean_c)/3\n",
    "Overall_mean"
   ]
  },
  {
   "cell_type": "code",
   "execution_count": 62,
   "id": "8f6b1ec0",
   "metadata": {},
   "outputs": [
    {
     "data": {
      "text/plain": [
       "203.33333333333331"
      ]
     },
     "execution_count": 62,
     "metadata": {},
     "output_type": "execute_result"
    }
   ],
   "source": [
    "Var_bet_groups= (5*((Overall_mean-mean_a)**2)) +  (5*((Overall_mean-mean_b)**2)) +  (5*((Overall_mean-mean_c)**2))\n",
    "Var_bet_groups"
   ]
  },
  {
   "cell_type": "code",
   "execution_count": 63,
   "id": "2588c4b0",
   "metadata": {},
   "outputs": [
    {
     "data": {
      "text/plain": [
       "8.333333333333334"
      ]
     },
     "execution_count": 63,
     "metadata": {},
     "output_type": "execute_result"
    }
   ],
   "source": [
    "Total_data= [2,3,7,2,6,10,8,7,5,10,10,13,14,13,15]\n",
    "mean_Total_data= np.mean(Total_data)\n",
    "mean_Total_data"
   ]
  },
  {
   "cell_type": "code",
   "execution_count": 64,
   "id": "11357d8f",
   "metadata": {},
   "outputs": [],
   "source": [
    "Total_var= sum((Total_data-mean_Total_data)**2)"
   ]
  },
  {
   "cell_type": "code",
   "execution_count": 65,
   "id": "856282b2",
   "metadata": {},
   "outputs": [
    {
     "data": {
      "text/plain": [
       "257.33333333333337"
      ]
     },
     "execution_count": 65,
     "metadata": {},
     "output_type": "execute_result"
    }
   ],
   "source": [
    "Total_var"
   ]
  },
  {
   "cell_type": "code",
   "execution_count": 66,
   "id": "ec984f5b",
   "metadata": {},
   "outputs": [
    {
     "data": {
      "text/plain": [
       "257.3333333333333"
      ]
     },
     "execution_count": 66,
     "metadata": {},
     "output_type": "execute_result"
    }
   ],
   "source": [
    "Var_bet_groups+var_within_groups"
   ]
  },
  {
   "cell_type": "code",
   "execution_count": 67,
   "id": "ea56ef4d",
   "metadata": {},
   "outputs": [],
   "source": [
    "## Fstats= (variance_bet_group/df1)/(variance_within_group/df2)\n",
    "df1=2\n",
    "df2=12"
   ]
  },
  {
   "cell_type": "code",
   "execution_count": 68,
   "id": "006ddd5e",
   "metadata": {},
   "outputs": [
    {
     "data": {
      "text/plain": [
       "22.59259259259259"
      ]
     },
     "execution_count": 68,
     "metadata": {},
     "output_type": "execute_result"
    }
   ],
   "source": [
    "F_stats= (Var_bet_groups/df1)/(var_within_groups/df2)\n",
    "F_stats"
   ]
  },
  {
   "cell_type": "code",
   "execution_count": 69,
   "id": "0d05f129",
   "metadata": {},
   "outputs": [],
   "source": [
    "import scipy.stats as stats"
   ]
  },
  {
   "cell_type": "code",
   "execution_count": 70,
   "id": "5af3bac1",
   "metadata": {},
   "outputs": [
    {
     "data": {
      "text/plain": [
       "3.8852938346523933"
      ]
     },
     "execution_count": 70,
     "metadata": {},
     "output_type": "execute_result"
    }
   ],
   "source": [
    "F_critcial=stats.f.ppf(1-0.05,dfn=2,dfd=12)\n",
    "F_critcial"
   ]
  },
  {
   "cell_type": "code",
   "execution_count": 77,
   "id": "69f79aa0",
   "metadata": {},
   "outputs": [
    {
     "data": {
      "text/plain": [
       "F_onewayResult(statistic=22.59259259259259, pvalue=8.538592454274676e-05)"
      ]
     },
     "execution_count": 77,
     "metadata": {},
     "output_type": "execute_result"
    }
   ],
   "source": [
    "stats.f_oneway(a,b,c)"
   ]
  },
  {
   "cell_type": "code",
   "execution_count": 79,
   "id": "4c83ed54",
   "metadata": {},
   "outputs": [],
   "source": [
    "import pandas as pd\n",
    "df=pd.read_csv('Plant_growth.csv')"
   ]
  },
  {
   "cell_type": "code",
   "execution_count": 80,
   "id": "60674b21",
   "metadata": {},
   "outputs": [
    {
     "data": {
      "text/html": [
       "<div>\n",
       "<style scoped>\n",
       "    .dataframe tbody tr th:only-of-type {\n",
       "        vertical-align: middle;\n",
       "    }\n",
       "\n",
       "    .dataframe tbody tr th {\n",
       "        vertical-align: top;\n",
       "    }\n",
       "\n",
       "    .dataframe thead th {\n",
       "        text-align: right;\n",
       "    }\n",
       "</style>\n",
       "<table border=\"1\" class=\"dataframe\">\n",
       "  <thead>\n",
       "    <tr style=\"text-align: right;\">\n",
       "      <th></th>\n",
       "      <th>weight</th>\n",
       "      <th>treatment_type</th>\n",
       "    </tr>\n",
       "  </thead>\n",
       "  <tbody>\n",
       "    <tr>\n",
       "      <th>0</th>\n",
       "      <td>4.17</td>\n",
       "      <td>ctrl</td>\n",
       "    </tr>\n",
       "    <tr>\n",
       "      <th>1</th>\n",
       "      <td>5.58</td>\n",
       "      <td>ctrl</td>\n",
       "    </tr>\n",
       "    <tr>\n",
       "      <th>2</th>\n",
       "      <td>5.18</td>\n",
       "      <td>ctrl</td>\n",
       "    </tr>\n",
       "    <tr>\n",
       "      <th>3</th>\n",
       "      <td>6.11</td>\n",
       "      <td>ctrl</td>\n",
       "    </tr>\n",
       "    <tr>\n",
       "      <th>4</th>\n",
       "      <td>4.50</td>\n",
       "      <td>ctrl</td>\n",
       "    </tr>\n",
       "  </tbody>\n",
       "</table>\n",
       "</div>"
      ],
      "text/plain": [
       "   weight treatment_type\n",
       "0    4.17           ctrl\n",
       "1    5.58           ctrl\n",
       "2    5.18           ctrl\n",
       "3    6.11           ctrl\n",
       "4    4.50           ctrl"
      ]
     },
     "execution_count": 80,
     "metadata": {},
     "output_type": "execute_result"
    }
   ],
   "source": [
    "df.head()"
   ]
  },
  {
   "cell_type": "code",
   "execution_count": 81,
   "id": "7c5eb571",
   "metadata": {},
   "outputs": [
    {
     "data": {
      "text/plain": [
       "(30, 2)"
      ]
     },
     "execution_count": 81,
     "metadata": {},
     "output_type": "execute_result"
    }
   ],
   "source": [
    "df.shape"
   ]
  },
  {
   "cell_type": "code",
   "execution_count": 82,
   "id": "924ae503",
   "metadata": {},
   "outputs": [
    {
     "data": {
      "text/plain": [
       "treatment_type\n",
       "ctrl    10\n",
       "trt1    10\n",
       "trt2    10\n",
       "Name: count, dtype: int64"
      ]
     },
     "execution_count": 82,
     "metadata": {},
     "output_type": "execute_result"
    }
   ],
   "source": [
    "df.treatment_type.value_counts()"
   ]
  },
  {
   "cell_type": "code",
   "execution_count": 83,
   "id": "87e174c0",
   "metadata": {},
   "outputs": [],
   "source": [
    "ctrl= df[df.treatment_type=='ctrl']['weight']"
   ]
  },
  {
   "cell_type": "code",
   "execution_count": 84,
   "id": "0719d71b",
   "metadata": {},
   "outputs": [
    {
     "data": {
      "text/plain": [
       "0    4.17\n",
       "1    5.58\n",
       "2    5.18\n",
       "3    6.11\n",
       "4    4.50\n",
       "5    4.61\n",
       "6    5.17\n",
       "7    4.53\n",
       "8    5.33\n",
       "9    5.14\n",
       "Name: weight, dtype: float64"
      ]
     },
     "execution_count": 84,
     "metadata": {},
     "output_type": "execute_result"
    }
   ],
   "source": [
    "ctrl"
   ]
  },
  {
   "cell_type": "code",
   "execution_count": 85,
   "id": "fa282504",
   "metadata": {},
   "outputs": [
    {
     "data": {
      "text/plain": [
       "10    4.81\n",
       "11    4.17\n",
       "12    4.41\n",
       "13    3.59\n",
       "14    5.87\n",
       "15    3.83\n",
       "16    6.03\n",
       "17    4.89\n",
       "18    4.32\n",
       "19    4.69\n",
       "Name: weight, dtype: float64"
      ]
     },
     "execution_count": 85,
     "metadata": {},
     "output_type": "execute_result"
    }
   ],
   "source": [
    "trt1= df[df.treatment_type=='trt1']['weight']\n",
    "trt1"
   ]
  },
  {
   "cell_type": "code",
   "execution_count": 86,
   "id": "0284cff2",
   "metadata": {},
   "outputs": [
    {
     "data": {
      "text/plain": [
       "20    6.31\n",
       "21    5.12\n",
       "22    5.54\n",
       "23    5.50\n",
       "24    5.37\n",
       "25    5.29\n",
       "26    4.92\n",
       "27    6.15\n",
       "28    5.80\n",
       "29    5.26\n",
       "Name: weight, dtype: float64"
      ]
     },
     "execution_count": 86,
     "metadata": {},
     "output_type": "execute_result"
    }
   ],
   "source": [
    "trt2= df[df.treatment_type=='trt2']['weight']\n",
    "trt2"
   ]
  },
  {
   "cell_type": "code",
   "execution_count": 87,
   "id": "b4649cf7",
   "metadata": {},
   "outputs": [
    {
     "data": {
      "text/plain": [
       "F_onewayResult(statistic=4.846087862380136, pvalue=0.0159099583256229)"
      ]
     },
     "execution_count": 87,
     "metadata": {},
     "output_type": "execute_result"
    }
   ],
   "source": [
    "stats.f_oneway(ctrl,trt1,trt2)"
   ]
  },
  {
   "cell_type": "code",
   "execution_count": 89,
   "id": "25e521e0",
   "metadata": {},
   "outputs": [
    {
     "data": {
      "text/plain": [
       "3.3541308285291986"
      ]
     },
     "execution_count": 89,
     "metadata": {},
     "output_type": "execute_result"
    }
   ],
   "source": [
    "f_critical=stats.f.ppf(1-0.05,2,27)\n",
    "f_critical"
   ]
  },
  {
   "cell_type": "code",
   "execution_count": null,
   "id": "e4dd17d4",
   "metadata": {},
   "outputs": [],
   "source": []
  }
 ],
 "metadata": {
  "kernelspec": {
   "display_name": "Python 3 (ipykernel)",
   "language": "python",
   "name": "python3"
  },
  "language_info": {
   "codemirror_mode": {
    "name": "ipython",
    "version": 3
   },
   "file_extension": ".py",
   "mimetype": "text/x-python",
   "name": "python",
   "nbconvert_exporter": "python",
   "pygments_lexer": "ipython3",
   "version": "3.11.5"
  }
 },
 "nbformat": 4,
 "nbformat_minor": 5
}
