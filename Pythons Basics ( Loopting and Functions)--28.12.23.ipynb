{
 "cells": [
  {
   "cell_type": "markdown",
   "id": "c61739a5",
   "metadata": {},
   "source": [
    "## Dictionaries"
   ]
  },
  {
   "cell_type": "code",
   "execution_count": 1,
   "id": "1596d5ae",
   "metadata": {},
   "outputs": [],
   "source": [
    "dict1= {'name':'ajay'}"
   ]
  },
  {
   "cell_type": "code",
   "execution_count": 50,
   "id": "e32b5d97",
   "metadata": {},
   "outputs": [
    {
     "name": "stdout",
     "output_type": "stream",
     "text": [
      "25\n"
     ]
    }
   ],
   "source": [
    "add(5)"
   ]
  },
  {
   "cell_type": "code",
   "execution_count": 2,
   "id": "331e55d1",
   "metadata": {},
   "outputs": [
    {
     "data": {
      "text/plain": [
       "dict"
      ]
     },
     "execution_count": 2,
     "metadata": {},
     "output_type": "execute_result"
    }
   ],
   "source": [
    "type(dict1)"
   ]
  },
  {
   "cell_type": "code",
   "execution_count": 3,
   "id": "304458b1",
   "metadata": {},
   "outputs": [
    {
     "data": {
      "text/plain": [
       "True"
      ]
     },
     "execution_count": 3,
     "metadata": {},
     "output_type": "execute_result"
    }
   ],
   "source": [
    "isinstance(dict1,dict)"
   ]
  },
  {
   "cell_type": "code",
   "execution_count": 4,
   "id": "d36f9e1f",
   "metadata": {},
   "outputs": [],
   "source": [
    "dict1['name']=['ajay','sanjay','ravi','sam']"
   ]
  },
  {
   "cell_type": "code",
   "execution_count": 5,
   "id": "8f3cab55",
   "metadata": {},
   "outputs": [],
   "source": [
    "dict1['age']=[30,40,25,35]"
   ]
  },
  {
   "cell_type": "code",
   "execution_count": 6,
   "id": "9c46aea1",
   "metadata": {},
   "outputs": [
    {
     "data": {
      "text/plain": [
       "{'name': ['ajay', 'sanjay', 'ravi', 'sam'], 'age': [30, 40, 25, 35]}"
      ]
     },
     "execution_count": 6,
     "metadata": {},
     "output_type": "execute_result"
    }
   ],
   "source": [
    "dict1"
   ]
  },
  {
   "cell_type": "code",
   "execution_count": 7,
   "id": "6e714a05",
   "metadata": {},
   "outputs": [],
   "source": [
    "dict1['location']=['mumbai','chennai','bengaluru','calcutta']"
   ]
  },
  {
   "cell_type": "code",
   "execution_count": 84,
   "id": "4f89cf19",
   "metadata": {},
   "outputs": [
    {
     "data": {
      "text/plain": [
       "{'name': ['ajay', 'sanjay', 'ravi', 'sam'],\n",
       " 'age': [30, 40, 25, 35],\n",
       " 'location': ['mumbai', 'chennai', 'bengaluru', 'calcutta']}"
      ]
     },
     "execution_count": 84,
     "metadata": {},
     "output_type": "execute_result"
    }
   ],
   "source": [
    "dict1."
   ]
  },
  {
   "cell_type": "code",
   "execution_count": 8,
   "id": "d91f4d9f",
   "metadata": {},
   "outputs": [
    {
     "data": {
      "text/plain": [
       "dict_keys(['name', 'age', 'location'])"
      ]
     },
     "execution_count": 8,
     "metadata": {},
     "output_type": "execute_result"
    }
   ],
   "source": [
    "dict1.keys()"
   ]
  },
  {
   "cell_type": "code",
   "execution_count": 9,
   "id": "0e5545ca",
   "metadata": {},
   "outputs": [
    {
     "data": {
      "text/plain": [
       "dict_values([['ajay', 'sanjay', 'ravi', 'sam'], [30, 40, 25, 35], ['mumbai', 'chennai', 'bengaluru', 'calcutta']])"
      ]
     },
     "execution_count": 9,
     "metadata": {},
     "output_type": "execute_result"
    }
   ],
   "source": [
    "dict1.values()"
   ]
  },
  {
   "cell_type": "code",
   "execution_count": 10,
   "id": "9ad08894",
   "metadata": {},
   "outputs": [
    {
     "data": {
      "text/plain": [
       "['ajay', 'sanjay', 'ravi', 'sam']"
      ]
     },
     "execution_count": 10,
     "metadata": {},
     "output_type": "execute_result"
    }
   ],
   "source": [
    "dict1.get('name')"
   ]
  },
  {
   "cell_type": "code",
   "execution_count": 12,
   "id": "5bc9e9c4",
   "metadata": {},
   "outputs": [
    {
     "data": {
      "text/plain": [
       "'ravi'"
      ]
     },
     "execution_count": 12,
     "metadata": {},
     "output_type": "execute_result"
    }
   ],
   "source": [
    "dict1['name'][2]"
   ]
  },
  {
   "cell_type": "code",
   "execution_count": 13,
   "id": "5f145560",
   "metadata": {},
   "outputs": [],
   "source": [
    "dict2= dict1.copy()"
   ]
  },
  {
   "cell_type": "code",
   "execution_count": 14,
   "id": "7eab15a7",
   "metadata": {},
   "outputs": [
    {
     "data": {
      "text/plain": [
       "{'name': ['ajay', 'sanjay', 'ravi', 'sam'],\n",
       " 'age': [30, 40, 25, 35],\n",
       " 'location': ['mumbai', 'chennai', 'bengaluru', 'calcutta']}"
      ]
     },
     "execution_count": 14,
     "metadata": {},
     "output_type": "execute_result"
    }
   ],
   "source": [
    "dict2"
   ]
  },
  {
   "cell_type": "code",
   "execution_count": 15,
   "id": "5f5aca83",
   "metadata": {},
   "outputs": [],
   "source": [
    "dict1['gender']=['male','male','male','male']"
   ]
  },
  {
   "cell_type": "code",
   "execution_count": 16,
   "id": "6ede0680",
   "metadata": {},
   "outputs": [
    {
     "data": {
      "text/plain": [
       "{'name': ['ajay', 'sanjay', 'ravi', 'sam'],\n",
       " 'age': [30, 40, 25, 35],\n",
       " 'location': ['mumbai', 'chennai', 'bengaluru', 'calcutta'],\n",
       " 'gender': ['male', 'male', 'male', 'male']}"
      ]
     },
     "execution_count": 16,
     "metadata": {},
     "output_type": "execute_result"
    }
   ],
   "source": [
    "dict1"
   ]
  },
  {
   "cell_type": "code",
   "execution_count": 94,
   "id": "d89e63c3",
   "metadata": {},
   "outputs": [
    {
     "data": {
      "text/plain": [
       "{'name': ['ajay', 'sanjay', 'ravi', 'sam'],\n",
       " 'age': [30, 40, 25, 35],\n",
       " 'location': ['mumbai', 'chennai', 'bengaluru', 'calcutta']}"
      ]
     },
     "execution_count": 94,
     "metadata": {},
     "output_type": "execute_result"
    }
   ],
   "source": [
    "dict2"
   ]
  },
  {
   "cell_type": "code",
   "execution_count": 17,
   "id": "3f288fea",
   "metadata": {},
   "outputs": [],
   "source": [
    "dict2.update(dict1)"
   ]
  },
  {
   "cell_type": "code",
   "execution_count": 18,
   "id": "5556d84b",
   "metadata": {},
   "outputs": [
    {
     "data": {
      "text/plain": [
       "{'name': ['ajay', 'sanjay', 'ravi', 'sam'],\n",
       " 'age': [30, 40, 25, 35],\n",
       " 'location': ['mumbai', 'chennai', 'bengaluru', 'calcutta'],\n",
       " 'gender': ['male', 'male', 'male', 'male']}"
      ]
     },
     "execution_count": 18,
     "metadata": {},
     "output_type": "execute_result"
    }
   ],
   "source": [
    "dict2"
   ]
  },
  {
   "cell_type": "code",
   "execution_count": 20,
   "id": "018541b2",
   "metadata": {},
   "outputs": [
    {
     "data": {
      "text/plain": [
       "['male', 'male', 'male', 'male']"
      ]
     },
     "execution_count": 20,
     "metadata": {},
     "output_type": "execute_result"
    }
   ],
   "source": [
    "dict1.pop('gender')"
   ]
  },
  {
   "cell_type": "code",
   "execution_count": 21,
   "id": "46cf41fa",
   "metadata": {},
   "outputs": [
    {
     "data": {
      "text/plain": [
       "{'name': ['ajay', 'sanjay', 'ravi', 'sam'],\n",
       " 'age': [30, 40, 25, 35],\n",
       " 'location': ['mumbai', 'chennai', 'bengaluru', 'calcutta']}"
      ]
     },
     "execution_count": 21,
     "metadata": {},
     "output_type": "execute_result"
    }
   ],
   "source": [
    "dict1"
   ]
  },
  {
   "cell_type": "code",
   "execution_count": 22,
   "id": "9cada2c3",
   "metadata": {},
   "outputs": [
    {
     "data": {
      "text/plain": [
       "('location', ['mumbai', 'chennai', 'bengaluru', 'calcutta'])"
      ]
     },
     "execution_count": 22,
     "metadata": {},
     "output_type": "execute_result"
    }
   ],
   "source": [
    "dict1.popitem()"
   ]
  },
  {
   "cell_type": "code",
   "execution_count": 23,
   "id": "ae824e9d",
   "metadata": {},
   "outputs": [
    {
     "data": {
      "text/plain": [
       "{'name': ['ajay', 'sanjay', 'ravi', 'sam'], 'age': [30, 40, 25, 35]}"
      ]
     },
     "execution_count": 23,
     "metadata": {},
     "output_type": "execute_result"
    }
   ],
   "source": [
    "dict1"
   ]
  },
  {
   "cell_type": "code",
   "execution_count": 25,
   "id": "3c798597",
   "metadata": {},
   "outputs": [
    {
     "data": {
      "text/plain": [
       "'a'"
      ]
     },
     "execution_count": 25,
     "metadata": {},
     "output_type": "execute_result"
    }
   ],
   "source": [
    "dict1['name'][0][0]"
   ]
  },
  {
   "cell_type": "code",
   "execution_count": 26,
   "id": "f4d28f6d",
   "metadata": {},
   "outputs": [
    {
     "data": {
      "text/plain": [
       "{'name': ['ajay', 'sanjay', 'ravi', 'sam'], 'age': [30, 40, 25, 35]}"
      ]
     },
     "execution_count": 26,
     "metadata": {},
     "output_type": "execute_result"
    }
   ],
   "source": [
    "dict1"
   ]
  },
  {
   "cell_type": "code",
   "execution_count": 28,
   "id": "e66e1aad",
   "metadata": {},
   "outputs": [],
   "source": [
    "dict1['gender']=['male']"
   ]
  },
  {
   "cell_type": "code",
   "execution_count": 29,
   "id": "d045b1db",
   "metadata": {},
   "outputs": [
    {
     "data": {
      "text/plain": [
       "{'name': ['ajay', 'sanjay', 'ravi', 'sam'],\n",
       " 'age': [30, 40, 25, 35],\n",
       " 'gender': ['male']}"
      ]
     },
     "execution_count": 29,
     "metadata": {},
     "output_type": "execute_result"
    }
   ],
   "source": [
    "dict1"
   ]
  },
  {
   "cell_type": "markdown",
   "id": "82b926fc",
   "metadata": {},
   "source": [
    "## Defaultdictionary"
   ]
  },
  {
   "cell_type": "code",
   "execution_count": 30,
   "id": "94b038f1",
   "metadata": {},
   "outputs": [],
   "source": [
    "from collections import defaultdict"
   ]
  },
  {
   "cell_type": "code",
   "execution_count": 32,
   "id": "5bad8c61",
   "metadata": {},
   "outputs": [],
   "source": [
    "dict3= defaultdict(list)"
   ]
  },
  {
   "cell_type": "code",
   "execution_count": 35,
   "id": "759579f7",
   "metadata": {},
   "outputs": [],
   "source": [
    "dict3['names']=['ajay']"
   ]
  },
  {
   "cell_type": "code",
   "execution_count": 36,
   "id": "9887b65d",
   "metadata": {},
   "outputs": [
    {
     "data": {
      "text/plain": [
       "defaultdict(list, {'names': ['ajay']})"
      ]
     },
     "execution_count": 36,
     "metadata": {},
     "output_type": "execute_result"
    }
   ],
   "source": [
    "dict3"
   ]
  },
  {
   "cell_type": "markdown",
   "id": "1d91db6d",
   "metadata": {},
   "source": [
    "## Looping"
   ]
  },
  {
   "cell_type": "markdown",
   "id": "7371acbd",
   "metadata": {},
   "source": [
    "## for"
   ]
  },
  {
   "cell_type": "code",
   "execution_count": 37,
   "id": "f226a747",
   "metadata": {},
   "outputs": [
    {
     "data": {
      "text/plain": [
       "range(1, 10)"
      ]
     },
     "execution_count": 37,
     "metadata": {},
     "output_type": "execute_result"
    }
   ],
   "source": [
    "range(1,10)"
   ]
  },
  {
   "cell_type": "code",
   "execution_count": 38,
   "id": "3caf225f",
   "metadata": {},
   "outputs": [
    {
     "name": "stdout",
     "output_type": "stream",
     "text": [
      "range(1, 10)\n"
     ]
    }
   ],
   "source": [
    "print(range(1,10))"
   ]
  },
  {
   "cell_type": "code",
   "execution_count": 40,
   "id": "0e4f9fff",
   "metadata": {},
   "outputs": [],
   "source": [
    "a=[1,2,3,4,5]"
   ]
  },
  {
   "cell_type": "code",
   "execution_count": 44,
   "id": "b959d2b0",
   "metadata": {},
   "outputs": [
    {
     "name": "stdout",
     "output_type": "stream",
     "text": [
      "1\n",
      "2\n",
      "3\n",
      "4\n",
      "5\n"
     ]
    }
   ],
   "source": [
    "for i in a:\n",
    "    print(i)\n"
   ]
  },
  {
   "cell_type": "code",
   "execution_count": 46,
   "id": "a729a792",
   "metadata": {},
   "outputs": [
    {
     "name": "stdout",
     "output_type": "stream",
     "text": [
      "0\n",
      "1\n",
      "2\n",
      "3\n",
      "4\n",
      "5\n",
      "6\n",
      "7\n",
      "8\n",
      "9\n",
      "10\n",
      "11\n"
     ]
    }
   ],
   "source": [
    "for i in range(0,12):\n",
    "    print(i)"
   ]
  },
  {
   "cell_type": "code",
   "execution_count": 47,
   "id": "a6c97778",
   "metadata": {},
   "outputs": [
    {
     "name": "stdout",
     "output_type": "stream",
     "text": [
      "1\n",
      "2\n",
      "3\n",
      "4\n"
     ]
    }
   ],
   "source": [
    "for i in [1,2,3,4]:\n",
    "    print(i)"
   ]
  },
  {
   "cell_type": "code",
   "execution_count": 48,
   "id": "795173b3",
   "metadata": {},
   "outputs": [
    {
     "data": {
      "text/plain": [
       "[1, 2, 3, 4, 5]"
      ]
     },
     "execution_count": 48,
     "metadata": {},
     "output_type": "execute_result"
    }
   ],
   "source": [
    "a"
   ]
  },
  {
   "cell_type": "code",
   "execution_count": 50,
   "id": "5ed004fa",
   "metadata": {},
   "outputs": [
    {
     "name": "stdout",
     "output_type": "stream",
     "text": [
      "0 1\n",
      "1 2\n",
      "2 3\n",
      "3 4\n",
      "4 5\n"
     ]
    }
   ],
   "source": [
    "for i in range(len(a)):\n",
    "    print(i,a[i])"
   ]
  },
  {
   "cell_type": "code",
   "execution_count": 51,
   "id": "643f80ac",
   "metadata": {},
   "outputs": [
    {
     "data": {
      "text/plain": [
       "range(0, 5)"
      ]
     },
     "execution_count": 51,
     "metadata": {},
     "output_type": "execute_result"
    }
   ],
   "source": [
    "range(len(a))"
   ]
  },
  {
   "cell_type": "code",
   "execution_count": 52,
   "id": "0a909c18",
   "metadata": {},
   "outputs": [
    {
     "name": "stdout",
     "output_type": "stream",
     "text": [
      "(0, 1)\n",
      "(1, 2)\n",
      "(2, 3)\n",
      "(3, 4)\n",
      "(4, 5)\n"
     ]
    }
   ],
   "source": [
    "for i in enumerate(a):\n",
    "    print(i)"
   ]
  },
  {
   "cell_type": "code",
   "execution_count": 53,
   "id": "fed922a0",
   "metadata": {},
   "outputs": [
    {
     "data": {
      "text/plain": [
       "[1, 2, 3, 4, 5]"
      ]
     },
     "execution_count": 53,
     "metadata": {},
     "output_type": "execute_result"
    }
   ],
   "source": [
    "a"
   ]
  },
  {
   "cell_type": "code",
   "execution_count": 54,
   "id": "6fb33392",
   "metadata": {},
   "outputs": [],
   "source": [
    "b=[10,20,30,40]"
   ]
  },
  {
   "cell_type": "code",
   "execution_count": 55,
   "id": "0585b0fc",
   "metadata": {},
   "outputs": [
    {
     "name": "stdout",
     "output_type": "stream",
     "text": [
      "1 10\n",
      "2 20\n",
      "3 30\n",
      "4 40\n"
     ]
    }
   ],
   "source": [
    "for (i,j) in zip(a,b):\n",
    "    print(i,j)"
   ]
  },
  {
   "cell_type": "code",
   "execution_count": 79,
   "id": "044307b5",
   "metadata": {},
   "outputs": [],
   "source": [
    "list2=[1,2,3,4]"
   ]
  },
  {
   "cell_type": "code",
   "execution_count": 81,
   "id": "0a2885fa",
   "metadata": {},
   "outputs": [
    {
     "data": {
      "text/plain": [
       "[1, 4, 9, 16]"
      ]
     },
     "execution_count": 81,
     "metadata": {},
     "output_type": "execute_result"
    }
   ],
   "source": [
    "[i*i for i in list2]"
   ]
  },
  {
   "cell_type": "code",
   "execution_count": 58,
   "id": "6f2775f3",
   "metadata": {},
   "outputs": [],
   "source": [
    "list1=['1','2','3']"
   ]
  },
  {
   "cell_type": "code",
   "execution_count": 59,
   "id": "af167ae4",
   "metadata": {},
   "outputs": [
    {
     "data": {
      "text/plain": [
       "list"
      ]
     },
     "execution_count": 59,
     "metadata": {},
     "output_type": "execute_result"
    }
   ],
   "source": [
    "type(list1)"
   ]
  },
  {
   "cell_type": "code",
   "execution_count": 60,
   "id": "88651e9b",
   "metadata": {},
   "outputs": [
    {
     "data": {
      "text/plain": [
       "str"
      ]
     },
     "execution_count": 60,
     "metadata": {},
     "output_type": "execute_result"
    }
   ],
   "source": [
    "type(list1[0])"
   ]
  },
  {
   "cell_type": "code",
   "execution_count": 61,
   "id": "028f7219",
   "metadata": {},
   "outputs": [],
   "source": [
    "list1= [int(i) for i in list1]"
   ]
  },
  {
   "cell_type": "code",
   "execution_count": 62,
   "id": "9229c716",
   "metadata": {},
   "outputs": [
    {
     "data": {
      "text/plain": [
       "[1, 2, 3]"
      ]
     },
     "execution_count": 62,
     "metadata": {},
     "output_type": "execute_result"
    }
   ],
   "source": [
    "list1"
   ]
  },
  {
   "cell_type": "markdown",
   "id": "9ba443d5",
   "metadata": {},
   "source": [
    "## while"
   ]
  },
  {
   "cell_type": "code",
   "execution_count": 66,
   "id": "01a0ef33",
   "metadata": {},
   "outputs": [
    {
     "name": "stdout",
     "output_type": "stream",
     "text": [
      "0\n",
      "1\n",
      "3\n",
      "6\n",
      "10\n",
      "The Total sum: 10\n"
     ]
    }
   ],
   "source": [
    "sum=0\n",
    "i=0\n",
    "n=5\n",
    "while(i<n):\n",
    "    sum= sum+i\n",
    "    print(sum)\n",
    "    i= i+1\n",
    "print('The Total sum:',sum)    "
   ]
  },
  {
   "cell_type": "code",
   "execution_count": 67,
   "id": "3ade118b",
   "metadata": {},
   "outputs": [
    {
     "name": "stdout",
     "output_type": "stream",
     "text": [
      "counter is in loop\n",
      "counter is in loop\n",
      "counter is in loop\n",
      "counter is in loop\n",
      "counter is in loop\n",
      "counter is in loop\n",
      "counter is in loop\n",
      "counter is in loop\n",
      "counter is in loop\n",
      "counter is in loop\n",
      "counter is out of loop\n"
     ]
    }
   ],
   "source": [
    "counter=0\n",
    "while(counter<10):\n",
    "    print('counter is in loop')\n",
    "    counter= counter+1\n",
    "else:\n",
    "    print('counter is out of loop')"
   ]
  },
  {
   "cell_type": "code",
   "execution_count": 91,
   "id": "d6fc4d19",
   "metadata": {},
   "outputs": [],
   "source": [
    "str1= 'sanjay','ajay','sam'\n",
    "dict1= defaultdict(list)"
   ]
  },
  {
   "cell_type": "code",
   "execution_count": 92,
   "id": "137f162e",
   "metadata": {},
   "outputs": [],
   "source": [
    "for i in str1:\n",
    "    dict1[i[2]].append(i)"
   ]
  },
  {
   "cell_type": "code",
   "execution_count": 93,
   "id": "f4493edd",
   "metadata": {},
   "outputs": [
    {
     "data": {
      "text/plain": [
       "defaultdict(list, {'n': ['sanjay'], 'a': ['ajay'], 'm': ['sam']})"
      ]
     },
     "execution_count": 93,
     "metadata": {},
     "output_type": "execute_result"
    }
   ],
   "source": [
    "dict1"
   ]
  },
  {
   "cell_type": "code",
   "execution_count": 74,
   "id": "81e9f20b",
   "metadata": {},
   "outputs": [],
   "source": [
    "dict2={}"
   ]
  },
  {
   "cell_type": "markdown",
   "id": "47dee00a",
   "metadata": {},
   "source": [
    "## Conditions"
   ]
  },
  {
   "cell_type": "code",
   "execution_count": 100,
   "id": "ff0cd75f",
   "metadata": {},
   "outputs": [
    {
     "name": "stdout",
     "output_type": "stream",
     "text": [
      "10\n"
     ]
    }
   ],
   "source": [
    "x=10\n",
    "if x>10:\n",
    "    x=x-2\n",
    "    print(x)\n",
    "elif x<10:\n",
    "    x=x+2\n",
    "    print(x)\n",
    "else:\n",
    "    print(x)"
   ]
  },
  {
   "cell_type": "code",
   "execution_count": 102,
   "id": "607504ce",
   "metadata": {},
   "outputs": [
    {
     "name": "stdout",
     "output_type": "stream",
     "text": [
      "odd\n"
     ]
    }
   ],
   "source": [
    "x=9\n",
    "if x%2==0:\n",
    "    print('even')\n",
    "else:\n",
    "    print('odd')"
   ]
  },
  {
   "cell_type": "code",
   "execution_count": 103,
   "id": "6a6b5e15",
   "metadata": {},
   "outputs": [
    {
     "data": {
      "text/plain": [
       "[1, 2, 3, 4, 5]"
      ]
     },
     "execution_count": 103,
     "metadata": {},
     "output_type": "execute_result"
    }
   ],
   "source": [
    "a"
   ]
  },
  {
   "cell_type": "code",
   "execution_count": 104,
   "id": "60d906de",
   "metadata": {},
   "outputs": [
    {
     "name": "stdout",
     "output_type": "stream",
     "text": [
      "odd\n",
      "even\n",
      "odd\n",
      "even\n",
      "odd\n"
     ]
    }
   ],
   "source": [
    "for i in a:\n",
    "    if i%2==0:\n",
    "        print('even')\n",
    "    else:\n",
    "        print('odd')"
   ]
  },
  {
   "cell_type": "markdown",
   "id": "131cfd67",
   "metadata": {},
   "source": [
    "## input functions"
   ]
  },
  {
   "cell_type": "code",
   "execution_count": 2,
   "id": "015752b9",
   "metadata": {},
   "outputs": [
    {
     "name": "stdout",
     "output_type": "stream",
     "text": [
      "Enter the Namesamuel\n",
      "The Entered name is: samuel\n"
     ]
    }
   ],
   "source": [
    "name=input('Enter the Name')\n",
    "print('The Entered name is:',name)"
   ]
  },
  {
   "cell_type": "code",
   "execution_count": 3,
   "id": "00e3c003",
   "metadata": {},
   "outputs": [
    {
     "name": "stdout",
     "output_type": "stream",
     "text": [
      "Enter the number22\n",
      "22\n"
     ]
    }
   ],
   "source": [
    "var= input('Enter the number')\n",
    "print(var)"
   ]
  },
  {
   "cell_type": "code",
   "execution_count": 4,
   "id": "841198f7",
   "metadata": {},
   "outputs": [
    {
     "data": {
      "text/plain": [
       "str"
      ]
     },
     "execution_count": 4,
     "metadata": {},
     "output_type": "execute_result"
    }
   ],
   "source": [
    "type(var)"
   ]
  },
  {
   "cell_type": "code",
   "execution_count": 7,
   "id": "e81c2ab2",
   "metadata": {},
   "outputs": [
    {
     "name": "stdout",
     "output_type": "stream",
     "text": [
      "Enter the first number:44\n",
      "Enter the second number:66\n",
      "The total sum is: 110\n"
     ]
    }
   ],
   "source": [
    "num1= int(input('Enter the first number:'))\n",
    "num2= int(input('Enter the second number:'))\n",
    "sum= num1 + num2\n",
    "print('The total sum is:',sum)"
   ]
  },
  {
   "cell_type": "code",
   "execution_count": 6,
   "id": "fd6f1d75",
   "metadata": {},
   "outputs": [
    {
     "data": {
      "text/plain": [
       "int"
      ]
     },
     "execution_count": 6,
     "metadata": {},
     "output_type": "execute_result"
    }
   ],
   "source": [
    "type(num1)"
   ]
  },
  {
   "cell_type": "code",
   "execution_count": 8,
   "id": "7ded0124",
   "metadata": {},
   "outputs": [
    {
     "name": "stdout",
     "output_type": "stream",
     "text": [
      "Enter the first number:22.45\n",
      "Enter the second number:33.89\n",
      "The total sum is: 56.34\n"
     ]
    }
   ],
   "source": [
    "num1= float(input('Enter the first number:'))\n",
    "num2= float(input('Enter the second number:'))\n",
    "sum= num1 + num2\n",
    "print('The total sum is:',sum)"
   ]
  },
  {
   "cell_type": "code",
   "execution_count": 9,
   "id": "fd7dd502",
   "metadata": {},
   "outputs": [],
   "source": [
    "import math"
   ]
  },
  {
   "cell_type": "code",
   "execution_count": 11,
   "id": "a43a6df8",
   "metadata": {},
   "outputs": [
    {
     "name": "stdout",
     "output_type": "stream",
     "text": [
      "Enter the radius:22.5\n",
      "The Area of the circle is 1590.431\n"
     ]
    }
   ],
   "source": [
    "radius= float(input('Enter the radius:'))\n",
    "Area= math.pi*radius**2\n",
    "print('The Area of the circle is',round(Area,3))"
   ]
  },
  {
   "cell_type": "code",
   "execution_count": 16,
   "id": "fc731ee1",
   "metadata": {},
   "outputs": [],
   "source": [
    "## Task1"
   ]
  },
  {
   "cell_type": "code",
   "execution_count": 21,
   "id": "d7af2832",
   "metadata": {},
   "outputs": [
    {
     "name": "stdout",
     "output_type": "stream",
     "text": [
      "Enter the charactera\n",
      "The Entered character is vowel: a\n"
     ]
    }
   ],
   "source": [
    "ch= input('Enter the character')\n",
    "if ch=='a' or ch=='e' or ch=='i' or ch=='o' or ch=='u':\n",
    "    print('The Entered character is vowel:',ch)\n",
    "elif ch=='A' or ch=='E' or ch=='I' or ch=='O' or ch=='U':\n",
    "     print('The Entered character is vowel:',ch)\n",
    "else:\n",
    "    print('The Entered character is not a vowel:',ch)"
   ]
  },
  {
   "cell_type": "code",
   "execution_count": 19,
   "id": "1d73a689",
   "metadata": {},
   "outputs": [],
   "source": [
    "## Task2"
   ]
  },
  {
   "cell_type": "code",
   "execution_count": 24,
   "id": "878dd66b",
   "metadata": {},
   "outputs": [
    {
     "name": "stdout",
     "output_type": "stream",
     "text": [
      "Enter the No of Datas:10\n",
      "Enter the datas:1\n",
      "Enter the datas:2\n",
      "Enter the datas:3\n",
      "Enter the datas:4\n",
      "Enter the datas:5\n",
      "Enter the datas:6\n",
      "Enter the datas:7\n",
      "Enter the datas:8\n",
      "Enter the datas:9\n",
      "Enter the datas:10\n",
      "[1, 2, 3, 4, 5, 6, 7, 8, 9, 10]\n"
     ]
    }
   ],
   "source": [
    "list1=[]\n",
    "count= int(input('Enter the No of Datas:'))\n",
    "for i in range(0,count):\n",
    "    var= int(input('Enter the datas:'))\n",
    "    list1.append(var)\n",
    "print(list1)"
   ]
  },
  {
   "cell_type": "code",
   "execution_count": 33,
   "id": "e6a7a78b",
   "metadata": {},
   "outputs": [],
   "source": [
    "values=['ajay','sanjay','ramesh']"
   ]
  },
  {
   "cell_type": "code",
   "execution_count": 34,
   "id": "908cc3d6",
   "metadata": {},
   "outputs": [],
   "source": [
    "dict1=dict(values=values)"
   ]
  },
  {
   "cell_type": "code",
   "execution_count": 35,
   "id": "4d953294",
   "metadata": {},
   "outputs": [
    {
     "data": {
      "text/plain": [
       "{'values': ['ajay', 'sanjay', 'ramesh']}"
      ]
     },
     "execution_count": 35,
     "metadata": {},
     "output_type": "execute_result"
    }
   ],
   "source": [
    "dict1"
   ]
  },
  {
   "cell_type": "code",
   "execution_count": 36,
   "id": "552f9fdf",
   "metadata": {},
   "outputs": [
    {
     "data": {
      "text/plain": [
       "dict"
      ]
     },
     "execution_count": 36,
     "metadata": {},
     "output_type": "execute_result"
    }
   ],
   "source": [
    "type(dict1)"
   ]
  },
  {
   "cell_type": "markdown",
   "id": "77bb4187",
   "metadata": {},
   "source": [
    "## Functions"
   ]
  },
  {
   "cell_type": "code",
   "execution_count": 48,
   "id": "f1ec898d",
   "metadata": {},
   "outputs": [],
   "source": [
    "def addit(x):\n",
    "    return x**2"
   ]
  },
  {
   "cell_type": "code",
   "execution_count": 49,
   "id": "1fe5fe92",
   "metadata": {},
   "outputs": [
    {
     "data": {
      "text/plain": [
       "64"
      ]
     },
     "execution_count": 49,
     "metadata": {},
     "output_type": "execute_result"
    }
   ],
   "source": [
    "addit(8)"
   ]
  },
  {
   "cell_type": "code",
   "execution_count": 46,
   "id": "be13fa38",
   "metadata": {},
   "outputs": [],
   "source": [
    "def add(x):\n",
    "    x=x**2\n",
    "    print(x)"
   ]
  },
  {
   "cell_type": "code",
   "execution_count": 47,
   "id": "57fd5183",
   "metadata": {},
   "outputs": [
    {
     "name": "stdout",
     "output_type": "stream",
     "text": [
      "25\n"
     ]
    }
   ],
   "source": [
    "add(5)"
   ]
  },
  {
   "cell_type": "code",
   "execution_count": 51,
   "id": "8302886a",
   "metadata": {},
   "outputs": [],
   "source": [
    "def func(x,y):\n",
    "    return x*y"
   ]
  },
  {
   "cell_type": "code",
   "execution_count": 54,
   "id": "e90f44ff",
   "metadata": {},
   "outputs": [
    {
     "data": {
      "text/plain": [
       "12"
      ]
     },
     "execution_count": 54,
     "metadata": {},
     "output_type": "execute_result"
    }
   ],
   "source": [
    "func(3,4)"
   ]
  },
  {
   "cell_type": "code",
   "execution_count": 57,
   "id": "12d62092",
   "metadata": {},
   "outputs": [],
   "source": [
    "def func(x=0,y=0):\n",
    "    return x+y"
   ]
  },
  {
   "cell_type": "code",
   "execution_count": 58,
   "id": "c2a8f0fe",
   "metadata": {},
   "outputs": [
    {
     "data": {
      "text/plain": [
       "3"
      ]
     },
     "execution_count": 58,
     "metadata": {},
     "output_type": "execute_result"
    }
   ],
   "source": [
    "func(3)"
   ]
  },
  {
   "cell_type": "code",
   "execution_count": 65,
   "id": "407cad0f",
   "metadata": {},
   "outputs": [],
   "source": [
    "def fact(x):\n",
    "    if x==1:\n",
    "        return 1\n",
    "    elif x==0:\n",
    "        return 1\n",
    "    else:\n",
    "        return fact(x-1)*x"
   ]
  },
  {
   "cell_type": "code",
   "execution_count": 67,
   "id": "78eeede8",
   "metadata": {},
   "outputs": [
    {
     "data": {
      "text/plain": [
       "1"
      ]
     },
     "execution_count": 67,
     "metadata": {},
     "output_type": "execute_result"
    }
   ],
   "source": [
    "fact(0)"
   ]
  },
  {
   "cell_type": "code",
   "execution_count": 76,
   "id": "7ac33e2e",
   "metadata": {},
   "outputs": [],
   "source": [
    "list1=[1,2,'a',4,'b',5,6,7,'t',22.5,33.7]"
   ]
  },
  {
   "cell_type": "code",
   "execution_count": 77,
   "id": "8326def7",
   "metadata": {},
   "outputs": [
    {
     "name": "stdout",
     "output_type": "stream",
     "text": [
      "[1, 2, 4, 5, 6, 7] ['a', 'b', 't'] [22.5, 33.7]\n"
     ]
    }
   ],
   "source": [
    "def seperate(x,y):\n",
    "    return [i for i in x if isinstance(i,y)]\n",
    "int_numbers= seperate(list1,int)  ## function call\n",
    "strings= seperate(list1,str)      ## function call\n",
    "float_numbers= seperate(list1,float)  ## function call\n",
    "print(int_numbers,strings,float_numbers)"
   ]
  },
  {
   "cell_type": "markdown",
   "id": "db6725f0",
   "metadata": {},
   "source": [
    "## lambda function"
   ]
  },
  {
   "cell_type": "code",
   "execution_count": 82,
   "id": "28e002d2",
   "metadata": {},
   "outputs": [],
   "source": [
    "addition= lambda x:x**2"
   ]
  },
  {
   "cell_type": "code",
   "execution_count": 83,
   "id": "7c41774e",
   "metadata": {},
   "outputs": [
    {
     "data": {
      "text/plain": [
       "16"
      ]
     },
     "execution_count": 83,
     "metadata": {},
     "output_type": "execute_result"
    }
   ],
   "source": [
    "addition(4)"
   ]
  },
  {
   "cell_type": "code",
   "execution_count": 84,
   "id": "590379c5",
   "metadata": {},
   "outputs": [],
   "source": [
    "func= lambda x,y: x if x>y else y "
   ]
  },
  {
   "cell_type": "code",
   "execution_count": 85,
   "id": "dac36d44",
   "metadata": {},
   "outputs": [
    {
     "data": {
      "text/plain": [
       "3"
      ]
     },
     "execution_count": 85,
     "metadata": {},
     "output_type": "execute_result"
    }
   ],
   "source": [
    "func(2,3)"
   ]
  },
  {
   "cell_type": "code",
   "execution_count": 86,
   "id": "4b616c09",
   "metadata": {},
   "outputs": [],
   "source": [
    "func= lambda x:'even' if x%2==0 else 'odd'"
   ]
  },
  {
   "cell_type": "code",
   "execution_count": 87,
   "id": "a7ba2799",
   "metadata": {},
   "outputs": [
    {
     "data": {
      "text/plain": [
       "'even'"
      ]
     },
     "execution_count": 87,
     "metadata": {},
     "output_type": "execute_result"
    }
   ],
   "source": [
    "func(10)"
   ]
  },
  {
   "cell_type": "code",
   "execution_count": 88,
   "id": "2bb216c4",
   "metadata": {},
   "outputs": [],
   "source": [
    "import math"
   ]
  },
  {
   "cell_type": "code",
   "execution_count": 89,
   "id": "87cbcddd",
   "metadata": {},
   "outputs": [],
   "source": [
    "fact= lambda x:1 if x==1 else math.factorial(x)"
   ]
  },
  {
   "cell_type": "code",
   "execution_count": 93,
   "id": "f6dc9b26",
   "metadata": {},
   "outputs": [
    {
     "data": {
      "text/plain": [
       "120"
      ]
     },
     "execution_count": 93,
     "metadata": {},
     "output_type": "execute_result"
    }
   ],
   "source": [
    "fact(5)"
   ]
  },
  {
   "cell_type": "code",
   "execution_count": 94,
   "id": "d7455fc0",
   "metadata": {},
   "outputs": [],
   "source": [
    "a=[1,2,3,4,5,6,7,8,9,10]"
   ]
  },
  {
   "cell_type": "code",
   "execution_count": 95,
   "id": "46810c49",
   "metadata": {},
   "outputs": [],
   "source": [
    "func= lambda x:['even' if x%2==0 else 'odd' for x in a]"
   ]
  },
  {
   "cell_type": "code",
   "execution_count": 96,
   "id": "0cd85fce",
   "metadata": {},
   "outputs": [
    {
     "data": {
      "text/plain": [
       "['odd', 'even', 'odd', 'even', 'odd', 'even', 'odd', 'even', 'odd', 'even']"
      ]
     },
     "execution_count": 96,
     "metadata": {},
     "output_type": "execute_result"
    }
   ],
   "source": [
    "func(a)"
   ]
  },
  {
   "cell_type": "code",
   "execution_count": null,
   "id": "08ff0e7a",
   "metadata": {},
   "outputs": [],
   "source": []
  }
 ],
 "metadata": {
  "kernelspec": {
   "display_name": "Python 3 (ipykernel)",
   "language": "python",
   "name": "python3"
  },
  "language_info": {
   "codemirror_mode": {
    "name": "ipython",
    "version": 3
   },
   "file_extension": ".py",
   "mimetype": "text/x-python",
   "name": "python",
   "nbconvert_exporter": "python",
   "pygments_lexer": "ipython3",
   "version": "3.11.5"
  }
 },
 "nbformat": 4,
 "nbformat_minor": 5
}
