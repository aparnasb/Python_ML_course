{
 "cells": [
  {
   "cell_type": "code",
   "execution_count": 2,
   "id": "09d81942",
   "metadata": {},
   "outputs": [],
   "source": [
    "Exp=[1,2,3,4,5]\n",
    "Salary=[1000,2400,3600,7800,10500]"
   ]
  },
  {
   "cell_type": "code",
   "execution_count": 3,
   "id": "f8e380b7",
   "metadata": {},
   "outputs": [],
   "source": [
    "import numpy as np"
   ]
  },
  {
   "cell_type": "code",
   "execution_count": 5,
   "id": "34a874b8",
   "metadata": {},
   "outputs": [
    {
     "data": {
      "text/plain": [
       "3.0"
      ]
     },
     "execution_count": 5,
     "metadata": {},
     "output_type": "execute_result"
    }
   ],
   "source": [
    "Exp_mean= np.mean(Exp)\n",
    "Exp_mean"
   ]
  },
  {
   "cell_type": "code",
   "execution_count": 6,
   "id": "e114e8e5",
   "metadata": {},
   "outputs": [
    {
     "data": {
      "text/plain": [
       "1.4142135623730951"
      ]
     },
     "execution_count": 6,
     "metadata": {},
     "output_type": "execute_result"
    }
   ],
   "source": [
    "Exp_st_dev= np.std(Exp)\n",
    "Exp_st_dev"
   ]
  },
  {
   "cell_type": "code",
   "execution_count": 7,
   "id": "b9cb50b4",
   "metadata": {},
   "outputs": [],
   "source": [
    "Exp_St_data= (Exp-Exp_mean)/Exp_st_dev"
   ]
  },
  {
   "cell_type": "code",
   "execution_count": 8,
   "id": "7935cd81",
   "metadata": {},
   "outputs": [
    {
     "data": {
      "text/plain": [
       "array([-1.41421356, -0.70710678,  0.        ,  0.70710678,  1.41421356])"
      ]
     },
     "execution_count": 8,
     "metadata": {},
     "output_type": "execute_result"
    }
   ],
   "source": [
    "Exp_St_data"
   ]
  },
  {
   "cell_type": "code",
   "execution_count": 10,
   "id": "f78fe33d",
   "metadata": {},
   "outputs": [
    {
     "data": {
      "text/plain": [
       "5060.0"
      ]
     },
     "execution_count": 10,
     "metadata": {},
     "output_type": "execute_result"
    }
   ],
   "source": [
    "Salary_mean= np.mean(Salary)\n",
    "Salary_mean"
   ]
  },
  {
   "cell_type": "code",
   "execution_count": 11,
   "id": "74407a75",
   "metadata": {},
   "outputs": [
    {
     "data": {
      "text/plain": [
       "3543.783289085268"
      ]
     },
     "execution_count": 11,
     "metadata": {},
     "output_type": "execute_result"
    }
   ],
   "source": [
    "Salary_std_dev= np.std(Salary)\n",
    "Salary_std_dev"
   ]
  },
  {
   "cell_type": "code",
   "execution_count": 12,
   "id": "f3969176",
   "metadata": {},
   "outputs": [
    {
     "data": {
      "text/plain": [
       "array([-1.14566825, -0.75061023, -0.41198908,  0.77318498,  1.53508258])"
      ]
     },
     "execution_count": 12,
     "metadata": {},
     "output_type": "execute_result"
    }
   ],
   "source": [
    "Salary_Std_Data= (Salary-Salary_mean)/Salary_std_dev\n",
    "Salary_Std_Data"
   ]
  },
  {
   "cell_type": "code",
   "execution_count": 13,
   "id": "5b16df9b",
   "metadata": {},
   "outputs": [
    {
     "data": {
      "text/plain": [
       "array([-1.41421356, -0.70710678,  0.        ,  0.70710678,  1.41421356])"
      ]
     },
     "execution_count": 13,
     "metadata": {},
     "output_type": "execute_result"
    }
   ],
   "source": [
    "Exp_St_data"
   ]
  },
  {
   "cell_type": "code",
   "execution_count": 14,
   "id": "2ec2eeb4",
   "metadata": {},
   "outputs": [
    {
     "data": {
      "text/plain": [
       "0.0"
      ]
     },
     "execution_count": 14,
     "metadata": {},
     "output_type": "execute_result"
    }
   ],
   "source": [
    "np.mean(Salary_Std_Data)"
   ]
  },
  {
   "cell_type": "code",
   "execution_count": 15,
   "id": "78876d16",
   "metadata": {},
   "outputs": [
    {
     "data": {
      "text/plain": [
       "1.0"
      ]
     },
     "execution_count": 15,
     "metadata": {},
     "output_type": "execute_result"
    }
   ],
   "source": [
    "np.std(Salary_Std_Data)"
   ]
  },
  {
   "cell_type": "code",
   "execution_count": 16,
   "id": "ccd6cd4b",
   "metadata": {},
   "outputs": [
    {
     "data": {
      "text/plain": [
       "0.0"
      ]
     },
     "execution_count": 16,
     "metadata": {},
     "output_type": "execute_result"
    }
   ],
   "source": [
    "np.mean(Exp_St_data)"
   ]
  },
  {
   "cell_type": "code",
   "execution_count": 17,
   "id": "9de3d906",
   "metadata": {},
   "outputs": [
    {
     "data": {
      "text/plain": [
       "0.9999999999999999"
      ]
     },
     "execution_count": 17,
     "metadata": {},
     "output_type": "execute_result"
    }
   ],
   "source": [
    "np.std(Exp_St_data)"
   ]
  },
  {
   "cell_type": "code",
   "execution_count": 18,
   "id": "fd78393b",
   "metadata": {},
   "outputs": [
    {
     "data": {
      "text/plain": [
       "[1000, 2400, 3600, 7800, 10500]"
      ]
     },
     "execution_count": 18,
     "metadata": {},
     "output_type": "execute_result"
    }
   ],
   "source": [
    "Salary"
   ]
  },
  {
   "cell_type": "code",
   "execution_count": 19,
   "id": "170a19f5",
   "metadata": {},
   "outputs": [
    {
     "data": {
      "text/plain": [
       "array([-1.14566825, -0.75061023, -0.41198908,  0.77318498,  1.53508258])"
      ]
     },
     "execution_count": 19,
     "metadata": {},
     "output_type": "execute_result"
    }
   ],
   "source": [
    "Salary_Std_Data"
   ]
  },
  {
   "cell_type": "code",
   "execution_count": null,
   "id": "7bbd9eea",
   "metadata": {},
   "outputs": [],
   "source": []
  }
 ],
 "metadata": {
  "kernelspec": {
   "display_name": "Python 3 (ipykernel)",
   "language": "python",
   "name": "python3"
  },
  "language_info": {
   "codemirror_mode": {
    "name": "ipython",
    "version": 3
   },
   "file_extension": ".py",
   "mimetype": "text/x-python",
   "name": "python",
   "nbconvert_exporter": "python",
   "pygments_lexer": "ipython3",
   "version": "3.11.5"
  }
 },
 "nbformat": 4,
 "nbformat_minor": 5
}
