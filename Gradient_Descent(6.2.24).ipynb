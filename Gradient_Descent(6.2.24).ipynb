{
 "cells": [
  {
   "cell_type": "code",
   "execution_count": 1,
   "id": "bdb0f3b8",
   "metadata": {},
   "outputs": [],
   "source": [
    "import numpy as np\n",
    "import pandas as pd\n",
    "from sklearn.linear_model import LinearRegression\n",
    "from sklearn.preprocessing import PolynomialFeatures\n",
    "from sklearn.model_selection import train_test_split\n",
    "import matplotlib.pyplot as plt\n",
    "from sklearn.metrics import r2_score\n",
    "import seaborn as sns"
   ]
  },
  {
   "cell_type": "markdown",
   "id": "fa5101a9",
   "metadata": {},
   "source": [
    "## Gradient_Descent"
   ]
  },
  {
   "cell_type": "code",
   "execution_count": 8,
   "id": "62a95f62",
   "metadata": {},
   "outputs": [],
   "source": [
    "df= pd.read_csv('regr.txt',sep=' ',header=None,names=['f','t'])"
   ]
  },
  {
   "cell_type": "code",
   "execution_count": 9,
   "id": "d0d31c96",
   "metadata": {},
   "outputs": [
    {
     "data": {
      "text/html": [
       "<div>\n",
       "<style scoped>\n",
       "    .dataframe tbody tr th:only-of-type {\n",
       "        vertical-align: middle;\n",
       "    }\n",
       "\n",
       "    .dataframe tbody tr th {\n",
       "        vertical-align: top;\n",
       "    }\n",
       "\n",
       "    .dataframe thead th {\n",
       "        text-align: right;\n",
       "    }\n",
       "</style>\n",
       "<table border=\"1\" class=\"dataframe\">\n",
       "  <thead>\n",
       "    <tr style=\"text-align: right;\">\n",
       "      <th></th>\n",
       "      <th>f</th>\n",
       "      <th>t</th>\n",
       "    </tr>\n",
       "  </thead>\n",
       "  <tbody>\n",
       "    <tr>\n",
       "      <th>0</th>\n",
       "      <td>0.10</td>\n",
       "      <td>0.69004</td>\n",
       "    </tr>\n",
       "    <tr>\n",
       "      <th>1</th>\n",
       "      <td>0.11</td>\n",
       "      <td>0.69497</td>\n",
       "    </tr>\n",
       "    <tr>\n",
       "      <th>2</th>\n",
       "      <td>0.12</td>\n",
       "      <td>0.74252</td>\n",
       "    </tr>\n",
       "    <tr>\n",
       "      <th>3</th>\n",
       "      <td>0.13</td>\n",
       "      <td>0.75360</td>\n",
       "    </tr>\n",
       "    <tr>\n",
       "      <th>4</th>\n",
       "      <td>0.14</td>\n",
       "      <td>0.83568</td>\n",
       "    </tr>\n",
       "    <tr>\n",
       "      <th>...</th>\n",
       "      <td>...</td>\n",
       "      <td>...</td>\n",
       "    </tr>\n",
       "    <tr>\n",
       "      <th>85</th>\n",
       "      <td>0.95</td>\n",
       "      <td>1.98410</td>\n",
       "    </tr>\n",
       "    <tr>\n",
       "      <th>86</th>\n",
       "      <td>0.96</td>\n",
       "      <td>2.00660</td>\n",
       "    </tr>\n",
       "    <tr>\n",
       "      <th>87</th>\n",
       "      <td>0.97</td>\n",
       "      <td>2.04930</td>\n",
       "    </tr>\n",
       "    <tr>\n",
       "      <th>88</th>\n",
       "      <td>0.98</td>\n",
       "      <td>2.05030</td>\n",
       "    </tr>\n",
       "    <tr>\n",
       "      <th>89</th>\n",
       "      <td>0.99</td>\n",
       "      <td>2.02140</td>\n",
       "    </tr>\n",
       "  </tbody>\n",
       "</table>\n",
       "<p>90 rows × 2 columns</p>\n",
       "</div>"
      ],
      "text/plain": [
       "       f        t\n",
       "0   0.10  0.69004\n",
       "1   0.11  0.69497\n",
       "2   0.12  0.74252\n",
       "3   0.13  0.75360\n",
       "4   0.14  0.83568\n",
       "..   ...      ...\n",
       "85  0.95  1.98410\n",
       "86  0.96  2.00660\n",
       "87  0.97  2.04930\n",
       "88  0.98  2.05030\n",
       "89  0.99  2.02140\n",
       "\n",
       "[90 rows x 2 columns]"
      ]
     },
     "execution_count": 9,
     "metadata": {},
     "output_type": "execute_result"
    }
   ],
   "source": [
    "df"
   ]
  },
  {
   "cell_type": "code",
   "execution_count": 48,
   "id": "eb4071dc",
   "metadata": {},
   "outputs": [],
   "source": [
    "f= df['f'].values\n",
    "t=df['t'].values"
   ]
  },
  {
   "cell_type": "code",
   "execution_count": 34,
   "id": "87345e96",
   "metadata": {},
   "outputs": [
    {
     "data": {
      "text/plain": [
       "array([0.4761552 , 0.4829833 , 0.55133595, 0.56791296, 0.69836106,\n",
       "       0.75323305, 0.70866091, 0.72895736, 0.73551206, 0.78127921,\n",
       "       0.80973002, 0.96896461, 1.04939536, 1.11767184, 0.98162519,\n",
       "       1.01163364, 1.15068529, 1.19749249, 1.30690624, 1.21992025,\n",
       "       1.40825689, 1.29618225, 1.49940025, 1.53908836, 1.45709041,\n",
       "       1.60224964, 1.68870025, 1.72712164, 1.60351569, 1.58206084,\n",
       "       1.68766081, 1.70511364, 1.81656484, 1.82412036, 1.97233936,\n",
       "       1.94546704, 1.9044    , 2.096704  , 2.00732224, 2.16648961,\n",
       "       2.14798336, 2.07331201, 2.30250276, 2.24640144, 2.17592001,\n",
       "       2.34886276, 2.33998209, 2.36298384, 2.59016836, 2.67387904,\n",
       "       2.51000649, 2.76989449, 2.55584169, 2.75062225, 2.66244489,\n",
       "       2.91521476, 2.77355716, 2.73935601, 2.87777296, 2.93882449,\n",
       "       3.13502436, 3.10534884, 2.979076  , 3.27211921, 3.20589025,\n",
       "       3.03735184, 3.37861161, 3.30585124, 3.19158225, 3.23820025,\n",
       "       3.34743616, 3.46890625, 3.46816129, 3.37934689, 3.45699649,\n",
       "       3.58875136, 3.84081604, 3.61      , 3.70331536, 3.76243609,\n",
       "       3.779136  , 3.88799524, 3.75700689, 3.82398025, 4.00240036,\n",
       "       3.93665281, 4.02644356, 4.19963049, 4.20373009, 4.08605796])"
      ]
     },
     "execution_count": 34,
     "metadata": {},
     "output_type": "execute_result"
    }
   ],
   "source": [
    "tsq=t*t\n",
    "tsq"
   ]
  },
  {
   "cell_type": "code",
   "execution_count": 7,
   "id": "d63c3462",
   "metadata": {},
   "outputs": [
    {
     "data": {
      "text/plain": [
       "array([0.1 , 0.11, 0.12, 0.13, 0.14, 0.15, 0.16, 0.17, 0.18, 0.19, 0.2 ,\n",
       "       0.21, 0.22, 0.23, 0.24, 0.25, 0.26, 0.27, 0.28, 0.29, 0.3 , 0.31,\n",
       "       0.32, 0.33, 0.34, 0.35, 0.36, 0.37, 0.38, 0.39, 0.4 , 0.41, 0.42,\n",
       "       0.43, 0.44, 0.45, 0.46, 0.47, 0.48, 0.49, 0.5 , 0.51, 0.52, 0.53,\n",
       "       0.54, 0.55, 0.56, 0.57, 0.58, 0.59, 0.6 , 0.61, 0.62, 0.63, 0.64,\n",
       "       0.65, 0.66, 0.67, 0.68, 0.69, 0.7 , 0.71, 0.72, 0.73, 0.74, 0.75,\n",
       "       0.76, 0.77, 0.78, 0.79, 0.8 , 0.81, 0.82, 0.83, 0.84, 0.85, 0.86,\n",
       "       0.87, 0.88, 0.89, 0.9 , 0.91, 0.92, 0.93, 0.94, 0.95, 0.96, 0.97,\n",
       "       0.98, 0.99])"
      ]
     },
     "execution_count": 7,
     "metadata": {},
     "output_type": "execute_result"
    }
   ],
   "source": [
    "f"
   ]
  },
  {
   "cell_type": "code",
   "execution_count": 45,
   "id": "0c9256a1",
   "metadata": {},
   "outputs": [],
   "source": [
    "m,c=0,0\n",
    "lr=0.01"
   ]
  },
  {
   "cell_type": "code",
   "execution_count": 46,
   "id": "df7de6a2",
   "metadata": {},
   "outputs": [],
   "source": [
    "def train(x,y,m,c,eta):\n",
    "    const= -2.0/len(y)\n",
    "    y_pred= m*x+c\n",
    "    delt_m= const*sum(x*(y-y_pred))\n",
    "    delt_c= const*sum(y-y_pred)\n",
    "    m=m-eta*delt_m\n",
    "    c=c-eta*delt_c\n",
    "    error= sum((y-y_pred)**2)/len(y)\n",
    "    return m,c,error\n",
    "def train_all_values(x,y,m,c,eta,iterations=100):\n",
    "    for i in range(iterations):\n",
    "          m,c,err= train(x,y,m,c,eta)\n",
    "    return m,c,err    "
   ]
  },
  {
   "cell_type": "code",
   "execution_count": 49,
   "id": "b3ccdc20",
   "metadata": {},
   "outputs": [
    {
     "name": "stdout",
     "output_type": "stream",
     "text": [
      "m=2.549 c=0.122 error=0.08703\n",
      "m=2.418 c=0.1369 error=0.06792\n",
      "m=2.321 c=0.1881 error=0.05592\n",
      "m=2.235 c=0.2371 error=0.04616\n",
      "m=2.158 c=0.2814 error=0.03822\n",
      "m=2.088 c=0.3214 error=0.03176\n",
      "m=2.026 c=0.3575 error=0.0265\n",
      "m=1.969 c=0.39 error=0.02221\n",
      "m=1.918 c=0.4194 error=0.01872\n",
      "m=1.872 c=0.4459 error=0.01589\n"
     ]
    },
    {
     "data": {
      "image/png": "[encoded data removed]",
      "text/plain": [
       "<Figure size 800x600 with 1 Axes>"
      ]
     },
     "metadata": {},
     "output_type": "display_data"
    }
   ],
   "source": [
    "fig= plt.figure(figsize=(8,6))\n",
    "ax= fig.add_subplot(1,1,1)\n",
    "for i in range(10):\n",
    "    m,c,error= train_all_values(f,t,m,c,lr,iterations=100)\n",
    "    print('m={0:.4} c={1:.4} error={2:.4}'.format(m,c,error))\n",
    "    ax.clear()\n",
    "    y=m*f+c\n",
    "    ax.plot(f,t,'.k')\n",
    "    ax.plot(f,y)"
   ]
  },
  {
   "cell_type": "code",
   "execution_count": 44,
   "id": "9447b5a1",
   "metadata": {},
   "outputs": [],
   "source": [
    "name='ajay'\n",
    "age=32"
   ]
  },
  {
   "cell_type": "code",
   "execution_count": 28,
   "id": "861b19df",
   "metadata": {},
   "outputs": [
    {
     "name": "stdout",
     "output_type": "stream",
     "text": [
      "ajay is 32 years old\n"
     ]
    }
   ],
   "source": [
    "print('{0:.6} is {1} years old'.format(name,age))"
   ]
  },
  {
   "cell_type": "code",
   "execution_count": 50,
   "id": "2e17a6bf",
   "metadata": {},
   "outputs": [],
   "source": [
    "## Finding the optimum value of the parameters"
   ]
  },
  {
   "cell_type": "code",
   "execution_count": 60,
   "id": "4fcc85cb",
   "metadata": {},
   "outputs": [
    {
     "data": {
      "text/plain": [
       "Text(0.5, 1.0, 'Gradient_Descent')"
      ]
     },
     "execution_count": 60,
     "metadata": {},
     "output_type": "execute_result"
    },
    {
     "data": {
      "image/png": "[encoded data removed]",
      "text/plain": [
       "<Figure size 640x480 with 1 Axes>"
      ]
     },
     "metadata": {},
     "output_type": "display_data"
    }
   ],
   "source": [
    "ms=[]\n",
    "cs=[]\n",
    "err1=[]\n",
    "m,c=0,0\n",
    "lr=0.01\n",
    "for i in range(50):\n",
    "    m,c,err= train_all_values(f,t,m,c,lr,iterations=100)\n",
    "    ms.append(m)\n",
    "    cs.append(c)\n",
    "    err1.append(err)\n",
    "iterations= range(50)\n",
    "plt.plot(iterations,err1)\n",
    "plt.xlabel('Iterations')\n",
    "plt.ylabel('Error')\n",
    "plt.title('Gradient_Descent')"
   ]
  },
  {
   "cell_type": "code",
   "execution_count": null,
   "id": "9c613ac3",
   "metadata": {},
   "outputs": [],
   "source": []
  }
 ],
 "metadata": {
  "kernelspec": {
   "display_name": "Python 3 (ipykernel)",
   "language": "python",
   "name": "python3"
  },
  "language_info": {
   "codemirror_mode": {
    "name": "ipython",
    "version": 3
   },
   "file_extension": ".py",
   "mimetype": "text/x-python",
   "name": "python",
   "nbconvert_exporter": "python",
   "pygments_lexer": "ipython3",
   "version": "3.11.5"
  }
 },
 "nbformat": 4,
 "nbformat_minor": 5
}
