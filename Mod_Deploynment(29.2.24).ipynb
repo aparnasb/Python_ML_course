{
 "cells": [
  {
   "cell_type": "code",
   "execution_count": 1,
   "id": "d01e8f65",
   "metadata": {},
   "outputs": [],
   "source": [
    "import pandas as pd\n",
    "import pickle\n",
    "import streamlit as st"
   ]
  },
  {
   "cell_type": "code",
   "execution_count": 4,
   "id": "d7f24ea1",
   "metadata": {},
   "outputs": [],
   "source": [
    "model=pickle.load(open('log_model.pkl','rb'))"
   ]
  },
  {
   "cell_type": "code",
   "execution_count": 13,
   "id": "7011db3c",
   "metadata": {},
   "outputs": [],
   "source": [
    "st.title('Model Deployment using Logistic Regression')\n",
    "st.sidebar.subheader('User Input Parameters')\n",
    "st.subheader('Male-0, Female-1')\n",
    "st.write()"
   ]
  },
  {
   "cell_type": "code",
   "execution_count": 26,
   "id": "0df27ca9",
   "metadata": {},
   "outputs": [],
   "source": [
    "def user_input_parameters():\n",
    "    CLMSEX= st.sidebar.selectbox('Gender',[0,1])\n",
    "    CLMINSUR=st.sidebar.selectbox('Insurance',[0,1])\n",
    "    SEATBELT= st.sidebar.selectbox('Seatbelt',[0,1])\n",
    "    CLMAGE= st.sidebar.number_input('Age')\n",
    "    LOSS= st.sidebar.number_input('LOSS')\n",
    "    data= {'CLMSEX':CLMSEX,'CLMINSUR':CLMINSUR,'SEATBELT':SEATBELT,'CLMAGE':CLMAGE,'LOSS':LOSS}\n",
    "    features= pd.DataFrame(data,index=[0])\n",
    "    return features\n",
    "df= user_input_parameters()\n",
    "st.subheader('User_input_Parameters')\n",
    "st.write(df)\n",
    "\n",
    "predict= model.predict(df)\n",
    "predict_proba= model.predict_proba(df)\n",
    "\n",
    "st.subheader('Predicted Value')\n",
    "st.write('Yes'if predict_proba[0][1]>0.5 else 'No')\n",
    "\n",
    "st.subheader('Predict_Proba')\n",
    "st.write(predict_proba)"
   ]
  },
  {
   "cell_type": "code",
   "execution_count": 18,
   "id": "022f7b11",
   "metadata": {},
   "outputs": [
    {
     "data": {
      "text/html": [
       "<div>\n",
       "<style scoped>\n",
       "    .dataframe tbody tr th:only-of-type {\n",
       "        vertical-align: middle;\n",
       "    }\n",
       "\n",
       "    .dataframe tbody tr th {\n",
       "        vertical-align: top;\n",
       "    }\n",
       "\n",
       "    .dataframe thead th {\n",
       "        text-align: right;\n",
       "    }\n",
       "</style>\n",
       "<table border=\"1\" class=\"dataframe\">\n",
       "  <thead>\n",
       "    <tr style=\"text-align: right;\">\n",
       "      <th></th>\n",
       "      <th>CLMSEX</th>\n",
       "      <th>CLMINSUR</th>\n",
       "      <th>SEATBELT</th>\n",
       "      <th>CLMAGE</th>\n",
       "      <th>LOSS</th>\n",
       "    </tr>\n",
       "  </thead>\n",
       "  <tbody>\n",
       "    <tr>\n",
       "      <th>0</th>\n",
       "      <td>0</td>\n",
       "      <td>0</td>\n",
       "      <td>0</td>\n",
       "      <td>0.0</td>\n",
       "      <td>0.0</td>\n",
       "    </tr>\n",
       "  </tbody>\n",
       "</table>\n",
       "</div>"
      ],
      "text/plain": [
       "   CLMSEX  CLMINSUR  SEATBELT  CLMAGE  LOSS\n",
       "0       0         0         0     0.0   0.0"
      ]
     },
     "execution_count": 18,
     "metadata": {},
     "output_type": "execute_result"
    }
   ],
   "source": [
    "df"
   ]
  },
  {
   "cell_type": "code",
   "execution_count": null,
   "id": "28e4df54",
   "metadata": {},
   "outputs": [],
   "source": []
  }
 ],
 "metadata": {
  "kernelspec": {
   "display_name": "Python 3 (ipykernel)",
   "language": "python",
   "name": "python3"
  },
  "language_info": {
   "codemirror_mode": {
    "name": "ipython",
    "version": 3
   },
   "file_extension": ".py",
   "mimetype": "text/x-python",
   "name": "python",
   "nbconvert_exporter": "python",
   "pygments_lexer": "ipython3",
   "version": "3.11.5"
  }
 },
 "nbformat": 4,
 "nbformat_minor": 5
}
