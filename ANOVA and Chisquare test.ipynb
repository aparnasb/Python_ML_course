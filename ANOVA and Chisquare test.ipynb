{
 "cells": [
  {
   "cell_type": "markdown",
   "id": "b3e8fa07",
   "metadata": {},
   "source": [
    "## ANOVA test"
   ]
  },
  {
   "cell_type": "code",
   "execution_count": 1,
   "id": "51d30bf2",
   "metadata": {},
   "outputs": [],
   "source": [
    "a= [2,3,7,2,6]\n",
    "b=[10,8,7,5,10]\n",
    "c=[10,13,14,13,15]"
   ]
  },
  {
   "cell_type": "code",
   "execution_count": null,
   "id": "93943105",
   "metadata": {},
   "outputs": [],
   "source": []
  }
 ],
 "metadata": {
  "kernelspec": {
   "display_name": "Python 3 (ipykernel)",
   "language": "python",
   "name": "python3"
  },
  "language_info": {
   "codemirror_mode": {
    "name": "ipython",
    "version": 3
   },
   "file_extension": ".py",
   "mimetype": "text/x-python",
   "name": "python",
   "nbconvert_exporter": "python",
   "pygments_lexer": "ipython3",
   "version": "3.11.5"
  }
 },
 "nbformat": 4,
 "nbformat_minor": 5
}
