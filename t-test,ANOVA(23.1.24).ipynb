{
 "cells": [
  {
   "cell_type": "code",
   "execution_count": 1,
   "id": "c3787231",
   "metadata": {},
   "outputs": [],
   "source": [
    "import scipy.stats as stats"
   ]
  },
  {
   "cell_type": "markdown",
   "id": "5c149d4d",
   "metadata": {},
   "source": [
    "## t-independent test (2 tail)"
   ]
  },
  {
   "cell_type": "markdown",
   "id": "2d9115e3",
   "metadata": {},
   "source": [
    "A statistics teacher wants to compare his two classes to see if they performed any differently on the tests he gave that semester. Class A had 25 students with  an average score of 70, standard deviation 15. Class B had 20 students with an average score of 74 , standard deviation 25. Using alpha 0.05 did these two classes perform differently on the tests?."
   ]
  },
  {
   "cell_type": "code",
   "execution_count": null,
   "id": "7eab1b61",
   "metadata": {},
   "outputs": [],
   "source": []
  }
 ],
 "metadata": {
  "kernelspec": {
   "display_name": "Python 3 (ipykernel)",
   "language": "python",
   "name": "python3"
  },
  "language_info": {
   "codemirror_mode": {
    "name": "ipython",
    "version": 3
   },
   "file_extension": ".py",
   "mimetype": "text/x-python",
   "name": "python",
   "nbconvert_exporter": "python",
   "pygments_lexer": "ipython3",
   "version": "3.11.5"
  }
 },
 "nbformat": 4,
 "nbformat_minor": 5
}
