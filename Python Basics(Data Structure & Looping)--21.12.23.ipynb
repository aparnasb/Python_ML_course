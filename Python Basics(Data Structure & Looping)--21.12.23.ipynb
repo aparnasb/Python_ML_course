{
 "cells": [
  {
   "cell_type": "code",
   "execution_count": 1,
   "id": "e901ea27",
   "metadata": {},
   "outputs": [
    {
     "data": {
      "text/plain": [
       "'sanjaykumar'"
      ]
     },
     "execution_count": 1,
     "metadata": {},
     "output_type": "execute_result"
    }
   ],
   "source": [
    "# concatination and splitting\n",
    "str1= 'sanjay'\n",
    "str2= 'kumar'\n",
    "str1 + str2"
   ]
  },
  {
   "cell_type": "code",
   "execution_count": 6,
   "id": "3002cc42",
   "metadata": {},
   "outputs": [
    {
     "data": {
      "text/plain": [
       "'sanjay kumar'"
      ]
     },
     "execution_count": 6,
     "metadata": {},
     "output_type": "execute_result"
    }
   ],
   "source": [
    "str1+' '+str2"
   ]
  },
  {
   "cell_type": "code",
   "execution_count": 7,
   "id": "893795d0",
   "metadata": {},
   "outputs": [],
   "source": [
    "str3='python fundamental class'"
   ]
  },
  {
   "cell_type": "code",
   "execution_count": 8,
   "id": "9af4455c",
   "metadata": {},
   "outputs": [
    {
     "data": {
      "text/plain": [
       "24"
      ]
     },
     "execution_count": 8,
     "metadata": {},
     "output_type": "execute_result"
    }
   ],
   "source": [
    "len(str3)"
   ]
  },
  {
   "cell_type": "code",
   "execution_count": 13,
   "id": "d88bcdcc",
   "metadata": {},
   "outputs": [
    {
     "data": {
      "text/plain": [
       "['python', 'fundamental', 'class']"
      ]
     },
     "execution_count": 13,
     "metadata": {},
     "output_type": "execute_result"
    }
   ],
   "source": [
    "str4=str3.split()\n",
    "str4"
   ]
  },
  {
   "cell_type": "code",
   "execution_count": 17,
   "id": "1ce483d4",
   "metadata": {},
   "outputs": [
    {
     "data": {
      "text/plain": [
       "['python', 'fundamental']"
      ]
     },
     "execution_count": 17,
     "metadata": {},
     "output_type": "execute_result"
    }
   ],
   "source": [
    "str4[0:2]"
   ]
  },
  {
   "cell_type": "code",
   "execution_count": 18,
   "id": "2404e05f",
   "metadata": {},
   "outputs": [
    {
     "data": {
      "text/plain": [
       "['python', 'fundamental', 'class']"
      ]
     },
     "execution_count": 18,
     "metadata": {},
     "output_type": "execute_result"
    }
   ],
   "source": [
    "str4"
   ]
  },
  {
   "cell_type": "code",
   "execution_count": 22,
   "id": "34548dc3",
   "metadata": {},
   "outputs": [
    {
     "data": {
      "text/plain": [
       "'python fundamental class'"
      ]
     },
     "execution_count": 22,
     "metadata": {},
     "output_type": "execute_result"
    }
   ],
   "source": [
    "' '.join(str4)"
   ]
  },
  {
   "cell_type": "code",
   "execution_count": 29,
   "id": "c6009a0a",
   "metadata": {},
   "outputs": [],
   "source": [
    "str1='               python            '"
   ]
  },
  {
   "cell_type": "code",
   "execution_count": 30,
   "id": "4145aaf4",
   "metadata": {},
   "outputs": [
    {
     "data": {
      "text/plain": [
       "'               python'"
      ]
     },
     "execution_count": 30,
     "metadata": {},
     "output_type": "execute_result"
    }
   ],
   "source": [
    "str1.rstrip()"
   ]
  },
  {
   "cell_type": "code",
   "execution_count": 31,
   "id": "e5dfec11",
   "metadata": {},
   "outputs": [
    {
     "data": {
      "text/plain": [
       "'python            '"
      ]
     },
     "execution_count": 31,
     "metadata": {},
     "output_type": "execute_result"
    }
   ],
   "source": [
    "str1.lstrip()"
   ]
  },
  {
   "cell_type": "code",
   "execution_count": 32,
   "id": "8a2410e1",
   "metadata": {},
   "outputs": [
    {
     "data": {
      "text/plain": [
       "'python'"
      ]
     },
     "execution_count": 32,
     "metadata": {},
     "output_type": "execute_result"
    }
   ],
   "source": [
    "str1.strip()"
   ]
  },
  {
   "cell_type": "code",
   "execution_count": 33,
   "id": "f1918c3b",
   "metadata": {},
   "outputs": [],
   "source": [
    "## replace"
   ]
  },
  {
   "cell_type": "code",
   "execution_count": 34,
   "id": "adff5a67",
   "metadata": {},
   "outputs": [],
   "source": [
    "str1='welcome to python class'"
   ]
  },
  {
   "cell_type": "code",
   "execution_count": 35,
   "id": "5a11571f",
   "metadata": {},
   "outputs": [
    {
     "data": {
      "text/plain": [
       "'welcome to java class'"
      ]
     },
     "execution_count": 35,
     "metadata": {},
     "output_type": "execute_result"
    }
   ],
   "source": [
    "str1.replace('python','java')"
   ]
  },
  {
   "cell_type": "code",
   "execution_count": 39,
   "id": "240566f3",
   "metadata": {},
   "outputs": [
    {
     "data": {
      "text/plain": [
       "'wolcomo to python class'"
      ]
     },
     "execution_count": 39,
     "metadata": {},
     "output_type": "execute_result"
    }
   ],
   "source": [
    "str1.replace('e','o',-1)"
   ]
  },
  {
   "cell_type": "code",
   "execution_count": 40,
   "id": "6d779118",
   "metadata": {},
   "outputs": [],
   "source": [
    "## logical operators"
   ]
  },
  {
   "cell_type": "code",
   "execution_count": 41,
   "id": "77bd363b",
   "metadata": {},
   "outputs": [
    {
     "data": {
      "text/plain": [
       "True"
      ]
     },
     "execution_count": 41,
     "metadata": {},
     "output_type": "execute_result"
    }
   ],
   "source": [
    "True and True"
   ]
  },
  {
   "cell_type": "code",
   "execution_count": 42,
   "id": "0749e4fe",
   "metadata": {},
   "outputs": [
    {
     "data": {
      "text/plain": [
       "False"
      ]
     },
     "execution_count": 42,
     "metadata": {},
     "output_type": "execute_result"
    }
   ],
   "source": [
    "True and False"
   ]
  },
  {
   "cell_type": "code",
   "execution_count": 44,
   "id": "6deb6f86",
   "metadata": {},
   "outputs": [
    {
     "data": {
      "text/plain": [
       "False"
      ]
     },
     "execution_count": 44,
     "metadata": {},
     "output_type": "execute_result"
    }
   ],
   "source": [
    "False & True"
   ]
  },
  {
   "cell_type": "code",
   "execution_count": 45,
   "id": "88e4012f",
   "metadata": {},
   "outputs": [
    {
     "data": {
      "text/plain": [
       "True"
      ]
     },
     "execution_count": 45,
     "metadata": {},
     "output_type": "execute_result"
    }
   ],
   "source": [
    "False or True"
   ]
  },
  {
   "cell_type": "code",
   "execution_count": 47,
   "id": "95131818",
   "metadata": {},
   "outputs": [
    {
     "data": {
      "text/plain": [
       "True"
      ]
     },
     "execution_count": 47,
     "metadata": {},
     "output_type": "execute_result"
    }
   ],
   "source": [
    "(10>5) or (20<15)"
   ]
  },
  {
   "cell_type": "code",
   "execution_count": 48,
   "id": "b203739b",
   "metadata": {},
   "outputs": [
    {
     "data": {
      "text/plain": [
       "False"
      ]
     },
     "execution_count": 48,
     "metadata": {},
     "output_type": "execute_result"
    }
   ],
   "source": [
    "not(True)"
   ]
  },
  {
   "cell_type": "code",
   "execution_count": 50,
   "id": "1c89ef24",
   "metadata": {},
   "outputs": [
    {
     "data": {
      "text/plain": [
       "True"
      ]
     },
     "execution_count": 50,
     "metadata": {},
     "output_type": "execute_result"
    }
   ],
   "source": [
    "not(10!=10)"
   ]
  },
  {
   "cell_type": "code",
   "execution_count": 51,
   "id": "fcbc501e",
   "metadata": {},
   "outputs": [
    {
     "data": {
      "text/plain": [
       "True"
      ]
     },
     "execution_count": 51,
     "metadata": {},
     "output_type": "execute_result"
    }
   ],
   "source": [
    "10==10"
   ]
  },
  {
   "cell_type": "code",
   "execution_count": 52,
   "id": "3602a606",
   "metadata": {},
   "outputs": [
    {
     "data": {
      "text/plain": [
       "False"
      ]
     },
     "execution_count": 52,
     "metadata": {},
     "output_type": "execute_result"
    }
   ],
   "source": [
    "10!=10"
   ]
  },
  {
   "cell_type": "code",
   "execution_count": 53,
   "id": "dad70d97",
   "metadata": {},
   "outputs": [
    {
     "data": {
      "text/plain": [
       "False"
      ]
     },
     "execution_count": 53,
     "metadata": {},
     "output_type": "execute_result"
    }
   ],
   "source": [
    "10>20"
   ]
  },
  {
   "cell_type": "code",
   "execution_count": 54,
   "id": "ab40d026",
   "metadata": {},
   "outputs": [
    {
     "data": {
      "text/plain": [
       "False"
      ]
     },
     "execution_count": 54,
     "metadata": {},
     "output_type": "execute_result"
    }
   ],
   "source": [
    "(10==10) & (10>20) & (20<30)"
   ]
  },
  {
   "cell_type": "code",
   "execution_count": 55,
   "id": "737ec778",
   "metadata": {},
   "outputs": [],
   "source": [
    "## unary operators"
   ]
  },
  {
   "cell_type": "code",
   "execution_count": 59,
   "id": "45465ba9",
   "metadata": {},
   "outputs": [],
   "source": [
    "a=20\n",
    "b=10"
   ]
  },
  {
   "cell_type": "code",
   "execution_count": 57,
   "id": "f07c4d39",
   "metadata": {},
   "outputs": [
    {
     "data": {
      "text/plain": [
       "10"
      ]
     },
     "execution_count": 57,
     "metadata": {},
     "output_type": "execute_result"
    }
   ],
   "source": [
    "a=a-b\n",
    "a"
   ]
  },
  {
   "cell_type": "code",
   "execution_count": 60,
   "id": "12df29ef",
   "metadata": {},
   "outputs": [
    {
     "data": {
      "text/plain": [
       "10"
      ]
     },
     "execution_count": 60,
     "metadata": {},
     "output_type": "execute_result"
    }
   ],
   "source": [
    "a-=b\n",
    "a"
   ]
  },
  {
   "cell_type": "code",
   "execution_count": 61,
   "id": "26aa4d46",
   "metadata": {},
   "outputs": [
    {
     "data": {
      "text/plain": [
       "10"
      ]
     },
     "execution_count": 61,
     "metadata": {},
     "output_type": "execute_result"
    }
   ],
   "source": [
    "a"
   ]
  },
  {
   "cell_type": "code",
   "execution_count": 62,
   "id": "935acab5",
   "metadata": {},
   "outputs": [
    {
     "data": {
      "text/plain": [
       "10"
      ]
     },
     "execution_count": 62,
     "metadata": {},
     "output_type": "execute_result"
    }
   ],
   "source": [
    "b"
   ]
  },
  {
   "cell_type": "code",
   "execution_count": 63,
   "id": "b5590de1",
   "metadata": {},
   "outputs": [
    {
     "data": {
      "text/plain": [
       "100"
      ]
     },
     "execution_count": 63,
     "metadata": {},
     "output_type": "execute_result"
    }
   ],
   "source": [
    "a*=b\n",
    "a"
   ]
  },
  {
   "cell_type": "code",
   "execution_count": 65,
   "id": "245759ab",
   "metadata": {},
   "outputs": [
    {
     "data": {
      "text/plain": [
       "1.0"
      ]
     },
     "execution_count": 65,
     "metadata": {},
     "output_type": "execute_result"
    }
   ],
   "source": [
    "a/=b\n",
    "a"
   ]
  },
  {
   "cell_type": "code",
   "execution_count": 66,
   "id": "bc3f495d",
   "metadata": {},
   "outputs": [],
   "source": [
    "a=100\n",
    "b=10"
   ]
  },
  {
   "cell_type": "code",
   "execution_count": 67,
   "id": "a67ddf75",
   "metadata": {},
   "outputs": [
    {
     "data": {
      "text/plain": [
       "10.0"
      ]
     },
     "execution_count": 67,
     "metadata": {},
     "output_type": "execute_result"
    }
   ],
   "source": [
    "a/=b\n",
    "a"
   ]
  },
  {
   "cell_type": "code",
   "execution_count": 70,
   "id": "9159bafb",
   "metadata": {},
   "outputs": [],
   "source": [
    "a=100\n",
    "b=10\n"
   ]
  },
  {
   "cell_type": "code",
   "execution_count": 78,
   "id": "8519d7ad",
   "metadata": {},
   "outputs": [
    {
     "name": "stdout",
     "output_type": "stream",
     "text": [
      "10.0\n"
     ]
    }
   ],
   "source": [
    "a=100\n",
    "b=10\n",
    "a/=b\n",
    "print(a)"
   ]
  },
  {
   "cell_type": "markdown",
   "id": "393c7f34",
   "metadata": {},
   "source": [
    "## print statement"
   ]
  },
  {
   "cell_type": "code",
   "execution_count": 80,
   "id": "1b662ba8",
   "metadata": {},
   "outputs": [
    {
     "name": "stdout",
     "output_type": "stream",
     "text": [
      "sum of the number : 30\n"
     ]
    }
   ],
   "source": [
    "a=10\n",
    "b=20\n",
    "a+b\n",
    "print('sum of the number :',a+b)"
   ]
  },
  {
   "cell_type": "code",
   "execution_count": 85,
   "id": "b2f7f1f5",
   "metadata": {},
   "outputs": [],
   "source": [
    "name='ajay'\n",
    "age= 30\n",
    "profession='engineer'"
   ]
  },
  {
   "cell_type": "code",
   "execution_count": 83,
   "id": "41135e8b",
   "metadata": {},
   "outputs": [
    {
     "name": "stdout",
     "output_type": "stream",
     "text": [
      "ajay is 30 years old\n"
     ]
    }
   ],
   "source": [
    "print(name,'is', age, 'years old')"
   ]
  },
  {
   "cell_type": "code",
   "execution_count": 86,
   "id": "137c711a",
   "metadata": {},
   "outputs": [
    {
     "name": "stdout",
     "output_type": "stream",
     "text": [
      "ajay is 30 years old and working as an engineer\n"
     ]
    }
   ],
   "source": [
    "print('{0} is {1} years old and working as an {2}'.format(name,age,profession))"
   ]
  },
  {
   "cell_type": "code",
   "execution_count": 87,
   "id": "8d2fbc57",
   "metadata": {},
   "outputs": [
    {
     "name": "stdout",
     "output_type": "stream",
     "text": [
      "ajay is 30 years old and working as an engineer\n"
     ]
    }
   ],
   "source": [
    "print(f'{name} is {age} years old and working as an {profession}')"
   ]
  },
  {
   "cell_type": "markdown",
   "id": "1f4e1037",
   "metadata": {},
   "source": [
    "# Data Structures"
   ]
  },
  {
   "cell_type": "markdown",
   "id": "06b50d79",
   "metadata": {},
   "source": [
    "## list"
   ]
  },
  {
   "cell_type": "code",
   "execution_count": 24,
   "id": "fcf55f7a",
   "metadata": {},
   "outputs": [],
   "source": [
    "list1= [1,2,3,4,5,6]"
   ]
  },
  {
   "cell_type": "code",
   "execution_count": 2,
   "id": "19db0850",
   "metadata": {},
   "outputs": [
    {
     "data": {
      "text/plain": [
       "6"
      ]
     },
     "execution_count": 2,
     "metadata": {},
     "output_type": "execute_result"
    }
   ],
   "source": [
    "len(list1)"
   ]
  },
  {
   "cell_type": "code",
   "execution_count": 3,
   "id": "92ae01a5",
   "metadata": {},
   "outputs": [
    {
     "data": {
      "text/plain": [
       "list"
      ]
     },
     "execution_count": 3,
     "metadata": {},
     "output_type": "execute_result"
    }
   ],
   "source": [
    "type(list1)"
   ]
  },
  {
   "cell_type": "code",
   "execution_count": 4,
   "id": "adef9bb9",
   "metadata": {},
   "outputs": [
    {
     "data": {
      "text/plain": [
       "True"
      ]
     },
     "execution_count": 4,
     "metadata": {},
     "output_type": "execute_result"
    }
   ],
   "source": [
    "isinstance(list1,list)"
   ]
  },
  {
   "cell_type": "code",
   "execution_count": 5,
   "id": "e81f54c3",
   "metadata": {},
   "outputs": [
    {
     "data": {
      "text/plain": [
       "6"
      ]
     },
     "execution_count": 5,
     "metadata": {},
     "output_type": "execute_result"
    }
   ],
   "source": [
    "max(list1)"
   ]
  },
  {
   "cell_type": "code",
   "execution_count": 6,
   "id": "c28913d6",
   "metadata": {},
   "outputs": [
    {
     "data": {
      "text/plain": [
       "1"
      ]
     },
     "execution_count": 6,
     "metadata": {},
     "output_type": "execute_result"
    }
   ],
   "source": [
    "min(list1)"
   ]
  },
  {
   "cell_type": "code",
   "execution_count": 8,
   "id": "b975b05a",
   "metadata": {},
   "outputs": [
    {
     "data": {
      "text/plain": [
       "21"
      ]
     },
     "execution_count": 8,
     "metadata": {},
     "output_type": "execute_result"
    }
   ],
   "source": [
    "sum(list1)"
   ]
  },
  {
   "cell_type": "code",
   "execution_count": 11,
   "id": "5c379b15",
   "metadata": {},
   "outputs": [],
   "source": [
    "list1.append(200)"
   ]
  },
  {
   "cell_type": "code",
   "execution_count": 12,
   "id": "524edccb",
   "metadata": {},
   "outputs": [
    {
     "data": {
      "text/plain": [
       "[1, 2, 3, 4, 5, 6, 100, 200]"
      ]
     },
     "execution_count": 12,
     "metadata": {},
     "output_type": "execute_result"
    }
   ],
   "source": [
    "list1"
   ]
  },
  {
   "cell_type": "code",
   "execution_count": 16,
   "id": "7dad0d01",
   "metadata": {},
   "outputs": [
    {
     "data": {
      "text/plain": [
       "[1, 2, 3, 4, 50, 50, 50, 5, 6, 100, 200]"
      ]
     },
     "execution_count": 16,
     "metadata": {},
     "output_type": "execute_result"
    }
   ],
   "source": [
    "list1.insert(4,50)\n",
    "list1"
   ]
  },
  {
   "cell_type": "code",
   "execution_count": 18,
   "id": "26a07da2",
   "metadata": {},
   "outputs": [
    {
     "data": {
      "text/plain": [
       "[1, 2, 3, 4, 50, 50, 50, 5, 6, 100, 200]"
      ]
     },
     "execution_count": 18,
     "metadata": {},
     "output_type": "execute_result"
    }
   ],
   "source": [
    "list1"
   ]
  },
  {
   "cell_type": "code",
   "execution_count": 19,
   "id": "1512c67b",
   "metadata": {},
   "outputs": [],
   "source": [
    "list1.append([1000,2000])"
   ]
  },
  {
   "cell_type": "code",
   "execution_count": 20,
   "id": "57f6e038",
   "metadata": {},
   "outputs": [
    {
     "data": {
      "text/plain": [
       "[1, 2, 3, 4, 50, 50, 50, 5, 6, 100, 200, [1000, 2000]]"
      ]
     },
     "execution_count": 20,
     "metadata": {},
     "output_type": "execute_result"
    }
   ],
   "source": [
    "list1"
   ]
  },
  {
   "cell_type": "code",
   "execution_count": 21,
   "id": "747cb972",
   "metadata": {},
   "outputs": [
    {
     "data": {
      "text/plain": [
       "3"
      ]
     },
     "execution_count": 21,
     "metadata": {},
     "output_type": "execute_result"
    }
   ],
   "source": [
    "list1.count(50)"
   ]
  },
  {
   "cell_type": "code",
   "execution_count": 22,
   "id": "66e5edd9",
   "metadata": {},
   "outputs": [],
   "source": [
    "list1.clear()"
   ]
  },
  {
   "cell_type": "code",
   "execution_count": 25,
   "id": "1d4a6c87",
   "metadata": {},
   "outputs": [
    {
     "data": {
      "text/plain": [
       "[1, 2, 3, 4, 5, 6]"
      ]
     },
     "execution_count": 25,
     "metadata": {},
     "output_type": "execute_result"
    }
   ],
   "source": [
    "list1"
   ]
  },
  {
   "cell_type": "code",
   "execution_count": 27,
   "id": "ab51d990",
   "metadata": {},
   "outputs": [],
   "source": [
    "list1.append(200)"
   ]
  },
  {
   "cell_type": "code",
   "execution_count": 29,
   "id": "fee4e578",
   "metadata": {},
   "outputs": [
    {
     "data": {
      "text/plain": [
       "[1, 2, 3, 4, 5, 6, 100, 200]"
      ]
     },
     "execution_count": 29,
     "metadata": {},
     "output_type": "execute_result"
    }
   ],
   "source": [
    "list1"
   ]
  },
  {
   "cell_type": "code",
   "execution_count": 30,
   "id": "57a25fab",
   "metadata": {},
   "outputs": [],
   "source": [
    "list1.append([1000,2000])"
   ]
  },
  {
   "cell_type": "code",
   "execution_count": 31,
   "id": "8c78de11",
   "metadata": {},
   "outputs": [
    {
     "data": {
      "text/plain": [
       "[1, 2, 3, 4, 5, 6, 100, 200, [1000, 2000]]"
      ]
     },
     "execution_count": 31,
     "metadata": {},
     "output_type": "execute_result"
    }
   ],
   "source": [
    "list1"
   ]
  },
  {
   "cell_type": "code",
   "execution_count": 32,
   "id": "88253e4d",
   "metadata": {},
   "outputs": [
    {
     "data": {
      "text/plain": [
       "1"
      ]
     },
     "execution_count": 32,
     "metadata": {},
     "output_type": "execute_result"
    }
   ],
   "source": [
    "list1.count([1000,2000])"
   ]
  },
  {
   "cell_type": "code",
   "execution_count": 33,
   "id": "1d1447fe",
   "metadata": {},
   "outputs": [
    {
     "data": {
      "text/plain": [
       "[1, 2, 3, 4, 5, 6, 100, 200, [1000, 2000]]"
      ]
     },
     "execution_count": 33,
     "metadata": {},
     "output_type": "execute_result"
    }
   ],
   "source": [
    "list1"
   ]
  },
  {
   "cell_type": "code",
   "execution_count": 34,
   "id": "c8c42685",
   "metadata": {},
   "outputs": [],
   "source": [
    "list1.append(1)"
   ]
  },
  {
   "cell_type": "code",
   "execution_count": 35,
   "id": "d7bbb939",
   "metadata": {},
   "outputs": [
    {
     "data": {
      "text/plain": [
       "[1, 2, 3, 4, 5, 6, 100, 200, [1000, 2000], 1]"
      ]
     },
     "execution_count": 35,
     "metadata": {},
     "output_type": "execute_result"
    }
   ],
   "source": [
    "list1"
   ]
  },
  {
   "cell_type": "code",
   "execution_count": 36,
   "id": "cd94a86b",
   "metadata": {},
   "outputs": [],
   "source": [
    "list1.clear()"
   ]
  },
  {
   "cell_type": "code",
   "execution_count": 47,
   "id": "3c054ff7",
   "metadata": {},
   "outputs": [
    {
     "data": {
      "text/plain": [
       "[1, 2, 3, 4, 5, 6]"
      ]
     },
     "execution_count": 47,
     "metadata": {},
     "output_type": "execute_result"
    }
   ],
   "source": [
    "list1=[1,2,3,4,5,6]\n",
    "list1"
   ]
  },
  {
   "cell_type": "code",
   "execution_count": 42,
   "id": "13cffca0",
   "metadata": {},
   "outputs": [],
   "source": [
    "list1.append(200)"
   ]
  },
  {
   "cell_type": "code",
   "execution_count": 43,
   "id": "1612d0c7",
   "metadata": {},
   "outputs": [
    {
     "data": {
      "text/plain": [
       "[1, 2, 3, 4, 5, 6, 100, 200, 200]"
      ]
     },
     "execution_count": 43,
     "metadata": {},
     "output_type": "execute_result"
    }
   ],
   "source": [
    "list1"
   ]
  },
  {
   "cell_type": "code",
   "execution_count": 44,
   "id": "8f8de5d2",
   "metadata": {},
   "outputs": [],
   "source": [
    "list1.remove(200)"
   ]
  },
  {
   "cell_type": "code",
   "execution_count": 45,
   "id": "b48b1b95",
   "metadata": {},
   "outputs": [
    {
     "data": {
      "text/plain": [
       "[1, 2, 3, 4, 5, 6, 100, 200]"
      ]
     },
     "execution_count": 45,
     "metadata": {},
     "output_type": "execute_result"
    }
   ],
   "source": [
    "list1"
   ]
  },
  {
   "cell_type": "code",
   "execution_count": null,
   "id": "d83d75d4",
   "metadata": {},
   "outputs": [],
   "source": []
  }
 ],
 "metadata": {
  "kernelspec": {
   "display_name": "Python 3 (ipykernel)",
   "language": "python",
   "name": "python3"
  },
  "language_info": {
   "codemirror_mode": {
    "name": "ipython",
    "version": 3
   },
   "file_extension": ".py",
   "mimetype": "text/x-python",
   "name": "python",
   "nbconvert_exporter": "python",
   "pygments_lexer": "ipython3",
   "version": "3.11.5"
  }
 },
 "nbformat": 4,
 "nbformat_minor": 5
}
