{
 "cells": [
  {
   "cell_type": "code",
   "execution_count": 1,
   "id": "d01e8f65",
   "metadata": {},
   "outputs": [],
   "source": [
    "import pandas as pd\n",
    "import pickle\n",
    "import streamlit as st"
   ]
  },
  {
   "cell_type": "code",
   "execution_count": 2,
   "id": "d7f24ea1",
   "metadata": {},
   "outputs": [],
   "source": [
    "model=pickle.load(open('log_model.pkl','rb'))"
   ]
  },
  {
   "cell_type": "code",
   "execution_count": 3,
   "id": "7011db3c",
   "metadata": {},
   "outputs": [
    {
     "name": "stderr",
     "output_type": "stream",
     "text": [
      "2024-03-04 09:20:00.150 \n",
      "  \u001b[33m\u001b[1mWarning:\u001b[0m to view this Streamlit app on a browser, run it with the following\n",
      "  command:\n",
      "\n",
      "    streamlit run C:\\Users\\excel\\anaconda3\\Lib\\site-packages\\ipykernel_launcher.py [ARGUMENTS]\n"
     ]
    },
    {
     "data": {
      "text/plain": [
       "DeltaGenerator(_root_container=1, _parent=DeltaGenerator())"
      ]
     },
     "execution_count": 3,
     "metadata": {},
     "output_type": "execute_result"
    }
   ],
   "source": [
    "st.title('Model Deployment using Logistic Regression')\n",
    "st.sidebar.subheader('User Input Parameters')"
   ]
  },
  {
   "cell_type": "code",
   "execution_count": 4,
   "id": "0df27ca9",
   "metadata": {},
   "outputs": [],
   "source": [
    "def user_input_parameters():\n",
    "    CLMSEX= st.sidebar.selectbox('Gender-Female=0,Male=1',[0,1])\n",
    "    CLMINSUR=st.sidebar.selectbox('Insurance',[0,1])\n",
    "    SEATBELT= st.sidebar.selectbox('Seatbelt',[0,1])\n",
    "    CLMAGE= st.sidebar.number_input('Age')\n",
    "    LOSS= st.sidebar.number_input('LOSS')\n",
    "    data= {'CLMSEX':CLMSEX,'CLMINSUR':CLMINSUR,'SEATBELT':SEATBELT,'CLMAGE':CLMAGE,'LOSS':LOSS}\n",
    "    features= pd.DataFrame(data,index=[0])\n",
    "    return features\n",
    "df= user_input_parameters()\n",
    "st.subheader('User_input_Parameters')\n",
    "st.write(df)\n",
    "\n",
    "predict= model.predict(df)\n",
    "predict_proba= model.predict_proba(df)\n",
    "\n",
    "st.subheader('Predicted Value')\n",
    "st.write('Yes'if predict_proba[0][1]>0.5 else 'No')\n",
    "\n",
    "st.subheader('Predict_Proba')\n",
    "st.write(predict_proba)"
   ]
  },
  {
   "cell_type": "code",
   "execution_count": null,
   "id": "28e4df54",
   "metadata": {},
   "outputs": [],
   "source": []
  }
 ],
 "metadata": {
  "kernelspec": {
   "display_name": "Python 3 (ipykernel)",
   "language": "python",
   "name": "python3"
  },
  "language_info": {
   "codemirror_mode": {
    "name": "ipython",
    "version": 3
   },
   "file_extension": ".py",
   "mimetype": "text/x-python",
   "name": "python",
   "nbconvert_exporter": "python",
   "pygments_lexer": "ipython3",
   "version": "3.11.5"
  }
 },
 "nbformat": 4,
 "nbformat_minor": 5
}
