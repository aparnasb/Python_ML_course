{
 "cells": [
  {
   "cell_type": "code",
   "execution_count": 53,
   "id": "bdb0f3b8",
   "metadata": {},
   "outputs": [],
   "source": [
    "import numpy as np\n",
    "import pandas as pd\n",
    "from sklearn.linear_model import LinearRegression\n",
    "from sklearn.preprocessing import PolynomialFeatures\n",
    "from sklearn.model_selection import train_test_split\n",
    "import matplotlib.pyplot as plt\n",
    "from sklearn.metrics import r2_score\n",
    "import seaborn as sns"
   ]
  },
  {
   "cell_type": "code",
   "execution_count": 31,
   "id": "bef9724d",
   "metadata": {},
   "outputs": [
    {
     "data": {
      "text/plain": [
       "array([[-2.11514055],\n",
       "       [-3.08957904],\n",
       "       [-0.43516663],\n",
       "       [ 3.02131557],\n",
       "       [-2.7127898 ],\n",
       "       [-2.64542345],\n",
       "       [ 0.51945215],\n",
       "       [-3.04892635],\n",
       "       [ 0.88155055],\n",
       "       [-2.68856817],\n",
       "       [-3.38077067],\n",
       "       [ 0.17423229],\n",
       "       [ 1.06088068],\n",
       "       [-3.8480151 ],\n",
       "       [ 0.12462169],\n",
       "       [-1.56440894],\n",
       "       [ 1.61745475],\n",
       "       [-3.12429303],\n",
       "       [-1.13680862],\n",
       "       [ 1.48127624],\n",
       "       [-0.56106739],\n",
       "       [ 2.5588336 ],\n",
       "       [ 1.97043198],\n",
       "       [-3.49762539],\n",
       "       [-0.85787316],\n",
       "       [-2.48177505],\n",
       "       [-2.88754829],\n",
       "       [-1.97461737],\n",
       "       [ 1.50634447],\n",
       "       [-0.6842834 ],\n",
       "       [-3.05616748],\n",
       "       [ 3.38412654],\n",
       "       [-3.9225953 ],\n",
       "       [-3.24132085],\n",
       "       [ 1.53805085],\n",
       "       [-3.23089953],\n",
       "       [-3.45805042],\n",
       "       [ 2.43351733],\n",
       "       [ 3.1243863 ],\n",
       "       [ 3.24618748],\n",
       "       [-0.00834201],\n",
       "       [ 0.67806361],\n",
       "       [-3.68608082],\n",
       "       [ 3.83748289],\n",
       "       [ 0.7558757 ],\n",
       "       [ 1.61652787],\n",
       "       [ 2.13079344],\n",
       "       [-0.12767232],\n",
       "       [ 0.00760478],\n",
       "       [-3.58427762],\n",
       "       [-1.05817301],\n",
       "       [ 3.51831265],\n",
       "       [ 1.46959837],\n",
       "       [ 3.22724128],\n",
       "       [ 1.75010734],\n",
       "       [ 0.78448833],\n",
       "       [-3.79093517],\n",
       "       [-2.05219298],\n",
       "       [-3.08284601],\n",
       "       [ 0.22679774],\n",
       "       [-3.67423266],\n",
       "       [ 2.9329253 ],\n",
       "       [ 2.28833224],\n",
       "       [-0.67941898],\n",
       "       [-2.85653244],\n",
       "       [-2.31572214],\n",
       "       [ 1.86504042],\n",
       "       [-1.85525362],\n",
       "       [-3.5120304 ],\n",
       "       [-0.47733848],\n",
       "       [ 2.58048476],\n",
       "       [ 1.28140317],\n",
       "       [ 1.68855207],\n",
       "       [ 3.58620905],\n",
       "       [ 1.69764859],\n",
       "       [ 2.13635693],\n",
       "       [-3.66063788],\n",
       "       [ 0.4682657 ],\n",
       "       [ 0.49736057],\n",
       "       [ 3.26963747],\n",
       "       [ 0.30590357],\n",
       "       [ 3.36294978],\n",
       "       [ 1.98822156],\n",
       "       [ 0.94595039],\n",
       "       [ 3.96086423],\n",
       "       [ 2.45748761],\n",
       "       [ 2.98336767],\n",
       "       [-0.53985045],\n",
       "       [-0.19811819],\n",
       "       [ 0.72022782],\n",
       "       [ 3.35621857],\n",
       "       [ 1.72223764],\n",
       "       [ 2.5314186 ],\n",
       "       [-0.36100389],\n",
       "       [ 3.16297045],\n",
       "       [ 3.99234026],\n",
       "       [-1.57936606],\n",
       "       [-2.39027568],\n",
       "       [ 3.00709196],\n",
       "       [ 0.1086144 ]])"
      ]
     },
     "execution_count": 31,
     "metadata": {},
     "output_type": "execute_result"
    }
   ],
   "source": [
    "x= 8*np.random.rand(100,1)-4\n",
    "x"
   ]
  },
  {
   "cell_type": "code",
   "execution_count": 32,
   "id": "dab566b4",
   "metadata": {},
   "outputs": [],
   "source": [
    "y= 2*(x**2)+x*1.5+np.random.rand(100,1)"
   ]
  },
  {
   "cell_type": "code",
   "execution_count": 33,
   "id": "d3b9e8e3",
   "metadata": {},
   "outputs": [
    {
     "data": {
      "text/plain": [
       "array([[ 6.49387445e+00],\n",
       "       [ 1.46173388e+01],\n",
       "       [ 2.43959132e-02],\n",
       "       [ 2.28634426e+01],\n",
       "       [ 1.10226804e+01],\n",
       "       [ 1.04924650e+01],\n",
       "       [ 1.62238782e+00],\n",
       "       [ 1.40871996e+01],\n",
       "       [ 3.36026014e+00],\n",
       "       [ 1.13741511e+01],\n",
       "       [ 1.83414529e+01],\n",
       "       [ 1.28026390e+00],\n",
       "       [ 4.74436837e+00],\n",
       "       [ 2.44175751e+01],\n",
       "       [ 3.89824109e-01],\n",
       "       [ 2.68818240e+00],\n",
       "       [ 8.53855984e+00],\n",
       "       [ 1.51730336e+01],\n",
       "       [ 1.03262136e+00],\n",
       "       [ 6.85979861e+00],\n",
       "       [ 5.31867989e-02],\n",
       "       [ 1.70235140e+01],\n",
       "       [ 1.11829401e+01],\n",
       "       [ 1.92326757e+01],\n",
       "       [ 1.15319604e+00],\n",
       "       [ 8.80933942e+00],\n",
       "       [ 1.27470205e+01],\n",
       "       [ 5.36229018e+00],\n",
       "       [ 6.79878121e+00],\n",
       "       [ 3.99199143e-01],\n",
       "       [ 1.46181317e+01],\n",
       "       [ 2.81593958e+01],\n",
       "       [ 2.55622508e+01],\n",
       "       [ 1.64553844e+01],\n",
       "       [ 7.99494202e+00],\n",
       "       [ 1.61529741e+01],\n",
       "       [ 1.94041024e+01],\n",
       "       [ 1.61211129e+01],\n",
       "       [ 2.50915866e+01],\n",
       "       [ 2.66238608e+01],\n",
       "       [ 4.12550950e-02],\n",
       "       [ 2.04429781e+00],\n",
       "       [ 2.24109023e+01],\n",
       "       [ 3.61959688e+01],\n",
       "       [ 2.69969355e+00],\n",
       "       [ 8.62060964e+00],\n",
       "       [ 1.25441396e+01],\n",
       "       [ 3.82343227e-02],\n",
       "       [ 8.32315208e-01],\n",
       "       [ 2.06035938e+01],\n",
       "       [ 1.50602862e+00],\n",
       "       [ 3.05840145e+01],\n",
       "       [ 6.91888342e+00],\n",
       "       [ 2.60883076e+01],\n",
       "       [ 8.83560150e+00],\n",
       "       [ 3.39658263e+00],\n",
       "       [ 2.39497177e+01],\n",
       "       [ 5.75759527e+00],\n",
       "       [ 1.52908674e+01],\n",
       "       [ 7.34759518e-01],\n",
       "       [ 2.17252214e+01],\n",
       "       [ 2.21662689e+01],\n",
       "       [ 1.46147496e+01],\n",
       "       [ 5.02017338e-01],\n",
       "       [ 1.23592954e+01],\n",
       "       [ 8.06889844e+00],\n",
       "       [ 1.04257374e+01],\n",
       "       [ 4.31762698e+00],\n",
       "       [ 1.97423644e+01],\n",
       "       [ 1.09766683e-01],\n",
       "       [ 1.79637773e+01],\n",
       "       [ 5.22428849e+00],\n",
       "       [ 8.28501204e+00],\n",
       "       [ 3.14560479e+01],\n",
       "       [ 8.81153827e+00],\n",
       "       [ 1.29250878e+01],\n",
       "       [ 2.18548203e+01],\n",
       "       [ 2.10357217e+00],\n",
       "       [ 1.63130128e+00],\n",
       "       [ 2.68971480e+01],\n",
       "       [ 9.87203165e-01],\n",
       "       [ 2.81735411e+01],\n",
       "       [ 1.18611288e+01],\n",
       "       [ 3.35676389e+00],\n",
       "       [ 3.73921921e+01],\n",
       "       [ 1.57760984e+01],\n",
       "       [ 2.29981877e+01],\n",
       "       [ 2.36892025e-01],\n",
       "       [ 1.12610855e-01],\n",
       "       [ 2.33070712e+00],\n",
       "       [ 2.79911641e+01],\n",
       "       [ 9.40183149e+00],\n",
       "       [ 1.67278290e+01],\n",
       "       [-2.20795195e-01],\n",
       "       [ 2.55124624e+01],\n",
       "       [ 3.82786997e+01],\n",
       "       [ 3.29037946e+00],\n",
       "       [ 8.16928714e+00],\n",
       "       [ 2.31535456e+01],\n",
       "       [ 3.13370042e-01]])"
      ]
     },
     "execution_count": 33,
     "metadata": {},
     "output_type": "execute_result"
    }
   ],
   "source": [
    "y"
   ]
  },
  {
   "cell_type": "code",
   "execution_count": 34,
   "id": "cb5acd7d",
   "metadata": {},
   "outputs": [
    {
     "data": {
      "text/plain": [
       "<matplotlib.collections.PathCollection at 0x2028afc5110>"
      ]
     },
     "execution_count": 34,
     "metadata": {},
     "output_type": "execute_result"
    },
    {
     "data": {
      "image/png": "[encoded data removed]",
      "text/plain": [
       "<Figure size 640x480 with 1 Axes>"
      ]
     },
     "metadata": {},
     "output_type": "display_data"
    }
   ],
   "source": [
    "plt.scatter(x,y)"
   ]
  },
  {
   "cell_type": "code",
   "execution_count": 35,
   "id": "9db0763c",
   "metadata": {},
   "outputs": [],
   "source": [
    "x_train,x_test,y_train,y_test= train_test_split(x,y,train_size=0.75,random_state=100)"
   ]
  },
  {
   "cell_type": "code",
   "execution_count": 36,
   "id": "46f59590",
   "metadata": {},
   "outputs": [
    {
     "name": "stdout",
     "output_type": "stream",
     "text": [
      "(75, 1)\n",
      "(25, 1)\n",
      "(75, 1)\n",
      "(25, 1)\n"
     ]
    }
   ],
   "source": [
    "print(x_train.shape)\n",
    "print(x_test.shape)\n",
    "print(y_train.shape)\n",
    "print(y_test.shape)"
   ]
  },
  {
   "cell_type": "code",
   "execution_count": 37,
   "id": "d32f60fb",
   "metadata": {},
   "outputs": [],
   "source": [
    "lin_model= LinearRegression()"
   ]
  },
  {
   "cell_type": "code",
   "execution_count": 38,
   "id": "eec27a93",
   "metadata": {},
   "outputs": [
    {
     "data": {
      "text/html": [
       "<style>#sk-container-id-3 {color: black;}#sk-container-id-3 pre{padding: 0;}#sk-container-id-3 div.sk-toggleable {background-color: white;}#sk-container-id-3 label.sk-toggleable__label {cursor: pointer;display: block;width: 100%;margin-bottom: 0;padding: 0.3em;box-sizing: border-box;text-align: center;}#sk-container-id-3 label.sk-toggleable__label-arrow:before {content: \"▸\";float: left;margin-right: 0.25em;color: #696969;}#sk-container-id-3 label.sk-toggleable__label-arrow:hover:before {color: black;}#sk-container-id-3 div.sk-estimator:hover label.sk-toggleable__label-arrow:before {color: black;}#sk-container-id-3 div.sk-toggleable__content {max-height: 0;max-width: 0;overflow: hidden;text-align: left;background-color: #f0f8ff;}#sk-container-id-3 div.sk-toggleable__content pre {margin: 0.2em;color: black;border-radius: 0.25em;background-color: #f0f8ff;}#sk-container-id-3 input.sk-toggleable__control:checked~div.sk-toggleable__content {max-height: 200px;max-width: 100%;overflow: auto;}#sk-container-id-3 input.sk-toggleable__control:checked~label.sk-toggleable__label-arrow:before {content: \"▾\";}#sk-container-id-3 div.sk-estimator input.sk-toggleable__control:checked~label.sk-toggleable__label {background-color: #d4ebff;}#sk-container-id-3 div.sk-label input.sk-toggleable__control:checked~label.sk-toggleable__label {background-color: #d4ebff;}#sk-container-id-3 input.sk-hidden--visually {border: 0;clip: rect(1px 1px 1px 1px);clip: rect(1px, 1px, 1px, 1px);height: 1px;margin: -1px;overflow: hidden;padding: 0;position: absolute;width: 1px;}#sk-container-id-3 div.sk-estimator {font-family: monospace;background-color: #f0f8ff;border: 1px dotted black;border-radius: 0.25em;box-sizing: border-box;margin-bottom: 0.5em;}#sk-container-id-3 div.sk-estimator:hover {background-color: #d4ebff;}#sk-container-id-3 div.sk-parallel-item::after {content: \"\";width: 100%;border-bottom: 1px solid gray;flex-grow: 1;}#sk-container-id-3 div.sk-label:hover label.sk-toggleable__label {background-color: #d4ebff;}#sk-container-id-3 div.sk-serial::before {content: \"\";position: absolute;border-left: 1px solid gray;box-sizing: border-box;top: 0;bottom: 0;left: 50%;z-index: 0;}#sk-container-id-3 div.sk-serial {display: flex;flex-direction: column;align-items: center;background-color: white;padding-right: 0.2em;padding-left: 0.2em;position: relative;}#sk-container-id-3 div.sk-item {position: relative;z-index: 1;}#sk-container-id-3 div.sk-parallel {display: flex;align-items: stretch;justify-content: center;background-color: white;position: relative;}#sk-container-id-3 div.sk-item::before, #sk-container-id-3 div.sk-parallel-item::before {content: \"\";position: absolute;border-left: 1px solid gray;box-sizing: border-box;top: 0;bottom: 0;left: 50%;z-index: -1;}#sk-container-id-3 div.sk-parallel-item {display: flex;flex-direction: column;z-index: 1;position: relative;background-color: white;}#sk-container-id-3 div.sk-parallel-item:first-child::after {align-self: flex-end;width: 50%;}#sk-container-id-3 div.sk-parallel-item:last-child::after {align-self: flex-start;width: 50%;}#sk-container-id-3 div.sk-parallel-item:only-child::after {width: 0;}#sk-container-id-3 div.sk-dashed-wrapped {border: 1px dashed gray;margin: 0 0.4em 0.5em 0.4em;box-sizing: border-box;padding-bottom: 0.4em;background-color: white;}#sk-container-id-3 div.sk-label label {font-family: monospace;font-weight: bold;display: inline-block;line-height: 1.2em;}#sk-container-id-3 div.sk-label-container {text-align: center;}#sk-container-id-3 div.sk-container {/* jupyter's `normalize.less` sets `[hidden] { display: none; }` but bootstrap.min.css set `[hidden] { display: none !important; }` so we also need the `!important` here to be able to override the default hidden behavior on the sphinx rendered scikit-learn.org. See: https://github.com/scikit-learn/scikit-learn/issues/21755 */display: inline-block !important;position: relative;}#sk-container-id-3 div.sk-text-repr-fallback {display: none;}</style><div id=\"sk-container-id-3\" class=\"sk-top-container\"><div class=\"sk-text-repr-fallback\"><pre>LinearRegression()</pre><b>In a Jupyter environment, please rerun this cell to show the HTML representation or trust the notebook. <br />On GitHub, the HTML representation is unable to render, please try loading this page with nbviewer.org.</b></div><div class=\"sk-container\" hidden><div class=\"sk-item\"><div class=\"sk-estimator sk-toggleable\"><input class=\"sk-toggleable__control sk-hidden--visually\" id=\"sk-estimator-id-3\" type=\"checkbox\" checked><label for=\"sk-estimator-id-3\" class=\"sk-toggleable__label sk-toggleable__label-arrow\">LinearRegression</label><div class=\"sk-toggleable__content\"><pre>LinearRegression()</pre></div></div></div></div></div>"
      ],
      "text/plain": [
       "LinearRegression()"
      ]
     },
     "execution_count": 38,
     "metadata": {},
     "output_type": "execute_result"
    }
   ],
   "source": [
    "lin_model.fit(x_train,y_train)"
   ]
  },
  {
   "cell_type": "code",
   "execution_count": 39,
   "id": "e1fef660",
   "metadata": {},
   "outputs": [],
   "source": [
    "y_pred= lin_model.predict(x_train)"
   ]
  },
  {
   "cell_type": "code",
   "execution_count": 40,
   "id": "0bbd73c9",
   "metadata": {},
   "outputs": [
    {
     "data": {
      "text/plain": [
       "0.06661320996820153"
      ]
     },
     "execution_count": 40,
     "metadata": {},
     "output_type": "execute_result"
    }
   ],
   "source": [
    "r2_score(y_train,y_pred)"
   ]
  },
  {
   "cell_type": "code",
   "execution_count": 41,
   "id": "b5734651",
   "metadata": {},
   "outputs": [
    {
     "data": {
      "text/plain": [
       "array([[15.01831464],\n",
       "       [ 9.11498678],\n",
       "       [16.51441318],\n",
       "       [16.11188245],\n",
       "       [12.28530185],\n",
       "       [ 8.65618825],\n",
       "       [13.45183334],\n",
       "       [16.15285109],\n",
       "       [14.03636088],\n",
       "       [16.68941034],\n",
       "       [17.16719008],\n",
       "       [16.76271145],\n",
       "       [ 9.80711227],\n",
       "       [14.78045164],\n",
       "       [ 9.0994351 ],\n",
       "       [15.19744762],\n",
       "       [14.72381704],\n",
       "       [10.67547908],\n",
       "       [ 8.91152985],\n",
       "       [ 8.93899811],\n",
       "       [13.00829192],\n",
       "       [ 9.5180373 ],\n",
       "       [12.50129088],\n",
       "       [12.15752919],\n",
       "       [10.60752074],\n",
       "       [11.66373024],\n",
       "       [13.70707678],\n",
       "       [16.26412651],\n",
       "       [14.63623892],\n",
       "       [16.39562335],\n",
       "       [15.6769291 ],\n",
       "       [16.30578205],\n",
       "       [ 9.5915858 ],\n",
       "       [14.27443749],\n",
       "       [15.19144127],\n",
       "       [ 8.79832884],\n",
       "       [13.22128578],\n",
       "       [14.75036344],\n",
       "       [12.67714268],\n",
       "       [14.49022094],\n",
       "       [16.52168021],\n",
       "       [13.73796704],\n",
       "       [13.66859124],\n",
       "       [16.05742475],\n",
       "       [10.39097237],\n",
       "       [12.75319621],\n",
       "       [ 9.02143683],\n",
       "       [ 9.59940334],\n",
       "       [10.31048419],\n",
       "       [13.13588294],\n",
       "       [17.20117169],\n",
       "       [ 8.73670521],\n",
       "       [ 9.5555146 ],\n",
       "       [16.54454268],\n",
       "       [ 9.96229717],\n",
       "       [10.7592299 ],\n",
       "       [12.42122461],\n",
       "       [ 9.9884469 ],\n",
       "       [14.63723958],\n",
       "       [ 9.5627836 ],\n",
       "       [ 8.92432115],\n",
       "       [11.2020919 ],\n",
       "       [16.13749525],\n",
       "       [14.55151494],\n",
       "       [13.02557343],\n",
       "       [14.90453366],\n",
       "       [16.37516899],\n",
       "       [14.47761348],\n",
       "       [ 9.24114341],\n",
       "       [12.89924169],\n",
       "       [16.42094002],\n",
       "       [12.30820771],\n",
       "       [10.88809529],\n",
       "       [11.96486963],\n",
       "       [13.84275564]])"
      ]
     },
     "execution_count": 41,
     "metadata": {},
     "output_type": "execute_result"
    }
   ],
   "source": [
    "y_pred"
   ]
  },
  {
   "cell_type": "code",
   "execution_count": 42,
   "id": "c91c42a9",
   "metadata": {},
   "outputs": [
    {
     "data": {
      "text/plain": [
       "[<matplotlib.lines.Line2D at 0x2028af93c90>]"
      ]
     },
     "execution_count": 42,
     "metadata": {},
     "output_type": "execute_result"
    },
    {
     "data": {
      "image/png": "[encoded data removed]",
      "text/plain": [
       "<Figure size 640x480 with 1 Axes>"
      ]
     },
     "metadata": {},
     "output_type": "display_data"
    }
   ],
   "source": [
    "plt.scatter(x_train,y_train)\n",
    "plt.plot(x_train,y_pred)"
   ]
  },
  {
   "cell_type": "code",
   "execution_count": 43,
   "id": "d5b504cd",
   "metadata": {},
   "outputs": [],
   "source": [
    "poly= PolynomialFeatures(degree=2,include_bias=True)"
   ]
  },
  {
   "cell_type": "code",
   "execution_count": 44,
   "id": "5d3c63bc",
   "metadata": {},
   "outputs": [
    {
     "data": {
      "text/plain": [
       "array([[ 1.97043198],\n",
       "       [-3.49762539],\n",
       "       [ 3.35621857],\n",
       "       [ 2.98336767],\n",
       "       [-0.56106739],\n",
       "       [-3.9225953 ],\n",
       "       [ 0.51945215],\n",
       "       [ 3.02131557],\n",
       "       [ 1.06088068],\n",
       "       [ 3.51831265],\n",
       "       [ 3.96086423],\n",
       "       [ 3.58620905],\n",
       "       [-2.85653244],\n",
       "       [ 1.75010734],\n",
       "       [-3.5120304 ],\n",
       "       [ 2.13635693],\n",
       "       [ 1.69764859],\n",
       "       [-2.05219298],\n",
       "       [-3.68608082],\n",
       "       [-3.66063788],\n",
       "       [ 0.1086144 ],\n",
       "       [-3.12429303],\n",
       "       [-0.36100389],\n",
       "       [-0.67941898],\n",
       "       [-2.11514055],\n",
       "       [-1.13680862],\n",
       "       [ 0.7558757 ],\n",
       "       [ 3.1243863 ],\n",
       "       [ 1.61652787],\n",
       "       [ 3.24618748],\n",
       "       [ 2.58048476],\n",
       "       [ 3.16297045],\n",
       "       [-3.05616748],\n",
       "       [ 1.28140317],\n",
       "       [ 2.13079344],\n",
       "       [-3.79093517],\n",
       "       [ 0.30590357],\n",
       "       [ 1.72223764],\n",
       "       [-0.19811819],\n",
       "       [ 1.48127624],\n",
       "       [ 3.36294978],\n",
       "       [ 0.78448833],\n",
       "       [ 0.72022782],\n",
       "       [ 2.9329253 ],\n",
       "       [-2.31572214],\n",
       "       [-0.12767232],\n",
       "       [-3.58427762],\n",
       "       [-3.04892635],\n",
       "       [-2.39027568],\n",
       "       [ 0.22679774],\n",
       "       [ 3.99234026],\n",
       "       [-3.8480151 ],\n",
       "       [-3.08957904],\n",
       "       [ 3.38412654],\n",
       "       [-2.7127898 ],\n",
       "       [-1.97461737],\n",
       "       [-0.43516663],\n",
       "       [-2.68856817],\n",
       "       [ 1.61745475],\n",
       "       [-3.08284601],\n",
       "       [-3.67423266],\n",
       "       [-1.56440894],\n",
       "       [ 3.00709196],\n",
       "       [ 1.53805085],\n",
       "       [ 0.12462169],\n",
       "       [ 1.86504042],\n",
       "       [ 3.22724128],\n",
       "       [ 1.46959837],\n",
       "       [-3.38077067],\n",
       "       [ 0.00760478],\n",
       "       [ 3.26963747],\n",
       "       [-0.53985045],\n",
       "       [-1.85525362],\n",
       "       [-0.85787316],\n",
       "       [ 0.88155055]])"
      ]
     },
     "execution_count": 44,
     "metadata": {},
     "output_type": "execute_result"
    }
   ],
   "source": [
    "x_train"
   ]
  },
  {
   "cell_type": "code",
   "execution_count": 45,
   "id": "0ec5c264",
   "metadata": {},
   "outputs": [],
   "source": [
    "x_train_new= poly.fit_transform(x_train)\n",
    "x_test_new= poly.fit_transform(x_test)"
   ]
  },
  {
   "cell_type": "code",
   "execution_count": 46,
   "id": "24093245",
   "metadata": {},
   "outputs": [
    {
     "data": {
      "text/plain": [
       "array([[ 1.00000000e+00,  2.43351733e+00,  5.92200657e+00],\n",
       "       [ 1.00000000e+00,  2.28833224e+00,  5.23646444e+00],\n",
       "       [ 1.00000000e+00, -2.88754829e+00,  8.33793513e+00],\n",
       "       [ 1.00000000e+00,  6.78063609e-01,  4.59770257e-01],\n",
       "       [ 1.00000000e+00, -3.23089953e+00,  1.04387118e+01],\n",
       "       [ 1.00000000e+00, -2.48177505e+00,  6.15920741e+00],\n",
       "       [ 1.00000000e+00, -3.45805042e+00,  1.19581127e+01],\n",
       "       [ 1.00000000e+00, -3.24132085e+00,  1.05061609e+01],\n",
       "       [ 1.00000000e+00,  4.68265702e-01,  2.19272768e-01],\n",
       "       [ 1.00000000e+00,  2.55883360e+00,  6.54762939e+00],\n",
       "       [ 1.00000000e+00,  2.45748761e+00,  6.03924535e+00],\n",
       "       [ 1.00000000e+00, -1.05817301e+00,  1.11973011e+00],\n",
       "       [ 1.00000000e+00,  2.53141860e+00,  6.40808014e+00],\n",
       "       [ 1.00000000e+00, -4.77338484e-01,  2.27852028e-01],\n",
       "       [ 1.00000000e+00, -1.57936606e+00,  2.49439716e+00],\n",
       "       [ 1.00000000e+00,  4.97360567e-01,  2.47367534e-01],\n",
       "       [ 1.00000000e+00,  1.68855207e+00,  2.85120808e+00],\n",
       "       [ 1.00000000e+00, -2.64542345e+00,  6.99826524e+00],\n",
       "       [ 1.00000000e+00, -8.34200764e-03,  6.95890915e-05],\n",
       "       [ 1.00000000e+00,  1.74232292e-01,  3.03568916e-02],\n",
       "       [ 1.00000000e+00, -6.84283401e-01,  4.68243773e-01],\n",
       "       [ 1.00000000e+00,  9.45950388e-01,  8.94822136e-01],\n",
       "       [ 1.00000000e+00,  1.98822156e+00,  3.95302497e+00],\n",
       "       [ 1.00000000e+00,  3.83748289e+00,  1.47262749e+01],\n",
       "       [ 1.00000000e+00,  1.50634447e+00,  2.26907368e+00]])"
      ]
     },
     "execution_count": 46,
     "metadata": {},
     "output_type": "execute_result"
    }
   ],
   "source": [
    "x_test_new"
   ]
  },
  {
   "cell_type": "code",
   "execution_count": 47,
   "id": "f02b830e",
   "metadata": {},
   "outputs": [
    {
     "data": {
      "text/html": [
       "<style>#sk-container-id-4 {color: black;}#sk-container-id-4 pre{padding: 0;}#sk-container-id-4 div.sk-toggleable {background-color: white;}#sk-container-id-4 label.sk-toggleable__label {cursor: pointer;display: block;width: 100%;margin-bottom: 0;padding: 0.3em;box-sizing: border-box;text-align: center;}#sk-container-id-4 label.sk-toggleable__label-arrow:before {content: \"▸\";float: left;margin-right: 0.25em;color: #696969;}#sk-container-id-4 label.sk-toggleable__label-arrow:hover:before {color: black;}#sk-container-id-4 div.sk-estimator:hover label.sk-toggleable__label-arrow:before {color: black;}#sk-container-id-4 div.sk-toggleable__content {max-height: 0;max-width: 0;overflow: hidden;text-align: left;background-color: #f0f8ff;}#sk-container-id-4 div.sk-toggleable__content pre {margin: 0.2em;color: black;border-radius: 0.25em;background-color: #f0f8ff;}#sk-container-id-4 input.sk-toggleable__control:checked~div.sk-toggleable__content {max-height: 200px;max-width: 100%;overflow: auto;}#sk-container-id-4 input.sk-toggleable__control:checked~label.sk-toggleable__label-arrow:before {content: \"▾\";}#sk-container-id-4 div.sk-estimator input.sk-toggleable__control:checked~label.sk-toggleable__label {background-color: #d4ebff;}#sk-container-id-4 div.sk-label input.sk-toggleable__control:checked~label.sk-toggleable__label {background-color: #d4ebff;}#sk-container-id-4 input.sk-hidden--visually {border: 0;clip: rect(1px 1px 1px 1px);clip: rect(1px, 1px, 1px, 1px);height: 1px;margin: -1px;overflow: hidden;padding: 0;position: absolute;width: 1px;}#sk-container-id-4 div.sk-estimator {font-family: monospace;background-color: #f0f8ff;border: 1px dotted black;border-radius: 0.25em;box-sizing: border-box;margin-bottom: 0.5em;}#sk-container-id-4 div.sk-estimator:hover {background-color: #d4ebff;}#sk-container-id-4 div.sk-parallel-item::after {content: \"\";width: 100%;border-bottom: 1px solid gray;flex-grow: 1;}#sk-container-id-4 div.sk-label:hover label.sk-toggleable__label {background-color: #d4ebff;}#sk-container-id-4 div.sk-serial::before {content: \"\";position: absolute;border-left: 1px solid gray;box-sizing: border-box;top: 0;bottom: 0;left: 50%;z-index: 0;}#sk-container-id-4 div.sk-serial {display: flex;flex-direction: column;align-items: center;background-color: white;padding-right: 0.2em;padding-left: 0.2em;position: relative;}#sk-container-id-4 div.sk-item {position: relative;z-index: 1;}#sk-container-id-4 div.sk-parallel {display: flex;align-items: stretch;justify-content: center;background-color: white;position: relative;}#sk-container-id-4 div.sk-item::before, #sk-container-id-4 div.sk-parallel-item::before {content: \"\";position: absolute;border-left: 1px solid gray;box-sizing: border-box;top: 0;bottom: 0;left: 50%;z-index: -1;}#sk-container-id-4 div.sk-parallel-item {display: flex;flex-direction: column;z-index: 1;position: relative;background-color: white;}#sk-container-id-4 div.sk-parallel-item:first-child::after {align-self: flex-end;width: 50%;}#sk-container-id-4 div.sk-parallel-item:last-child::after {align-self: flex-start;width: 50%;}#sk-container-id-4 div.sk-parallel-item:only-child::after {width: 0;}#sk-container-id-4 div.sk-dashed-wrapped {border: 1px dashed gray;margin: 0 0.4em 0.5em 0.4em;box-sizing: border-box;padding-bottom: 0.4em;background-color: white;}#sk-container-id-4 div.sk-label label {font-family: monospace;font-weight: bold;display: inline-block;line-height: 1.2em;}#sk-container-id-4 div.sk-label-container {text-align: center;}#sk-container-id-4 div.sk-container {/* jupyter's `normalize.less` sets `[hidden] { display: none; }` but bootstrap.min.css set `[hidden] { display: none !important; }` so we also need the `!important` here to be able to override the default hidden behavior on the sphinx rendered scikit-learn.org. See: https://github.com/scikit-learn/scikit-learn/issues/21755 */display: inline-block !important;position: relative;}#sk-container-id-4 div.sk-text-repr-fallback {display: none;}</style><div id=\"sk-container-id-4\" class=\"sk-top-container\"><div class=\"sk-text-repr-fallback\"><pre>LinearRegression()</pre><b>In a Jupyter environment, please rerun this cell to show the HTML representation or trust the notebook. <br />On GitHub, the HTML representation is unable to render, please try loading this page with nbviewer.org.</b></div><div class=\"sk-container\" hidden><div class=\"sk-item\"><div class=\"sk-estimator sk-toggleable\"><input class=\"sk-toggleable__control sk-hidden--visually\" id=\"sk-estimator-id-4\" type=\"checkbox\" checked><label for=\"sk-estimator-id-4\" class=\"sk-toggleable__label sk-toggleable__label-arrow\">LinearRegression</label><div class=\"sk-toggleable__content\"><pre>LinearRegression()</pre></div></div></div></div></div>"
      ],
      "text/plain": [
       "LinearRegression()"
      ]
     },
     "execution_count": 47,
     "metadata": {},
     "output_type": "execute_result"
    }
   ],
   "source": [
    "lin_model.fit(x_train_new,y_train)"
   ]
  },
  {
   "cell_type": "code",
   "execution_count": 48,
   "id": "c4e27cc7",
   "metadata": {},
   "outputs": [],
   "source": [
    "y_pred= lin_model.predict(x_train_new)"
   ]
  },
  {
   "cell_type": "code",
   "execution_count": 49,
   "id": "60538d8b",
   "metadata": {},
   "outputs": [
    {
     "data": {
      "text/plain": [
       "0.999311225450877"
      ]
     },
     "execution_count": 49,
     "metadata": {},
     "output_type": "execute_result"
    }
   ],
   "source": [
    "r2_score(y_train,y_pred)"
   ]
  },
  {
   "cell_type": "code",
   "execution_count": 52,
   "id": "ac57f896",
   "metadata": {},
   "outputs": [
    {
     "data": {
      "text/plain": [
       "<matplotlib.collections.PathCollection at 0x2028b7a9050>"
      ]
     },
     "execution_count": 52,
     "metadata": {},
     "output_type": "execute_result"
    },
    {
     "data": {
      "image/png": "[encoded data removed]",
      "text/plain": [
       "<Figure size 640x480 with 1 Axes>"
      ]
     },
     "metadata": {},
     "output_type": "display_data"
    }
   ],
   "source": [
    "plt.scatter(x_train,y_train,color='green')\n",
    "plt.scatter(x_train,y_pred,color='black')"
   ]
  },
  {
   "cell_type": "code",
   "execution_count": 66,
   "id": "de2a0270",
   "metadata": {},
   "outputs": [],
   "source": [
    "new=np.linspace(-3,3,100).reshape(100,1)"
   ]
  },
  {
   "cell_type": "code",
   "execution_count": 67,
   "id": "23c674d9",
   "metadata": {},
   "outputs": [],
   "source": [
    "x_new= poly.fit_transform(new)"
   ]
  },
  {
   "cell_type": "code",
   "execution_count": 68,
   "id": "2882c08d",
   "metadata": {},
   "outputs": [
    {
     "data": {
      "text/plain": [
       "array([[ 1.00000000e+00, -3.00000000e+00,  9.00000000e+00],\n",
       "       [ 1.00000000e+00, -2.93939394e+00,  8.64003673e+00],\n",
       "       [ 1.00000000e+00, -2.87878788e+00,  8.28741965e+00],\n",
       "       [ 1.00000000e+00, -2.81818182e+00,  7.94214876e+00],\n",
       "       [ 1.00000000e+00, -2.75757576e+00,  7.60422406e+00],\n",
       "       [ 1.00000000e+00, -2.69696970e+00,  7.27364555e+00],\n",
       "       [ 1.00000000e+00, -2.63636364e+00,  6.95041322e+00],\n",
       "       [ 1.00000000e+00, -2.57575758e+00,  6.63452709e+00],\n",
       "       [ 1.00000000e+00, -2.51515152e+00,  6.32598714e+00],\n",
       "       [ 1.00000000e+00, -2.45454545e+00,  6.02479339e+00],\n",
       "       [ 1.00000000e+00, -2.39393939e+00,  5.73094582e+00],\n",
       "       [ 1.00000000e+00, -2.33333333e+00,  5.44444444e+00],\n",
       "       [ 1.00000000e+00, -2.27272727e+00,  5.16528926e+00],\n",
       "       [ 1.00000000e+00, -2.21212121e+00,  4.89348026e+00],\n",
       "       [ 1.00000000e+00, -2.15151515e+00,  4.62901745e+00],\n",
       "       [ 1.00000000e+00, -2.09090909e+00,  4.37190083e+00],\n",
       "       [ 1.00000000e+00, -2.03030303e+00,  4.12213039e+00],\n",
       "       [ 1.00000000e+00, -1.96969697e+00,  3.87970615e+00],\n",
       "       [ 1.00000000e+00, -1.90909091e+00,  3.64462810e+00],\n",
       "       [ 1.00000000e+00, -1.84848485e+00,  3.41689624e+00],\n",
       "       [ 1.00000000e+00, -1.78787879e+00,  3.19651056e+00],\n",
       "       [ 1.00000000e+00, -1.72727273e+00,  2.98347107e+00],\n",
       "       [ 1.00000000e+00, -1.66666667e+00,  2.77777778e+00],\n",
       "       [ 1.00000000e+00, -1.60606061e+00,  2.57943067e+00],\n",
       "       [ 1.00000000e+00, -1.54545455e+00,  2.38842975e+00],\n",
       "       [ 1.00000000e+00, -1.48484848e+00,  2.20477502e+00],\n",
       "       [ 1.00000000e+00, -1.42424242e+00,  2.02846648e+00],\n",
       "       [ 1.00000000e+00, -1.36363636e+00,  1.85950413e+00],\n",
       "       [ 1.00000000e+00, -1.30303030e+00,  1.69788797e+00],\n",
       "       [ 1.00000000e+00, -1.24242424e+00,  1.54361800e+00],\n",
       "       [ 1.00000000e+00, -1.18181818e+00,  1.39669421e+00],\n",
       "       [ 1.00000000e+00, -1.12121212e+00,  1.25711662e+00],\n",
       "       [ 1.00000000e+00, -1.06060606e+00,  1.12488522e+00],\n",
       "       [ 1.00000000e+00, -1.00000000e+00,  1.00000000e+00],\n",
       "       [ 1.00000000e+00, -9.39393939e-01,  8.82460973e-01],\n",
       "       [ 1.00000000e+00, -8.78787879e-01,  7.72268136e-01],\n",
       "       [ 1.00000000e+00, -8.18181818e-01,  6.69421488e-01],\n",
       "       [ 1.00000000e+00, -7.57575758e-01,  5.73921028e-01],\n",
       "       [ 1.00000000e+00, -6.96969697e-01,  4.85766758e-01],\n",
       "       [ 1.00000000e+00, -6.36363636e-01,  4.04958678e-01],\n",
       "       [ 1.00000000e+00, -5.75757576e-01,  3.31496786e-01],\n",
       "       [ 1.00000000e+00, -5.15151515e-01,  2.65381084e-01],\n",
       "       [ 1.00000000e+00, -4.54545455e-01,  2.06611570e-01],\n",
       "       [ 1.00000000e+00, -3.93939394e-01,  1.55188246e-01],\n",
       "       [ 1.00000000e+00, -3.33333333e-01,  1.11111111e-01],\n",
       "       [ 1.00000000e+00, -2.72727273e-01,  7.43801653e-02],\n",
       "       [ 1.00000000e+00, -2.12121212e-01,  4.49954086e-02],\n",
       "       [ 1.00000000e+00, -1.51515152e-01,  2.29568411e-02],\n",
       "       [ 1.00000000e+00, -9.09090909e-02,  8.26446281e-03],\n",
       "       [ 1.00000000e+00, -3.03030303e-02,  9.18273646e-04],\n",
       "       [ 1.00000000e+00,  3.03030303e-02,  9.18273646e-04],\n",
       "       [ 1.00000000e+00,  9.09090909e-02,  8.26446281e-03],\n",
       "       [ 1.00000000e+00,  1.51515152e-01,  2.29568411e-02],\n",
       "       [ 1.00000000e+00,  2.12121212e-01,  4.49954086e-02],\n",
       "       [ 1.00000000e+00,  2.72727273e-01,  7.43801653e-02],\n",
       "       [ 1.00000000e+00,  3.33333333e-01,  1.11111111e-01],\n",
       "       [ 1.00000000e+00,  3.93939394e-01,  1.55188246e-01],\n",
       "       [ 1.00000000e+00,  4.54545455e-01,  2.06611570e-01],\n",
       "       [ 1.00000000e+00,  5.15151515e-01,  2.65381084e-01],\n",
       "       [ 1.00000000e+00,  5.75757576e-01,  3.31496786e-01],\n",
       "       [ 1.00000000e+00,  6.36363636e-01,  4.04958678e-01],\n",
       "       [ 1.00000000e+00,  6.96969697e-01,  4.85766758e-01],\n",
       "       [ 1.00000000e+00,  7.57575758e-01,  5.73921028e-01],\n",
       "       [ 1.00000000e+00,  8.18181818e-01,  6.69421488e-01],\n",
       "       [ 1.00000000e+00,  8.78787879e-01,  7.72268136e-01],\n",
       "       [ 1.00000000e+00,  9.39393939e-01,  8.82460973e-01],\n",
       "       [ 1.00000000e+00,  1.00000000e+00,  1.00000000e+00],\n",
       "       [ 1.00000000e+00,  1.06060606e+00,  1.12488522e+00],\n",
       "       [ 1.00000000e+00,  1.12121212e+00,  1.25711662e+00],\n",
       "       [ 1.00000000e+00,  1.18181818e+00,  1.39669421e+00],\n",
       "       [ 1.00000000e+00,  1.24242424e+00,  1.54361800e+00],\n",
       "       [ 1.00000000e+00,  1.30303030e+00,  1.69788797e+00],\n",
       "       [ 1.00000000e+00,  1.36363636e+00,  1.85950413e+00],\n",
       "       [ 1.00000000e+00,  1.42424242e+00,  2.02846648e+00],\n",
       "       [ 1.00000000e+00,  1.48484848e+00,  2.20477502e+00],\n",
       "       [ 1.00000000e+00,  1.54545455e+00,  2.38842975e+00],\n",
       "       [ 1.00000000e+00,  1.60606061e+00,  2.57943067e+00],\n",
       "       [ 1.00000000e+00,  1.66666667e+00,  2.77777778e+00],\n",
       "       [ 1.00000000e+00,  1.72727273e+00,  2.98347107e+00],\n",
       "       [ 1.00000000e+00,  1.78787879e+00,  3.19651056e+00],\n",
       "       [ 1.00000000e+00,  1.84848485e+00,  3.41689624e+00],\n",
       "       [ 1.00000000e+00,  1.90909091e+00,  3.64462810e+00],\n",
       "       [ 1.00000000e+00,  1.96969697e+00,  3.87970615e+00],\n",
       "       [ 1.00000000e+00,  2.03030303e+00,  4.12213039e+00],\n",
       "       [ 1.00000000e+00,  2.09090909e+00,  4.37190083e+00],\n",
       "       [ 1.00000000e+00,  2.15151515e+00,  4.62901745e+00],\n",
       "       [ 1.00000000e+00,  2.21212121e+00,  4.89348026e+00],\n",
       "       [ 1.00000000e+00,  2.27272727e+00,  5.16528926e+00],\n",
       "       [ 1.00000000e+00,  2.33333333e+00,  5.44444444e+00],\n",
       "       [ 1.00000000e+00,  2.39393939e+00,  5.73094582e+00],\n",
       "       [ 1.00000000e+00,  2.45454545e+00,  6.02479339e+00],\n",
       "       [ 1.00000000e+00,  2.51515152e+00,  6.32598714e+00],\n",
       "       [ 1.00000000e+00,  2.57575758e+00,  6.63452709e+00],\n",
       "       [ 1.00000000e+00,  2.63636364e+00,  6.95041322e+00],\n",
       "       [ 1.00000000e+00,  2.69696970e+00,  7.27364555e+00],\n",
       "       [ 1.00000000e+00,  2.75757576e+00,  7.60422406e+00],\n",
       "       [ 1.00000000e+00,  2.81818182e+00,  7.94214876e+00],\n",
       "       [ 1.00000000e+00,  2.87878788e+00,  8.28741965e+00],\n",
       "       [ 1.00000000e+00,  2.93939394e+00,  8.64003673e+00],\n",
       "       [ 1.00000000e+00,  3.00000000e+00,  9.00000000e+00]])"
      ]
     },
     "execution_count": 68,
     "metadata": {},
     "output_type": "execute_result"
    }
   ],
   "source": [
    "x_new"
   ]
  },
  {
   "cell_type": "code",
   "execution_count": 69,
   "id": "6f8eea8e",
   "metadata": {},
   "outputs": [],
   "source": [
    "y_new= lin_model.predict(x_new)"
   ]
  },
  {
   "cell_type": "code",
   "execution_count": 70,
   "id": "14fa4a4b",
   "metadata": {},
   "outputs": [
    {
     "data": {
      "text/plain": [
       "array([[13.96201316],\n",
       "       [13.33231233],\n",
       "       [12.71732625],\n",
       "       [12.11705493],\n",
       "       [11.53149836],\n",
       "       [10.96065654],\n",
       "       [10.40452948],\n",
       "       [ 9.86311717],\n",
       "       [ 9.33641961],\n",
       "       [ 8.82443681],\n",
       "       [ 8.32716877],\n",
       "       [ 7.84461547],\n",
       "       [ 7.37677693],\n",
       "       [ 6.92365314],\n",
       "       [ 6.48524411],\n",
       "       [ 6.06154983],\n",
       "       [ 5.6525703 ],\n",
       "       [ 5.25830553],\n",
       "       [ 4.87875551],\n",
       "       [ 4.51392025],\n",
       "       [ 4.16379974],\n",
       "       [ 3.82839398],\n",
       "       [ 3.50770298],\n",
       "       [ 3.20172673],\n",
       "       [ 2.91046523],\n",
       "       [ 2.63391849],\n",
       "       [ 2.3720865 ],\n",
       "       [ 2.12496926],\n",
       "       [ 1.89256678],\n",
       "       [ 1.67487905],\n",
       "       [ 1.47190607],\n",
       "       [ 1.28364785],\n",
       "       [ 1.11010439],\n",
       "       [ 0.95127567],\n",
       "       [ 0.80716171],\n",
       "       [ 0.6777625 ],\n",
       "       [ 0.56307805],\n",
       "       [ 0.46310835],\n",
       "       [ 0.37785341],\n",
       "       [ 0.30731321],\n",
       "       [ 0.25148778],\n",
       "       [ 0.21037709],\n",
       "       [ 0.18398116],\n",
       "       [ 0.17229998],\n",
       "       [ 0.17533356],\n",
       "       [ 0.19308189],\n",
       "       [ 0.22554497],\n",
       "       [ 0.27272281],\n",
       "       [ 0.3346154 ],\n",
       "       [ 0.41122275],\n",
       "       [ 0.50254484],\n",
       "       [ 0.60858169],\n",
       "       [ 0.7293333 ],\n",
       "       [ 0.86479966],\n",
       "       [ 1.01498077],\n",
       "       [ 1.17987664],\n",
       "       [ 1.35948726],\n",
       "       [ 1.55381263],\n",
       "       [ 1.76285276],\n",
       "       [ 1.98660764],\n",
       "       [ 2.22507728],\n",
       "       [ 2.47826166],\n",
       "       [ 2.74616081],\n",
       "       [ 3.0287747 ],\n",
       "       [ 3.32610335],\n",
       "       [ 3.63814675],\n",
       "       [ 3.96490491],\n",
       "       [ 4.30637782],\n",
       "       [ 4.66256548],\n",
       "       [ 5.0334679 ],\n",
       "       [ 5.41908507],\n",
       "       [ 5.819417  ],\n",
       "       [ 6.23446368],\n",
       "       [ 6.66422511],\n",
       "       [ 7.10870129],\n",
       "       [ 7.56789223],\n",
       "       [ 8.04179793],\n",
       "       [ 8.53041837],\n",
       "       [ 9.03375357],\n",
       "       [ 9.55180353],\n",
       "       [10.08456823],\n",
       "       [10.6320477 ],\n",
       "       [11.19424191],\n",
       "       [11.77115088],\n",
       "       [12.3627746 ],\n",
       "       [12.96911308],\n",
       "       [13.59016631],\n",
       "       [14.22593429],\n",
       "       [14.87641703],\n",
       "       [15.54161452],\n",
       "       [16.22152676],\n",
       "       [16.91615376],\n",
       "       [17.62549551],\n",
       "       [18.34955202],\n",
       "       [19.08832327],\n",
       "       [19.84180929],\n",
       "       [20.61001005],\n",
       "       [21.39292557],\n",
       "       [22.19055585],\n",
       "       [23.00290087]])"
      ]
     },
     "execution_count": 70,
     "metadata": {},
     "output_type": "execute_result"
    }
   ],
   "source": [
    "y_new"
   ]
  },
  {
   "cell_type": "code",
   "execution_count": 71,
   "id": "bd87e11d",
   "metadata": {},
   "outputs": [
    {
     "data": {
      "text/plain": [
       "<matplotlib.legend.Legend at 0x2028d88f450>"
      ]
     },
     "execution_count": 71,
     "metadata": {},
     "output_type": "execute_result"
    },
    {
     "data": {
      "image/png": "[encoded data removed]",
      "text/plain": [
       "<Figure size 640x480 with 1 Axes>"
      ]
     },
     "metadata": {},
     "output_type": "display_data"
    }
   ],
   "source": [
    "plt.plot(new,y_new,label='Prediction_values',color='red')\n",
    "plt.scatter(x_train,y_train,label='Training_data',color='green')\n",
    "plt.scatter(x_test,y_test,label='Testing_data',color='orange')\n",
    "plt.legend()"
   ]
  },
  {
   "cell_type": "markdown",
   "id": "a33530c3",
   "metadata": {},
   "source": [
    "## Gradient_Descent"
   ]
  },
  {
   "cell_type": "code",
   "execution_count": 84,
   "id": "62a95f62",
   "metadata": {},
   "outputs": [],
   "source": [
    "df= pd.read_csv('regr.txt',sep=' ',header=None,names=['f','t'])"
   ]
  },
  {
   "cell_type": "code",
   "execution_count": 85,
   "id": "d0d31c96",
   "metadata": {},
   "outputs": [
    {
     "data": {
      "text/html": [
       "<div>\n",
       "<style scoped>\n",
       "    .dataframe tbody tr th:only-of-type {\n",
       "        vertical-align: middle;\n",
       "    }\n",
       "\n",
       "    .dataframe tbody tr th {\n",
       "        vertical-align: top;\n",
       "    }\n",
       "\n",
       "    .dataframe thead th {\n",
       "        text-align: right;\n",
       "    }\n",
       "</style>\n",
       "<table border=\"1\" class=\"dataframe\">\n",
       "  <thead>\n",
       "    <tr style=\"text-align: right;\">\n",
       "      <th></th>\n",
       "      <th>f</th>\n",
       "      <th>t</th>\n",
       "    </tr>\n",
       "  </thead>\n",
       "  <tbody>\n",
       "    <tr>\n",
       "      <th>0</th>\n",
       "      <td>0.10</td>\n",
       "      <td>0.69004</td>\n",
       "    </tr>\n",
       "    <tr>\n",
       "      <th>1</th>\n",
       "      <td>0.11</td>\n",
       "      <td>0.69497</td>\n",
       "    </tr>\n",
       "    <tr>\n",
       "      <th>2</th>\n",
       "      <td>0.12</td>\n",
       "      <td>0.74252</td>\n",
       "    </tr>\n",
       "    <tr>\n",
       "      <th>3</th>\n",
       "      <td>0.13</td>\n",
       "      <td>0.75360</td>\n",
       "    </tr>\n",
       "    <tr>\n",
       "      <th>4</th>\n",
       "      <td>0.14</td>\n",
       "      <td>0.83568</td>\n",
       "    </tr>\n",
       "    <tr>\n",
       "      <th>...</th>\n",
       "      <td>...</td>\n",
       "      <td>...</td>\n",
       "    </tr>\n",
       "    <tr>\n",
       "      <th>85</th>\n",
       "      <td>0.95</td>\n",
       "      <td>1.98410</td>\n",
       "    </tr>\n",
       "    <tr>\n",
       "      <th>86</th>\n",
       "      <td>0.96</td>\n",
       "      <td>2.00660</td>\n",
       "    </tr>\n",
       "    <tr>\n",
       "      <th>87</th>\n",
       "      <td>0.97</td>\n",
       "      <td>2.04930</td>\n",
       "    </tr>\n",
       "    <tr>\n",
       "      <th>88</th>\n",
       "      <td>0.98</td>\n",
       "      <td>2.05030</td>\n",
       "    </tr>\n",
       "    <tr>\n",
       "      <th>89</th>\n",
       "      <td>0.99</td>\n",
       "      <td>2.02140</td>\n",
       "    </tr>\n",
       "  </tbody>\n",
       "</table>\n",
       "<p>90 rows × 2 columns</p>\n",
       "</div>"
      ],
      "text/plain": [
       "       f        t\n",
       "0   0.10  0.69004\n",
       "1   0.11  0.69497\n",
       "2   0.12  0.74252\n",
       "3   0.13  0.75360\n",
       "4   0.14  0.83568\n",
       "..   ...      ...\n",
       "85  0.95  1.98410\n",
       "86  0.96  2.00660\n",
       "87  0.97  2.04930\n",
       "88  0.98  2.05030\n",
       "89  0.99  2.02140\n",
       "\n",
       "[90 rows x 2 columns]"
      ]
     },
     "execution_count": 85,
     "metadata": {},
     "output_type": "execute_result"
    }
   ],
   "source": [
    "df"
   ]
  },
  {
   "cell_type": "code",
   "execution_count": 93,
   "id": "eb4071dc",
   "metadata": {},
   "outputs": [],
   "source": [
    "f= df['f'].values\n",
    "t=df['t'].values"
   ]
  },
  {
   "cell_type": "code",
   "execution_count": 94,
   "id": "87345e96",
   "metadata": {},
   "outputs": [
    {
     "data": {
      "text/plain": [
       "array([0.69004, 0.69497, 0.74252, 0.7536 , 0.83568, 0.86789, 0.84182,\n",
       "       0.85379, 0.85762, 0.8839 , 0.89985, 0.98436, 1.0244 , 1.0572 ,\n",
       "       0.99077, 1.0058 , 1.0727 , 1.0943 , 1.1432 , 1.1045 , 1.1867 ,\n",
       "       1.1385 , 1.2245 , 1.2406 , 1.2071 , 1.2658 , 1.2995 , 1.3142 ,\n",
       "       1.2663 , 1.2578 , 1.2991 , 1.3058 , 1.3478 , 1.3506 , 1.4044 ,\n",
       "       1.3948 , 1.38   , 1.448  , 1.4168 , 1.4719 , 1.4656 , 1.4399 ,\n",
       "       1.5174 , 1.4988 , 1.4751 , 1.5326 , 1.5297 , 1.5372 , 1.6094 ,\n",
       "       1.6352 , 1.5843 , 1.6643 , 1.5987 , 1.6585 , 1.6317 , 1.7074 ,\n",
       "       1.6654 , 1.6551 , 1.6964 , 1.7143 , 1.7706 , 1.7622 , 1.726  ,\n",
       "       1.8089 , 1.7905 , 1.7428 , 1.8381 , 1.8182 , 1.7865 , 1.7995 ,\n",
       "       1.8296 , 1.8625 , 1.8623 , 1.8383 , 1.8593 , 1.8944 , 1.9598 ,\n",
       "       1.9    , 1.9244 , 1.9397 , 1.944  , 1.9718 , 1.9383 , 1.9555 ,\n",
       "       2.0006 , 1.9841 , 2.0066 , 2.0493 , 2.0503 , 2.0214 ])"
      ]
     },
     "execution_count": 94,
     "metadata": {},
     "output_type": "execute_result"
    }
   ],
   "source": [
    "t"
   ]
  },
  {
   "cell_type": "code",
   "execution_count": 95,
   "id": "d63c3462",
   "metadata": {},
   "outputs": [
    {
     "data": {
      "text/plain": [
       "array([0.1 , 0.11, 0.12, 0.13, 0.14, 0.15, 0.16, 0.17, 0.18, 0.19, 0.2 ,\n",
       "       0.21, 0.22, 0.23, 0.24, 0.25, 0.26, 0.27, 0.28, 0.29, 0.3 , 0.31,\n",
       "       0.32, 0.33, 0.34, 0.35, 0.36, 0.37, 0.38, 0.39, 0.4 , 0.41, 0.42,\n",
       "       0.43, 0.44, 0.45, 0.46, 0.47, 0.48, 0.49, 0.5 , 0.51, 0.52, 0.53,\n",
       "       0.54, 0.55, 0.56, 0.57, 0.58, 0.59, 0.6 , 0.61, 0.62, 0.63, 0.64,\n",
       "       0.65, 0.66, 0.67, 0.68, 0.69, 0.7 , 0.71, 0.72, 0.73, 0.74, 0.75,\n",
       "       0.76, 0.77, 0.78, 0.79, 0.8 , 0.81, 0.82, 0.83, 0.84, 0.85, 0.86,\n",
       "       0.87, 0.88, 0.89, 0.9 , 0.91, 0.92, 0.93, 0.94, 0.95, 0.96, 0.97,\n",
       "       0.98, 0.99])"
      ]
     },
     "execution_count": 95,
     "metadata": {},
     "output_type": "execute_result"
    }
   ],
   "source": [
    "f"
   ]
  },
  {
   "cell_type": "code",
   "execution_count": null,
   "id": "0c9256a1",
   "metadata": {},
   "outputs": [],
   "source": []
  }
 ],
 "metadata": {
  "kernelspec": {
   "display_name": "Python 3 (ipykernel)",
   "language": "python",
   "name": "python3"
  },
  "language_info": {
   "codemirror_mode": {
    "name": "ipython",
    "version": 3
   },
   "file_extension": ".py",
   "mimetype": "text/x-python",
   "name": "python",
   "nbconvert_exporter": "python",
   "pygments_lexer": "ipython3",
   "version": "3.11.5"
  }
 },
 "nbformat": 4,
 "nbformat_minor": 5
}
